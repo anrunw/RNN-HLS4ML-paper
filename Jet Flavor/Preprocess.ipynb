{
 "cells": [
  {
   "cell_type": "code",
   "execution_count": 3,
   "metadata": {
    "id": "LAVC0MXvodx8"
   },
   "outputs": [],
   "source": [
    "import json\n",
    "import pandas as pd\n",
    "import h5py\n",
    "import numpy as np\n",
    "import tensorflow as tf\n",
    "import keras\n",
    "from keras.layers import Input, Dense, Dropout, LSTM, Flatten, GRU,TimeDistributed, Conv1D\n",
    "from keras.models import Model, Sequential\n",
    "from keras.optimizers import Adam, SGD\n",
    "from sklearn.model_selection import train_test_split\n",
    "import os\n",
    "import h5py\n",
    "import matplotlib.pyplot as plt\n",
    "from keras import regularizers\n",
    "from tensorflow.keras.regularizers import l1\n",
    "import ast\n",
    "from tqdm import tqdm\n",
    "from sklearn.model_selection import RandomizedSearchCV\n",
    "from scipy.stats import uniform, truncnorm, randint\n",
    "from sklearn.metrics import make_scorer\n",
    "from sklearn.metrics import accuracy_score, precision_score, recall_score\n",
    "from sklearn.model_selection import RepeatedStratifiedKFold\n",
    "from scipy.stats import loguniform\n",
    "from pandas import read_csv\n",
    "from keras.wrappers.scikit_learn import KerasClassifier\n"
   ]
  },
  {
   "cell_type": "code",
   "execution_count": 4,
   "metadata": {},
   "outputs": [],
   "source": [
    "checkpoint_dir = os.path.dirname(checkpoint_path)\n"
   ]
  },
  {
   "cell_type": "code",
   "execution_count": 5,
   "metadata": {},
   "outputs": [],
   "source": [
    "cp_callback = tf.keras.callbacks.ModelCheckpoint(filepath=checkpoint_path,\n",
    "                                                 save_weights_only=True,\n",
    "                                                 verbose=1)"
   ]
  },
  {
   "cell_type": "code",
   "execution_count": 2,
   "metadata": {
    "colab": {
     "base_uri": "https://localhost:8080/"
    },
    "id": "DKh7w7h8Z641",
    "outputId": "6c79afbe-1730-4d89-9728-4b7fb8c24b94"
   },
   "outputs": [
    {
     "name": "stdout",
     "output_type": "stream",
     "text": [
      "Collecting tables\n",
      "\u001b[?25l  Downloading https://files.pythonhosted.org/packages/ed/c3/8fd9e3bb21872f9d69eb93b3014c86479864cca94e625fd03713ccacec80/tables-3.6.1-cp36-cp36m-manylinux1_x86_64.whl (4.3MB)\n",
      "\u001b[K     |████████████████████████████████| 4.3MB 5.9MB/s \n",
      "\u001b[?25hRequirement already satisfied, skipping upgrade: numpy>=1.9.3 in /usr/local/lib/python3.6/dist-packages (from tables) (1.19.4)\n",
      "Requirement already satisfied, skipping upgrade: numexpr>=2.6.2 in /usr/local/lib/python3.6/dist-packages (from tables) (2.7.1)\n",
      "Installing collected packages: tables\n",
      "  Found existing installation: tables 3.4.4\n",
      "    Uninstalling tables-3.4.4:\n",
      "      Successfully uninstalled tables-3.4.4\n",
      "Successfully installed tables-3.6.1\n"
     ]
    }
   ],
   "source": [
    "pip install --upgrade tables\r\n"
   ]
  },
  {
   "cell_type": "code",
   "execution_count": 9,
   "metadata": {
    "id": "gOlW-DeUodyA"
   },
   "outputs": [],
   "source": [
    "def learningCurve(history):\n",
    "    plt.figure(figsize=(10,8))\n",
    "    plt.plot(history.history['loss'], linewidth=1)\n",
    "    plt.plot(history.history['val_loss'], linewidth=1)\n",
    "    plt.title('Model Loss over Epochs')\n",
    "    plt.ylabel('Loss')\n",
    "    plt.xlabel('Epoch')\n",
    "    plt.legend(['training sample loss','validation sample loss'])\n",
    "    #plt.savefig('Learning_curve.pdf')\n",
    "    plt.show()\n",
    "    plt.close()"
   ]
  },
  {
   "cell_type": "code",
   "execution_count": 10,
   "metadata": {
    "id": "-E6inLdrodyC"
   },
   "outputs": [],
   "source": [
    "def makeRoc(features_val, labels_val, labels, model, outputDir='', outputSuffix=''):\n",
    "    from sklearn.metrics import roc_curve, auc\n",
    "    labels_pred = model.predict(features_val)\n",
    "    df = pd.DataFrame()\n",
    "    fpr = {}\n",
    "    tpr = {}\n",
    "    auc1 = {}\n",
    "    plt.figure(figsize=(10,8))       \n",
    "    for i, label in enumerate(labels):\n",
    "        df[label] = labels_val[:,i]\n",
    "        df[label + '_pred'] = labels_pred[:,i]\n",
    "        fpr[label], tpr[label], threshold = roc_curve(df[label],df[label+'_pred'])\n",
    "        auc1[label] = auc(fpr[label], tpr[label])\n",
    "        plt.plot(fpr[label],tpr[label],label='%s tagger, AUC = %.1f%%'%(label.replace('j_',''),auc1[label]*100.))\n",
    "    plt.plot([0, 1], [0, 1], lw=1, color='black', linestyle='--')\n",
    "    #plt.semilogy()\n",
    "    plt.xlabel(\"Background Efficiency\")\n",
    "    plt.ylabel(\"Signal Efficiency\")\n",
    "    plt.xlim([-0.05, 1.05])\n",
    "    plt.ylim(0.001,1.05)\n",
    "    plt.grid(True)\n",
    "    plt.legend(loc='lower right')\n",
    "    plt.figtext(0.25, 0.90,'LSTM ROC Curve',fontweight='bold', wrap=True, horizontalalignment='right', fontsize=14)\n",
    "    #plt.figtext(0.35, 0.90,'preliminary', style='italic', wrap=True, horizontalalignment='center', fontsize=14) \n",
    "    #plt.savefig('%sROC_%s.pdf'%(outputDir, outputSuffix))\n",
    "    return labels_pred"
   ]
  },
  {
   "cell_type": "code",
   "execution_count": 11,
   "metadata": {
    "id": "qZZNv5NYodyC"
   },
   "outputs": [],
   "source": [
    "scorers = {\n",
    "        'precision_score': make_scorer(precision_score),\n",
    "        'recall_score': make_scorer(recall_score),\n",
    "        'accuracy_score': make_scorer(accuracy_score)\n",
    "        }"
   ]
  },
  {
   "cell_type": "code",
   "execution_count": 2,
   "metadata": {},
   "outputs": [
    {
     "name": "stderr",
     "output_type": "stream",
     "text": [
      "/global/homes/a/anrunw/miniconda2/envs/myenv/lib/python3.7/site-packages/ipykernel_launcher.py:8: VisibleDeprecationWarning: Creating an ndarray from ragged nested sequences (which is a list-or-tuple of lists-or-tuples-or ndarrays with different lengths or shapes) is deprecated. If you meant to do this, you must specify 'dtype=object' when creating the ndarray\n",
      "  \n"
     ]
    }
   ],
   "source": [
    "tweets = []\n",
    "num = 0\n",
    "for line in open('dataset.json', 'r'):\n",
    "    num = num + 1\n",
    "    if num <1000000:\n",
    "        tweets.append(json.loads(line))\n",
    "\n",
    "data = np.array(tweets)"
   ]
  },
  {
   "cell_type": "code",
   "execution_count": 51,
   "metadata": {},
   "outputs": [
    {
     "data": {
      "text/plain": [
       "[[[0.0311627, 0.0820037, 0.0714865, 0.0122187, -0.0702538],\n",
       "  [0.000626321,\n",
       "   -2.06042e-06,\n",
       "   0.00897404,\n",
       "   -4.44436e-06,\n",
       "   2.2186e-07,\n",
       "   5.92208e-08,\n",
       "   -7.96081e-08,\n",
       "   1.86396e-05,\n",
       "   1.22249e-09,\n",
       "   9.49398e-08,\n",
       "   -4.94616e-06,\n",
       "   -4.01517e-07,\n",
       "   9.04106e-08,\n",
       "   -5.40489e-10,\n",
       "   1.00434e-06],\n",
       "  [0.971217],\n",
       "  [0.305714, 0, 'NaN', 'NaN', 0, 2, 0.278014]],\n",
       " [[0.0440594, 0.0793784, 0.0859708, 0.00393219, 0.113113],\n",
       "  [0.000626321,\n",
       "   -2.06042e-06,\n",
       "   0.00897404,\n",
       "   -4.44436e-06,\n",
       "   2.2186e-07,\n",
       "   5.92208e-08,\n",
       "   -7.96081e-08,\n",
       "   1.86396e-05,\n",
       "   1.22249e-09,\n",
       "   9.49398e-08,\n",
       "   -4.94616e-06,\n",
       "   -4.01517e-07,\n",
       "   9.04106e-08,\n",
       "   -5.40489e-10,\n",
       "   1.00434e-06],\n",
       "  [0.942343],\n",
       "  [0.305714, 0, 'NaN', 'NaN', 0, 2, 0.278014]],\n",
       " [[-0.312833, 1.02502, -0.132586, 0.00861097, -0.193043],\n",
       "  [0.000626321,\n",
       "   -2.06042e-06,\n",
       "   0.00897404,\n",
       "   -4.44436e-06,\n",
       "   2.2186e-07,\n",
       "   5.92208e-08,\n",
       "   -7.96081e-08,\n",
       "   1.86396e-05,\n",
       "   1.22249e-09,\n",
       "   9.49398e-08,\n",
       "   -4.94616e-06,\n",
       "   -4.01517e-07,\n",
       "   9.04106e-08,\n",
       "   -5.40489e-10,\n",
       "   1.00434e-06],\n",
       "  [0.606197],\n",
       "  [0.687111, 4.07223, 0.20831, 0.190906, 0.61576, 3, 0.202447]],\n",
       " [[-0.264986, 1.37488, 0.0311171, 0.0153541, 0.0304456],\n",
       "  [0.00015658,\n",
       "   -5.15104e-07,\n",
       "   0.00224351,\n",
       "   -2.22218e-06,\n",
       "   1.1093e-07,\n",
       "   5.92208e-08,\n",
       "   -3.98041e-08,\n",
       "   9.31981e-06,\n",
       "   1.22249e-09,\n",
       "   9.49398e-08,\n",
       "   -2.47308e-06,\n",
       "   -2.00758e-07,\n",
       "   9.04106e-08,\n",
       "   -5.40489e-10,\n",
       "   1.00434e-06],\n",
       "  [0.57175],\n",
       "  [0.441745, 18.8806, 0.0234775, 0.0794154, 2.80106, 2, 0.485516]],\n",
       " [[-0.209367, 0.393041, 0.0275814, -0.00099008, -0.134433],\n",
       "  [0.000626321,\n",
       "   -2.06042e-06,\n",
       "   0.00897404,\n",
       "   -4.44436e-06,\n",
       "   2.2186e-07,\n",
       "   5.92208e-08,\n",
       "   -7.96081e-08,\n",
       "   1.86396e-05,\n",
       "   1.22249e-09,\n",
       "   9.49398e-08,\n",
       "   -4.94616e-06,\n",
       "   -4.01517e-07,\n",
       "   9.04106e-08,\n",
       "   -5.40489e-10,\n",
       "   1.00434e-06],\n",
       "  [0.0510539],\n",
       "  [0.441745, 18.8806, 0.0234775, 0.0794154, 2.80106, 2, 0.485516]],\n",
       " [[-0.190491, 1.2959, -0.0844926, 0.0561922, -0.239596],\n",
       "  [0.000626321,\n",
       "   -2.06042e-06,\n",
       "   0.00897404,\n",
       "   -4.44436e-06,\n",
       "   2.2186e-07,\n",
       "   5.92208e-08,\n",
       "   -7.96081e-08,\n",
       "   1.86396e-05,\n",
       "   1.22249e-09,\n",
       "   9.49398e-08,\n",
       "   -4.94616e-06,\n",
       "   -4.01517e-07,\n",
       "   9.04106e-08,\n",
       "   -5.40489e-10,\n",
       "   1.00434e-06],\n",
       "  [0.579789],\n",
       "  [0.465224, 6.06779, 0.054115, 0.030099, 2.45542, 2, 0.174715]],\n",
       " [[-0.0509223, 0.442866, 0.0248813, 0.0171021, 0.0968987],\n",
       "  [0.000626321,\n",
       "   -2.06042e-06,\n",
       "   0.00897404,\n",
       "   -4.44436e-06,\n",
       "   2.2186e-07,\n",
       "   5.92208e-08,\n",
       "   -7.96081e-08,\n",
       "   1.86396e-05,\n",
       "   1.22249e-09,\n",
       "   9.49398e-08,\n",
       "   -4.94616e-06,\n",
       "   -4.01517e-07,\n",
       "   9.04106e-08,\n",
       "   -5.40489e-10,\n",
       "   1.00434e-06],\n",
       "  [0.0457482],\n",
       "  [0.465224, 6.06779, 0.054115, 0.030099, 2.45542, 2, 0.174715]]]"
      ]
     },
     "execution_count": 51,
     "metadata": {},
     "output_type": "execute_result"
    }
   ],
   "source": [
    "data[0][5]"
   ]
  },
  {
   "cell_type": "code",
   "execution_count": 44,
   "metadata": {},
   "outputs": [],
   "source": [
    "g = 0\n",
    "num = 0\n",
    "for x in data:\n",
    "    if x[2] == 0:\n",
    "        g = num\n",
    "        break\n",
    "    num = num+1"
   ]
  },
  {
   "cell_type": "code",
   "execution_count": 46,
   "metadata": {},
   "outputs": [
    {
     "data": {
      "text/plain": [
       "6"
      ]
     },
     "execution_count": 46,
     "metadata": {},
     "output_type": "execute_result"
    }
   ],
   "source": [
    "g"
   ]
  },
  {
   "cell_type": "code",
   "execution_count": 4,
   "metadata": {},
   "outputs": [],
   "source": [
    "np.save('val', data)"
   ]
  },
  {
   "cell_type": "code",
   "execution_count": 2,
   "metadata": {
    "id": "eBeCdqEFodyD"
   },
   "outputs": [
    {
     "ename": "KeyboardInterrupt",
     "evalue": "",
     "output_type": "error",
     "traceback": [
      "\u001b[0;31m---------------------------------------------------------------------------\u001b[0m",
      "\u001b[0;31mKeyboardInterrupt\u001b[0m                         Traceback (most recent call last)",
      "\u001b[0;32m<ipython-input-2-dbcbf1f7f870>\u001b[0m in \u001b[0;36m<module>\u001b[0;34m\u001b[0m\n\u001b[0;32m----> 1\u001b[0;31m \u001b[0mdf\u001b[0m \u001b[0;34m=\u001b[0m \u001b[0mpd\u001b[0m\u001b[0;34m.\u001b[0m\u001b[0mread_json\u001b[0m\u001b[0;34m(\u001b[0m\u001b[0;34m'dataset.json'\u001b[0m\u001b[0;34m,\u001b[0m \u001b[0mlines\u001b[0m \u001b[0;34m=\u001b[0m \u001b[0;32mTrue\u001b[0m\u001b[0;34m)\u001b[0m\u001b[0;34m\u001b[0m\u001b[0;34m\u001b[0m\u001b[0m\n\u001b[0m",
      "\u001b[0;32m~/miniconda2/envs/myenv/lib/python3.7/site-packages/pandas/util/_decorators.py\u001b[0m in \u001b[0;36mwrapper\u001b[0;34m(*args, **kwargs)\u001b[0m\n\u001b[1;32m    197\u001b[0m                 \u001b[0;32melse\u001b[0m\u001b[0;34m:\u001b[0m\u001b[0;34m\u001b[0m\u001b[0;34m\u001b[0m\u001b[0m\n\u001b[1;32m    198\u001b[0m                     \u001b[0mkwargs\u001b[0m\u001b[0;34m[\u001b[0m\u001b[0mnew_arg_name\u001b[0m\u001b[0;34m]\u001b[0m \u001b[0;34m=\u001b[0m \u001b[0mnew_arg_value\u001b[0m\u001b[0;34m\u001b[0m\u001b[0;34m\u001b[0m\u001b[0m\n\u001b[0;32m--> 199\u001b[0;31m             \u001b[0;32mreturn\u001b[0m \u001b[0mfunc\u001b[0m\u001b[0;34m(\u001b[0m\u001b[0;34m*\u001b[0m\u001b[0margs\u001b[0m\u001b[0;34m,\u001b[0m \u001b[0;34m**\u001b[0m\u001b[0mkwargs\u001b[0m\u001b[0;34m)\u001b[0m\u001b[0;34m\u001b[0m\u001b[0;34m\u001b[0m\u001b[0m\n\u001b[0m\u001b[1;32m    200\u001b[0m \u001b[0;34m\u001b[0m\u001b[0m\n\u001b[1;32m    201\u001b[0m         \u001b[0;32mreturn\u001b[0m \u001b[0mcast\u001b[0m\u001b[0;34m(\u001b[0m\u001b[0mF\u001b[0m\u001b[0;34m,\u001b[0m \u001b[0mwrapper\u001b[0m\u001b[0;34m)\u001b[0m\u001b[0;34m\u001b[0m\u001b[0;34m\u001b[0m\u001b[0m\n",
      "\u001b[0;32m~/miniconda2/envs/myenv/lib/python3.7/site-packages/pandas/util/_decorators.py\u001b[0m in \u001b[0;36mwrapper\u001b[0;34m(*args, **kwargs)\u001b[0m\n\u001b[1;32m    297\u001b[0m                 )\n\u001b[1;32m    298\u001b[0m                 \u001b[0mwarnings\u001b[0m\u001b[0;34m.\u001b[0m\u001b[0mwarn\u001b[0m\u001b[0;34m(\u001b[0m\u001b[0mmsg\u001b[0m\u001b[0;34m,\u001b[0m \u001b[0mFutureWarning\u001b[0m\u001b[0;34m,\u001b[0m \u001b[0mstacklevel\u001b[0m\u001b[0;34m=\u001b[0m\u001b[0mstacklevel\u001b[0m\u001b[0;34m)\u001b[0m\u001b[0;34m\u001b[0m\u001b[0;34m\u001b[0m\u001b[0m\n\u001b[0;32m--> 299\u001b[0;31m             \u001b[0;32mreturn\u001b[0m \u001b[0mfunc\u001b[0m\u001b[0;34m(\u001b[0m\u001b[0;34m*\u001b[0m\u001b[0margs\u001b[0m\u001b[0;34m,\u001b[0m \u001b[0;34m**\u001b[0m\u001b[0mkwargs\u001b[0m\u001b[0;34m)\u001b[0m\u001b[0;34m\u001b[0m\u001b[0;34m\u001b[0m\u001b[0m\n\u001b[0m\u001b[1;32m    300\u001b[0m \u001b[0;34m\u001b[0m\u001b[0m\n\u001b[1;32m    301\u001b[0m         \u001b[0;32mreturn\u001b[0m \u001b[0mwrapper\u001b[0m\u001b[0;34m\u001b[0m\u001b[0;34m\u001b[0m\u001b[0m\n",
      "\u001b[0;32m~/miniconda2/envs/myenv/lib/python3.7/site-packages/pandas/io/json/_json.py\u001b[0m in \u001b[0;36mread_json\u001b[0;34m(path_or_buf, orient, typ, dtype, convert_axes, convert_dates, keep_default_dates, numpy, precise_float, date_unit, encoding, lines, chunksize, compression, nrows, storage_options)\u001b[0m\n\u001b[1;32m    554\u001b[0m         \u001b[0mcompression\u001b[0m\u001b[0;34m=\u001b[0m\u001b[0mcompression\u001b[0m\u001b[0;34m,\u001b[0m\u001b[0;34m\u001b[0m\u001b[0;34m\u001b[0m\u001b[0m\n\u001b[1;32m    555\u001b[0m         \u001b[0mnrows\u001b[0m\u001b[0;34m=\u001b[0m\u001b[0mnrows\u001b[0m\u001b[0;34m,\u001b[0m\u001b[0;34m\u001b[0m\u001b[0;34m\u001b[0m\u001b[0m\n\u001b[0;32m--> 556\u001b[0;31m         \u001b[0mstorage_options\u001b[0m\u001b[0;34m=\u001b[0m\u001b[0mstorage_options\u001b[0m\u001b[0;34m,\u001b[0m\u001b[0;34m\u001b[0m\u001b[0;34m\u001b[0m\u001b[0m\n\u001b[0m\u001b[1;32m    557\u001b[0m     )\n\u001b[1;32m    558\u001b[0m \u001b[0;34m\u001b[0m\u001b[0m\n",
      "\u001b[0;32m~/miniconda2/envs/myenv/lib/python3.7/site-packages/pandas/io/json/_json.py\u001b[0m in \u001b[0;36m__init__\u001b[0;34m(self, filepath_or_buffer, orient, typ, dtype, convert_axes, convert_dates, keep_default_dates, numpy, precise_float, date_unit, encoding, lines, chunksize, compression, nrows, storage_options)\u001b[0m\n\u001b[1;32m    621\u001b[0m \u001b[0;34m\u001b[0m\u001b[0m\n\u001b[1;32m    622\u001b[0m         \u001b[0mdata\u001b[0m \u001b[0;34m=\u001b[0m \u001b[0mself\u001b[0m\u001b[0;34m.\u001b[0m\u001b[0m_get_data_from_filepath\u001b[0m\u001b[0;34m(\u001b[0m\u001b[0mfilepath_or_buffer\u001b[0m\u001b[0;34m)\u001b[0m\u001b[0;34m\u001b[0m\u001b[0;34m\u001b[0m\u001b[0m\n\u001b[0;32m--> 623\u001b[0;31m         \u001b[0mself\u001b[0m\u001b[0;34m.\u001b[0m\u001b[0mdata\u001b[0m \u001b[0;34m=\u001b[0m \u001b[0mself\u001b[0m\u001b[0;34m.\u001b[0m\u001b[0m_preprocess_data\u001b[0m\u001b[0;34m(\u001b[0m\u001b[0mdata\u001b[0m\u001b[0;34m)\u001b[0m\u001b[0;34m\u001b[0m\u001b[0;34m\u001b[0m\u001b[0m\n\u001b[0m\u001b[1;32m    624\u001b[0m \u001b[0;34m\u001b[0m\u001b[0m\n\u001b[1;32m    625\u001b[0m     \u001b[0;32mdef\u001b[0m \u001b[0m_preprocess_data\u001b[0m\u001b[0;34m(\u001b[0m\u001b[0mself\u001b[0m\u001b[0;34m,\u001b[0m \u001b[0mdata\u001b[0m\u001b[0;34m)\u001b[0m\u001b[0;34m:\u001b[0m\u001b[0;34m\u001b[0m\u001b[0;34m\u001b[0m\u001b[0m\n",
      "\u001b[0;32m~/miniconda2/envs/myenv/lib/python3.7/site-packages/pandas/io/json/_json.py\u001b[0m in \u001b[0;36m_preprocess_data\u001b[0;34m(self, data)\u001b[0m\n\u001b[1;32m    632\u001b[0m         \"\"\"\n\u001b[1;32m    633\u001b[0m         \u001b[0;32mif\u001b[0m \u001b[0mhasattr\u001b[0m\u001b[0;34m(\u001b[0m\u001b[0mdata\u001b[0m\u001b[0;34m,\u001b[0m \u001b[0;34m\"read\"\u001b[0m\u001b[0;34m)\u001b[0m \u001b[0;32mand\u001b[0m \u001b[0;32mnot\u001b[0m \u001b[0;34m(\u001b[0m\u001b[0mself\u001b[0m\u001b[0;34m.\u001b[0m\u001b[0mchunksize\u001b[0m \u001b[0;32mor\u001b[0m \u001b[0mself\u001b[0m\u001b[0;34m.\u001b[0m\u001b[0mnrows\u001b[0m\u001b[0;34m)\u001b[0m\u001b[0;34m:\u001b[0m\u001b[0;34m\u001b[0m\u001b[0;34m\u001b[0m\u001b[0m\n\u001b[0;32m--> 634\u001b[0;31m             \u001b[0mdata\u001b[0m \u001b[0;34m=\u001b[0m \u001b[0mdata\u001b[0m\u001b[0;34m.\u001b[0m\u001b[0mread\u001b[0m\u001b[0;34m(\u001b[0m\u001b[0;34m)\u001b[0m\u001b[0;34m\u001b[0m\u001b[0;34m\u001b[0m\u001b[0m\n\u001b[0m\u001b[1;32m    635\u001b[0m             \u001b[0mself\u001b[0m\u001b[0;34m.\u001b[0m\u001b[0mclose\u001b[0m\u001b[0;34m(\u001b[0m\u001b[0;34m)\u001b[0m\u001b[0;34m\u001b[0m\u001b[0;34m\u001b[0m\u001b[0m\n\u001b[1;32m    636\u001b[0m         \u001b[0;32mif\u001b[0m \u001b[0;32mnot\u001b[0m \u001b[0mhasattr\u001b[0m\u001b[0;34m(\u001b[0m\u001b[0mdata\u001b[0m\u001b[0;34m,\u001b[0m \u001b[0;34m\"read\"\u001b[0m\u001b[0;34m)\u001b[0m \u001b[0;32mand\u001b[0m \u001b[0;34m(\u001b[0m\u001b[0mself\u001b[0m\u001b[0;34m.\u001b[0m\u001b[0mchunksize\u001b[0m \u001b[0;32mor\u001b[0m \u001b[0mself\u001b[0m\u001b[0;34m.\u001b[0m\u001b[0mnrows\u001b[0m\u001b[0;34m)\u001b[0m\u001b[0;34m:\u001b[0m\u001b[0;34m\u001b[0m\u001b[0;34m\u001b[0m\u001b[0m\n",
      "\u001b[0;32m~/miniconda2/envs/myenv/lib/python3.7/codecs.py\u001b[0m in \u001b[0;36mdecode\u001b[0;34m(self, input, final)\u001b[0m\n\u001b[1;32m    317\u001b[0m         \u001b[0;32mraise\u001b[0m \u001b[0mNotImplementedError\u001b[0m\u001b[0;34m\u001b[0m\u001b[0;34m\u001b[0m\u001b[0m\n\u001b[1;32m    318\u001b[0m \u001b[0;34m\u001b[0m\u001b[0m\n\u001b[0;32m--> 319\u001b[0;31m     \u001b[0;32mdef\u001b[0m \u001b[0mdecode\u001b[0m\u001b[0;34m(\u001b[0m\u001b[0mself\u001b[0m\u001b[0;34m,\u001b[0m \u001b[0minput\u001b[0m\u001b[0;34m,\u001b[0m \u001b[0mfinal\u001b[0m\u001b[0;34m=\u001b[0m\u001b[0;32mFalse\u001b[0m\u001b[0;34m)\u001b[0m\u001b[0;34m:\u001b[0m\u001b[0;34m\u001b[0m\u001b[0;34m\u001b[0m\u001b[0m\n\u001b[0m\u001b[1;32m    320\u001b[0m         \u001b[0;31m# decode input (taking the buffer into account)\u001b[0m\u001b[0;34m\u001b[0m\u001b[0;34m\u001b[0m\u001b[0;34m\u001b[0m\u001b[0m\n\u001b[1;32m    321\u001b[0m         \u001b[0mdata\u001b[0m \u001b[0;34m=\u001b[0m \u001b[0mself\u001b[0m\u001b[0;34m.\u001b[0m\u001b[0mbuffer\u001b[0m \u001b[0;34m+\u001b[0m \u001b[0minput\u001b[0m\u001b[0;34m\u001b[0m\u001b[0;34m\u001b[0m\u001b[0m\n",
      "\u001b[0;31mKeyboardInterrupt\u001b[0m: "
     ]
    }
   ],
   "source": [
    "df = pd.read_json('dataset.json', lines = True)"
   ]
  },
  {
   "cell_type": "code",
   "execution_count": 4,
   "metadata": {},
   "outputs": [],
   "source": [
    "x = np.load('3mil.npy', allow_pickle=True)"
   ]
  },
  {
   "cell_type": "code",
   "execution_count": 4,
   "metadata": {},
   "outputs": [],
   "source": [
    "features = np.load('4.5mil.npy', allow_pickle=True)"
   ]
  },
  {
   "cell_type": "code",
   "execution_count": null,
   "metadata": {},
   "outputs": [],
   "source": [
    "z = np.load('test.npy', allow_pickle=True)"
   ]
  },
  {
   "cell_type": "code",
   "execution_count": 3,
   "metadata": {
    "id": "fJzxc9YoodyE"
   },
   "outputs": [
    {
     "data": {
      "text/plain": [
       "array([[[ 9.81978e-01,  2.45914e-03,  7.03694e-04, ...,  1.47348e+00,\n",
       "          4.50740e+01,  2.75471e-01],\n",
       "        [ 9.67329e-01,  2.45914e-03,  7.03694e-04, ...,  1.47348e+00,\n",
       "          4.50740e+01,  2.75471e-01],\n",
       "        [ 9.33630e-01,  2.45914e-03,  7.03694e-04, ...,  1.47348e+00,\n",
       "          4.50740e+01,  2.75471e-01],\n",
       "        ...,\n",
       "        [ 0.00000e+00,  0.00000e+00,  0.00000e+00, ...,  0.00000e+00,\n",
       "          0.00000e+00,  0.00000e+00],\n",
       "        [ 0.00000e+00,  0.00000e+00,  0.00000e+00, ...,  0.00000e+00,\n",
       "          0.00000e+00,  0.00000e+00],\n",
       "        [ 0.00000e+00,  0.00000e+00,  0.00000e+00, ...,  0.00000e+00,\n",
       "          0.00000e+00,  0.00000e+00]],\n",
       "\n",
       "       [[ 9.39687e-01,  5.36676e-04, -3.45404e-05, ...,         -inf,\n",
       "          3.88523e+01, -2.13641e+00],\n",
       "        [ 9.79582e-01,  4.77209e-04, -2.54455e-05, ...,         -inf,\n",
       "          3.88523e+01, -2.13641e+00],\n",
       "        [ 9.77083e-01,  5.36676e-04, -3.45404e-05, ...,         -inf,\n",
       "          3.88523e+01, -2.13641e+00],\n",
       "        ...,\n",
       "        [ 0.00000e+00,  0.00000e+00,  0.00000e+00, ...,  0.00000e+00,\n",
       "          0.00000e+00,  0.00000e+00],\n",
       "        [ 0.00000e+00,  0.00000e+00,  0.00000e+00, ...,  0.00000e+00,\n",
       "          0.00000e+00,  0.00000e+00],\n",
       "        [ 0.00000e+00,  0.00000e+00,  0.00000e+00, ...,  0.00000e+00,\n",
       "          0.00000e+00,  0.00000e+00]],\n",
       "\n",
       "       [[ 9.83099e-01,  1.24814e-03,  1.69242e-04, ...,  6.79857e-01,\n",
       "          4.39097e+01,  1.05940e+00],\n",
       "        [ 9.79770e-01,  1.01546e-03,  6.40621e-05, ...,  6.79857e-01,\n",
       "          4.39097e+01,  1.05940e+00],\n",
       "        [ 5.78933e-01,  1.24814e-03,  1.69242e-04, ...,  6.79857e-01,\n",
       "          4.39097e+01,  1.05940e+00],\n",
       "        ...,\n",
       "        [ 0.00000e+00,  0.00000e+00,  0.00000e+00, ...,  0.00000e+00,\n",
       "          0.00000e+00,  0.00000e+00],\n",
       "        [ 0.00000e+00,  0.00000e+00,  0.00000e+00, ...,  0.00000e+00,\n",
       "          0.00000e+00,  0.00000e+00],\n",
       "        [ 0.00000e+00,  0.00000e+00,  0.00000e+00, ...,  0.00000e+00,\n",
       "          0.00000e+00,  0.00000e+00]],\n",
       "\n",
       "       ...,\n",
       "\n",
       "       [[ 9.85030e-01,  5.36676e-04, -3.45404e-05, ...,  3.23856e-01,\n",
       "          3.83710e+01,  2.04093e+00],\n",
       "        [ 9.77485e-01,  5.36676e-04, -3.45404e-05, ...,  3.23856e-01,\n",
       "          3.83710e+01,  2.04093e+00],\n",
       "        [ 9.79286e-01,  6.26321e-04, -2.06042e-06, ...,  3.23856e-01,\n",
       "          3.83710e+01,  2.04093e+00],\n",
       "        ...,\n",
       "        [ 0.00000e+00,  0.00000e+00,  0.00000e+00, ...,  0.00000e+00,\n",
       "          0.00000e+00,  0.00000e+00],\n",
       "        [ 0.00000e+00,  0.00000e+00,  0.00000e+00, ...,  0.00000e+00,\n",
       "          0.00000e+00,  0.00000e+00],\n",
       "        [ 0.00000e+00,  0.00000e+00,  0.00000e+00, ...,  0.00000e+00,\n",
       "          0.00000e+00,  0.00000e+00]],\n",
       "\n",
       "       [[ 9.54802e-01,  1.24814e-03,  1.69242e-04, ...,         -inf,\n",
       "          5.20141e+01,  9.14046e-01],\n",
       "        [ 9.79639e-01,  1.24814e-03,  1.69242e-04, ...,         -inf,\n",
       "          5.20141e+01,  9.14046e-01],\n",
       "        [ 9.74333e-01,  3.12036e-04,  4.23105e-05, ...,         -inf,\n",
       "          5.20141e+01,  9.14046e-01],\n",
       "        ...,\n",
       "        [ 0.00000e+00,  0.00000e+00,  0.00000e+00, ...,  0.00000e+00,\n",
       "          0.00000e+00,  0.00000e+00],\n",
       "        [ 0.00000e+00,  0.00000e+00,  0.00000e+00, ...,  0.00000e+00,\n",
       "          0.00000e+00,  0.00000e+00],\n",
       "        [ 0.00000e+00,  0.00000e+00,  0.00000e+00, ...,  0.00000e+00,\n",
       "          0.00000e+00,  0.00000e+00]],\n",
       "\n",
       "       [[ 9.45861e-01,  1.24814e-03,  1.69242e-04, ...,         -inf,\n",
       "          2.91194e+01, -7.91726e-01],\n",
       "        [ 9.73587e-01,  1.62689e-03,  4.07550e-04, ...,         -inf,\n",
       "          2.91194e+01, -7.91726e-01],\n",
       "        [ 9.79900e-01,  1.62689e-03,  4.07550e-04, ...,         -inf,\n",
       "          2.91194e+01, -7.91726e-01],\n",
       "        ...,\n",
       "        [ 0.00000e+00,  0.00000e+00,  0.00000e+00, ...,  0.00000e+00,\n",
       "          0.00000e+00,  0.00000e+00],\n",
       "        [ 0.00000e+00,  0.00000e+00,  0.00000e+00, ...,  0.00000e+00,\n",
       "          0.00000e+00,  0.00000e+00],\n",
       "        [ 0.00000e+00,  0.00000e+00,  0.00000e+00, ...,  0.00000e+00,\n",
       "          0.00000e+00,  0.00000e+00]]])"
      ]
     },
     "execution_count": 3,
     "metadata": {},
     "output_type": "execute_result"
    }
   ],
   "source": [
    "data"
   ]
  },
  {
   "cell_type": "code",
   "execution_count": 6,
   "metadata": {
    "id": "z62w6-LTcdOw"
   },
   "outputs": [],
   "source": [
    "labels = features[:,2]"
   ]
  },
  {
   "cell_type": "code",
   "execution_count": 7,
   "metadata": {},
   "outputs": [
    {
     "data": {
      "text/plain": [
       "array([5, 5, 5, ..., 0, 0, 0], dtype=object)"
      ]
     },
     "execution_count": 7,
     "metadata": {},
     "output_type": "execute_result"
    }
   ],
   "source": [
    "labels"
   ]
  },
  {
   "cell_type": "code",
   "execution_count": 8,
   "metadata": {},
   "outputs": [],
   "source": [
    "np.save('alllabels', labels)"
   ]
  },
  {
   "cell_type": "code",
   "execution_count": 7,
   "metadata": {
    "colab": {
     "base_uri": "https://localhost:8080/"
    },
    "id": "yOELtvqson0f",
    "outputId": "7841356a-7c2d-4580-c73c-2b3d0611b721"
   },
   "outputs": [
    {
     "name": "stdout",
     "output_type": "stream",
     "text": [
      "Mounted at /content/drive\n"
     ]
    }
   ],
   "source": [
    "from google.colab import drive\n",
    "drive.mount('/content/drive')"
   ]
  },
  {
   "cell_type": "code",
   "execution_count": 4,
   "metadata": {
    "id": "gb2KHvnuodyE"
   },
   "outputs": [],
   "source": [
    "length = len(data)\n",
    "featuresnum = 16"
   ]
  },
  {
   "cell_type": "code",
   "execution_count": 5,
   "metadata": {
    "id": "_F8Yr5OlodyE"
   },
   "outputs": [],
   "source": [
    "features = np.zeros([length,15,44])\n"
   ]
  },
  {
   "cell_type": "code",
   "execution_count": 6,
   "metadata": {
    "colab": {
     "base_uri": "https://localhost:8080/"
    },
    "id": "Kgwhdz9wodyF",
    "outputId": "b5f2cb1a-6613-4f6d-cacb-c793723fc85d"
   },
   "outputs": [
    {
     "name": "stderr",
     "output_type": "stream",
     "text": [
      "  0%|          | 0/4000000 [00:00<?, ?it/s]/global/homes/a/anrunw/miniconda2/envs/myenv/lib/python3.7/site-packages/ipykernel_launcher.py:6: VisibleDeprecationWarning: Creating an ndarray from ragged nested sequences (which is a list-or-tuple of lists-or-tuples-or ndarrays with different lengths or shapes) is deprecated. If you meant to do this, you must specify 'dtype=object' when creating the ndarray\n",
      "  \n",
      "100%|██████████| 4000000/4000000 [19:45<00:00, 3375.36it/s]\n"
     ]
    }
   ],
   "source": [
    "num = 0\n",
    "exceptions = 0\n",
    "for z in tqdm(data):\n",
    "    try:\n",
    "        k = z[5]\n",
    "        k = np.array(k)\n",
    "        num1 = 0\n",
    "        for p in k:\n",
    "            p = np.nan_to_num(p)\n",
    "            num4 = 0\n",
    "            for g in np.array(p[2]):\n",
    "                features[num][num1][num4] = g\n",
    "                num4 = num4 + 1\n",
    "            for g in np.array(p[1]):\n",
    "                features[num][num1][num4] = g\n",
    "                num4 = num4 + 1\n",
    "            for g in np.array(p[0]):\n",
    "                features[num][num1][num4] = g\n",
    "                num4 = num4 + 1\n",
    "            for g in np.array(p[3]):\n",
    "                features[num][num1][num4] = g\n",
    "                num4 = num4 + 1\n",
    "            for g in range(8):\n",
    "                features[num][num1][num4] = z[3][g]\n",
    "                num4 = num4+1\n",
    "            for g in range(6):\n",
    "                features[num][num1][num4] = z[4][g]\n",
    "                num4 = num4+1\n",
    "            features[num][num1][num4] = z[0]\n",
    "            num4 = num4+1\n",
    "            features[num][num1][num4]=z[1]\n",
    "            num1 = num1 + 1\n",
    "            \n",
    "    except:\n",
    "        exceptions = exceptions + 1\n",
    "    data[num] = 0\n",
    "    num = num + 1"
   ]
  },
  {
   "cell_type": "code",
   "execution_count": 6,
   "metadata": {
    "colab": {
     "base_uri": "https://localhost:8080/"
    },
    "id": "_7C0DJ42odyF",
    "outputId": "77d46c86-58da-4d1c-8119-18c7ca17d519"
   },
   "outputs": [],
   "source": [
    "np.save('lfeatures', features)"
   ]
  },
  {
   "cell_type": "code",
   "execution_count": 11,
   "metadata": {},
   "outputs": [
    {
     "data": {
      "text/plain": [
       "array([[ 9.83099e-01,  1.24814e-03,  1.69242e-04,  2.43054e-02,\n",
       "        -9.99338e-06, -7.11463e-07,  1.18222e-07,  1.28239e-08,\n",
       "         1.53515e-05,  4.19506e-10,  1.68791e-08, -4.53369e-06,\n",
       "        -3.21213e-07,  8.45251e-08,  1.20073e-10,  4.99996e-07,\n",
       "        -1.74386e-02, -6.85803e-03,  1.05128e-01,  5.10482e-02,\n",
       "         1.83081e-01,  8.07986e-01,  0.00000e+00,  0.00000e+00,\n",
       "         0.00000e+00,  0.00000e+00,  2.00000e+00,  2.83732e-01,\n",
       "         1.98813e+00,  4.93606e-01,  3.30972e-01,  4.39893e-02,\n",
       "         2.00000e+00,  2.63070e-03,  5.75696e-02,  8.85966e-02,\n",
       "         6.88561e+01,  1.00000e+00,  3.00000e+00,  5.08225e-02,\n",
       "         1.58290e+00,  6.79857e-01,  4.39097e+01,  1.05940e+00],\n",
       "       [ 9.79770e-01,  1.01546e-03,  6.40621e-05,  1.32748e-02,\n",
       "        -7.82267e-06, -5.94500e-07,  9.56319e-08, -1.38305e-08,\n",
       "         1.15548e-05,  3.98565e-10,  2.05216e-08, -4.82003e-06,\n",
       "        -5.67003e-08,  8.59521e-08,  1.37711e-09,  6.21183e-07,\n",
       "        -8.17393e-03,  1.30535e-01, -1.15602e-01, -5.71515e-02,\n",
       "        -2.87061e-01,  8.07986e-01,  0.00000e+00,  0.00000e+00,\n",
       "         0.00000e+00,  0.00000e+00,  2.00000e+00,  2.83732e-01,\n",
       "         1.98813e+00,  4.93606e-01,  3.30972e-01,  4.39893e-02,\n",
       "         2.00000e+00,  2.63070e-03,  5.75696e-02,  8.85966e-02,\n",
       "         6.88561e+01,  1.00000e+00,  3.00000e+00,  5.08225e-02,\n",
       "         1.58290e+00,  6.79857e-01,  4.39097e+01,  1.05940e+00],\n",
       "       [ 5.78933e-01,  1.24814e-03,  1.69242e-04,  2.43054e-02,\n",
       "        -9.99338e-06, -7.11463e-07,  1.18222e-07,  1.28239e-08,\n",
       "         1.53515e-05,  4.19506e-10,  1.68791e-08, -4.53369e-06,\n",
       "        -3.21213e-07,  8.45251e-08,  1.20073e-10,  4.99996e-07,\n",
       "        -2.53700e-01,  6.93842e-01, -1.40993e-01,  1.50394e-01,\n",
       "         7.92320e-01,  1.58290e+00,  3.04357e+00,  5.05260e-02,\n",
       "        -5.48242e-03,  6.88561e+00,  3.00000e+00,  6.79857e-01,\n",
       "         1.98813e+00,  4.93606e-01,  3.30972e-01,  4.39893e-02,\n",
       "         2.00000e+00,  2.63070e-03,  5.75696e-02,  8.85966e-02,\n",
       "         6.88561e+01,  1.00000e+00,  3.00000e+00,  5.08225e-02,\n",
       "         1.58290e+00,  6.79857e-01,  4.39097e+01,  1.05940e+00],\n",
       "       [ 4.35222e-05,  1.24814e-03,  1.69242e-04,  2.43054e-02,\n",
       "        -9.99338e-06, -7.11463e-07,  1.18222e-07,  1.28239e-08,\n",
       "         1.53515e-05,  4.19506e-10,  1.68791e-08, -4.53369e-06,\n",
       "        -3.21213e-07,  8.45251e-08,  1.20073e-10,  4.99996e-07,\n",
       "        -7.02388e-02, -5.15992e-02, -1.22795e-01,  3.01832e-02,\n",
       "        -2.50457e-01,  1.58290e+00,  3.04357e+00,  5.05260e-02,\n",
       "        -5.48242e-03,  6.88561e+00,  3.00000e+00,  6.79857e-01,\n",
       "         1.98813e+00,  4.93606e-01,  3.30972e-01,  4.39893e-02,\n",
       "         2.00000e+00,  2.63070e-03,  5.75696e-02,  8.85966e-02,\n",
       "         6.88561e+01,  1.00000e+00,  3.00000e+00,  5.08225e-02,\n",
       "         1.58290e+00,  6.79857e-01,  4.39097e+01,  1.05940e+00],\n",
       "       [ 5.86190e-01,  1.01546e-03,  6.40621e-05,  1.32748e-02,\n",
       "        -7.82267e-06, -5.94500e-07,  9.56319e-08, -1.38305e-08,\n",
       "         1.15548e-05,  3.98565e-10,  2.05216e-08, -4.82003e-06,\n",
       "        -5.67003e-08,  8.59521e-08,  1.37711e-09,  6.21183e-07,\n",
       "         1.24511e-01,  9.03766e-02,  6.02776e-02, -2.15096e-02,\n",
       "         6.17972e-02,  1.58290e+00,  3.04357e+00,  5.05260e-02,\n",
       "        -5.48242e-03,  6.88561e+00,  3.00000e+00,  6.79857e-01,\n",
       "         1.98813e+00,  4.93606e-01,  3.30972e-01,  4.39893e-02,\n",
       "         2.00000e+00,  2.63070e-03,  5.75696e-02,  8.85966e-02,\n",
       "         6.88561e+01,  1.00000e+00,  3.00000e+00,  5.08225e-02,\n",
       "         1.58290e+00,  6.79857e-01,  4.39097e+01,  1.05940e+00],\n",
       "       [ 0.00000e+00,  0.00000e+00,  0.00000e+00,  0.00000e+00,\n",
       "         0.00000e+00,  0.00000e+00,  0.00000e+00,  0.00000e+00,\n",
       "         0.00000e+00,  0.00000e+00,  0.00000e+00,  0.00000e+00,\n",
       "         0.00000e+00,  0.00000e+00,  0.00000e+00,  0.00000e+00,\n",
       "         0.00000e+00,  0.00000e+00,  0.00000e+00,  0.00000e+00,\n",
       "         0.00000e+00,  0.00000e+00,  0.00000e+00,  0.00000e+00,\n",
       "         0.00000e+00,  0.00000e+00,  0.00000e+00,  0.00000e+00,\n",
       "         0.00000e+00,  0.00000e+00,  0.00000e+00,  0.00000e+00,\n",
       "         0.00000e+00,  0.00000e+00,  0.00000e+00,  0.00000e+00,\n",
       "         0.00000e+00,  0.00000e+00,  0.00000e+00,  0.00000e+00,\n",
       "         0.00000e+00,  0.00000e+00,  0.00000e+00,  0.00000e+00],\n",
       "       [ 0.00000e+00,  0.00000e+00,  0.00000e+00,  0.00000e+00,\n",
       "         0.00000e+00,  0.00000e+00,  0.00000e+00,  0.00000e+00,\n",
       "         0.00000e+00,  0.00000e+00,  0.00000e+00,  0.00000e+00,\n",
       "         0.00000e+00,  0.00000e+00,  0.00000e+00,  0.00000e+00,\n",
       "         0.00000e+00,  0.00000e+00,  0.00000e+00,  0.00000e+00,\n",
       "         0.00000e+00,  0.00000e+00,  0.00000e+00,  0.00000e+00,\n",
       "         0.00000e+00,  0.00000e+00,  0.00000e+00,  0.00000e+00,\n",
       "         0.00000e+00,  0.00000e+00,  0.00000e+00,  0.00000e+00,\n",
       "         0.00000e+00,  0.00000e+00,  0.00000e+00,  0.00000e+00,\n",
       "         0.00000e+00,  0.00000e+00,  0.00000e+00,  0.00000e+00,\n",
       "         0.00000e+00,  0.00000e+00,  0.00000e+00,  0.00000e+00],\n",
       "       [ 0.00000e+00,  0.00000e+00,  0.00000e+00,  0.00000e+00,\n",
       "         0.00000e+00,  0.00000e+00,  0.00000e+00,  0.00000e+00,\n",
       "         0.00000e+00,  0.00000e+00,  0.00000e+00,  0.00000e+00,\n",
       "         0.00000e+00,  0.00000e+00,  0.00000e+00,  0.00000e+00,\n",
       "         0.00000e+00,  0.00000e+00,  0.00000e+00,  0.00000e+00,\n",
       "         0.00000e+00,  0.00000e+00,  0.00000e+00,  0.00000e+00,\n",
       "         0.00000e+00,  0.00000e+00,  0.00000e+00,  0.00000e+00,\n",
       "         0.00000e+00,  0.00000e+00,  0.00000e+00,  0.00000e+00,\n",
       "         0.00000e+00,  0.00000e+00,  0.00000e+00,  0.00000e+00,\n",
       "         0.00000e+00,  0.00000e+00,  0.00000e+00,  0.00000e+00,\n",
       "         0.00000e+00,  0.00000e+00,  0.00000e+00,  0.00000e+00],\n",
       "       [ 0.00000e+00,  0.00000e+00,  0.00000e+00,  0.00000e+00,\n",
       "         0.00000e+00,  0.00000e+00,  0.00000e+00,  0.00000e+00,\n",
       "         0.00000e+00,  0.00000e+00,  0.00000e+00,  0.00000e+00,\n",
       "         0.00000e+00,  0.00000e+00,  0.00000e+00,  0.00000e+00,\n",
       "         0.00000e+00,  0.00000e+00,  0.00000e+00,  0.00000e+00,\n",
       "         0.00000e+00,  0.00000e+00,  0.00000e+00,  0.00000e+00,\n",
       "         0.00000e+00,  0.00000e+00,  0.00000e+00,  0.00000e+00,\n",
       "         0.00000e+00,  0.00000e+00,  0.00000e+00,  0.00000e+00,\n",
       "         0.00000e+00,  0.00000e+00,  0.00000e+00,  0.00000e+00,\n",
       "         0.00000e+00,  0.00000e+00,  0.00000e+00,  0.00000e+00,\n",
       "         0.00000e+00,  0.00000e+00,  0.00000e+00,  0.00000e+00],\n",
       "       [ 0.00000e+00,  0.00000e+00,  0.00000e+00,  0.00000e+00,\n",
       "         0.00000e+00,  0.00000e+00,  0.00000e+00,  0.00000e+00,\n",
       "         0.00000e+00,  0.00000e+00,  0.00000e+00,  0.00000e+00,\n",
       "         0.00000e+00,  0.00000e+00,  0.00000e+00,  0.00000e+00,\n",
       "         0.00000e+00,  0.00000e+00,  0.00000e+00,  0.00000e+00,\n",
       "         0.00000e+00,  0.00000e+00,  0.00000e+00,  0.00000e+00,\n",
       "         0.00000e+00,  0.00000e+00,  0.00000e+00,  0.00000e+00,\n",
       "         0.00000e+00,  0.00000e+00,  0.00000e+00,  0.00000e+00,\n",
       "         0.00000e+00,  0.00000e+00,  0.00000e+00,  0.00000e+00,\n",
       "         0.00000e+00,  0.00000e+00,  0.00000e+00,  0.00000e+00,\n",
       "         0.00000e+00,  0.00000e+00,  0.00000e+00,  0.00000e+00],\n",
       "       [ 0.00000e+00,  0.00000e+00,  0.00000e+00,  0.00000e+00,\n",
       "         0.00000e+00,  0.00000e+00,  0.00000e+00,  0.00000e+00,\n",
       "         0.00000e+00,  0.00000e+00,  0.00000e+00,  0.00000e+00,\n",
       "         0.00000e+00,  0.00000e+00,  0.00000e+00,  0.00000e+00,\n",
       "         0.00000e+00,  0.00000e+00,  0.00000e+00,  0.00000e+00,\n",
       "         0.00000e+00,  0.00000e+00,  0.00000e+00,  0.00000e+00,\n",
       "         0.00000e+00,  0.00000e+00,  0.00000e+00,  0.00000e+00,\n",
       "         0.00000e+00,  0.00000e+00,  0.00000e+00,  0.00000e+00,\n",
       "         0.00000e+00,  0.00000e+00,  0.00000e+00,  0.00000e+00,\n",
       "         0.00000e+00,  0.00000e+00,  0.00000e+00,  0.00000e+00,\n",
       "         0.00000e+00,  0.00000e+00,  0.00000e+00,  0.00000e+00],\n",
       "       [ 0.00000e+00,  0.00000e+00,  0.00000e+00,  0.00000e+00,\n",
       "         0.00000e+00,  0.00000e+00,  0.00000e+00,  0.00000e+00,\n",
       "         0.00000e+00,  0.00000e+00,  0.00000e+00,  0.00000e+00,\n",
       "         0.00000e+00,  0.00000e+00,  0.00000e+00,  0.00000e+00,\n",
       "         0.00000e+00,  0.00000e+00,  0.00000e+00,  0.00000e+00,\n",
       "         0.00000e+00,  0.00000e+00,  0.00000e+00,  0.00000e+00,\n",
       "         0.00000e+00,  0.00000e+00,  0.00000e+00,  0.00000e+00,\n",
       "         0.00000e+00,  0.00000e+00,  0.00000e+00,  0.00000e+00,\n",
       "         0.00000e+00,  0.00000e+00,  0.00000e+00,  0.00000e+00,\n",
       "         0.00000e+00,  0.00000e+00,  0.00000e+00,  0.00000e+00,\n",
       "         0.00000e+00,  0.00000e+00,  0.00000e+00,  0.00000e+00],\n",
       "       [ 0.00000e+00,  0.00000e+00,  0.00000e+00,  0.00000e+00,\n",
       "         0.00000e+00,  0.00000e+00,  0.00000e+00,  0.00000e+00,\n",
       "         0.00000e+00,  0.00000e+00,  0.00000e+00,  0.00000e+00,\n",
       "         0.00000e+00,  0.00000e+00,  0.00000e+00,  0.00000e+00,\n",
       "         0.00000e+00,  0.00000e+00,  0.00000e+00,  0.00000e+00,\n",
       "         0.00000e+00,  0.00000e+00,  0.00000e+00,  0.00000e+00,\n",
       "         0.00000e+00,  0.00000e+00,  0.00000e+00,  0.00000e+00,\n",
       "         0.00000e+00,  0.00000e+00,  0.00000e+00,  0.00000e+00,\n",
       "         0.00000e+00,  0.00000e+00,  0.00000e+00,  0.00000e+00,\n",
       "         0.00000e+00,  0.00000e+00,  0.00000e+00,  0.00000e+00,\n",
       "         0.00000e+00,  0.00000e+00,  0.00000e+00,  0.00000e+00],\n",
       "       [ 0.00000e+00,  0.00000e+00,  0.00000e+00,  0.00000e+00,\n",
       "         0.00000e+00,  0.00000e+00,  0.00000e+00,  0.00000e+00,\n",
       "         0.00000e+00,  0.00000e+00,  0.00000e+00,  0.00000e+00,\n",
       "         0.00000e+00,  0.00000e+00,  0.00000e+00,  0.00000e+00,\n",
       "         0.00000e+00,  0.00000e+00,  0.00000e+00,  0.00000e+00,\n",
       "         0.00000e+00,  0.00000e+00,  0.00000e+00,  0.00000e+00,\n",
       "         0.00000e+00,  0.00000e+00,  0.00000e+00,  0.00000e+00,\n",
       "         0.00000e+00,  0.00000e+00,  0.00000e+00,  0.00000e+00,\n",
       "         0.00000e+00,  0.00000e+00,  0.00000e+00,  0.00000e+00,\n",
       "         0.00000e+00,  0.00000e+00,  0.00000e+00,  0.00000e+00,\n",
       "         0.00000e+00,  0.00000e+00,  0.00000e+00,  0.00000e+00],\n",
       "       [ 0.00000e+00,  0.00000e+00,  0.00000e+00,  0.00000e+00,\n",
       "         0.00000e+00,  0.00000e+00,  0.00000e+00,  0.00000e+00,\n",
       "         0.00000e+00,  0.00000e+00,  0.00000e+00,  0.00000e+00,\n",
       "         0.00000e+00,  0.00000e+00,  0.00000e+00,  0.00000e+00,\n",
       "         0.00000e+00,  0.00000e+00,  0.00000e+00,  0.00000e+00,\n",
       "         0.00000e+00,  0.00000e+00,  0.00000e+00,  0.00000e+00,\n",
       "         0.00000e+00,  0.00000e+00,  0.00000e+00,  0.00000e+00,\n",
       "         0.00000e+00,  0.00000e+00,  0.00000e+00,  0.00000e+00,\n",
       "         0.00000e+00,  0.00000e+00,  0.00000e+00,  0.00000e+00,\n",
       "         0.00000e+00,  0.00000e+00,  0.00000e+00,  0.00000e+00,\n",
       "         0.00000e+00,  0.00000e+00,  0.00000e+00,  0.00000e+00]])"
      ]
     },
     "execution_count": 11,
     "metadata": {},
     "output_type": "execute_result"
    }
   ],
   "source": [
    "features[2]"
   ]
  },
  {
   "cell_type": "code",
   "execution_count": 3,
   "metadata": {},
   "outputs": [
    {
     "ename": "ValueError",
     "evalue": "cannot reshape array of size 1417672688 into shape (4000000,15,44)",
     "output_type": "error",
     "traceback": [
      "\u001b[0;31m---------------------------------------------------------------------------\u001b[0m",
      "\u001b[0;31mValueError\u001b[0m                                Traceback (most recent call last)",
      "\u001b[0;32m<ipython-input-3-f011f29d62f6>\u001b[0m in \u001b[0;36m<module>\u001b[0;34m\u001b[0m\n\u001b[0;32m----> 1\u001b[0;31m \u001b[0mfeatures\u001b[0m \u001b[0;34m=\u001b[0m \u001b[0mnp\u001b[0m\u001b[0;34m.\u001b[0m\u001b[0mload\u001b[0m\u001b[0;34m(\u001b[0m\u001b[0;34m'features.npy'\u001b[0m\u001b[0;34m)\u001b[0m\u001b[0;34m\u001b[0m\u001b[0;34m\u001b[0m\u001b[0m\n\u001b[0m",
      "\u001b[0;32m~/miniconda2/envs/myenv/lib/python3.7/site-packages/numpy/lib/npyio.py\u001b[0m in \u001b[0;36mload\u001b[0;34m(file, mmap_mode, allow_pickle, fix_imports, encoding)\u001b[0m\n\u001b[1;32m    438\u001b[0m             \u001b[0;32melse\u001b[0m\u001b[0;34m:\u001b[0m\u001b[0;34m\u001b[0m\u001b[0;34m\u001b[0m\u001b[0m\n\u001b[1;32m    439\u001b[0m                 return format.read_array(fid, allow_pickle=allow_pickle,\n\u001b[0;32m--> 440\u001b[0;31m                                          pickle_kwargs=pickle_kwargs)\n\u001b[0m\u001b[1;32m    441\u001b[0m         \u001b[0;32melse\u001b[0m\u001b[0;34m:\u001b[0m\u001b[0;34m\u001b[0m\u001b[0;34m\u001b[0m\u001b[0m\n\u001b[1;32m    442\u001b[0m             \u001b[0;31m# Try a pickle\u001b[0m\u001b[0;34m\u001b[0m\u001b[0;34m\u001b[0m\u001b[0;34m\u001b[0m\u001b[0m\n",
      "\u001b[0;32m~/miniconda2/envs/myenv/lib/python3.7/site-packages/numpy/lib/format.py\u001b[0m in \u001b[0;36mread_array\u001b[0;34m(fp, allow_pickle, pickle_kwargs)\u001b[0m\n\u001b[1;32m    769\u001b[0m             \u001b[0marray\u001b[0m \u001b[0;34m=\u001b[0m \u001b[0marray\u001b[0m\u001b[0;34m.\u001b[0m\u001b[0mtranspose\u001b[0m\u001b[0;34m(\u001b[0m\u001b[0;34m)\u001b[0m\u001b[0;34m\u001b[0m\u001b[0;34m\u001b[0m\u001b[0m\n\u001b[1;32m    770\u001b[0m         \u001b[0;32melse\u001b[0m\u001b[0;34m:\u001b[0m\u001b[0;34m\u001b[0m\u001b[0;34m\u001b[0m\u001b[0m\n\u001b[0;32m--> 771\u001b[0;31m             \u001b[0marray\u001b[0m\u001b[0;34m.\u001b[0m\u001b[0mshape\u001b[0m \u001b[0;34m=\u001b[0m \u001b[0mshape\u001b[0m\u001b[0;34m\u001b[0m\u001b[0;34m\u001b[0m\u001b[0m\n\u001b[0m\u001b[1;32m    772\u001b[0m \u001b[0;34m\u001b[0m\u001b[0m\n\u001b[1;32m    773\u001b[0m     \u001b[0;32mreturn\u001b[0m \u001b[0marray\u001b[0m\u001b[0;34m\u001b[0m\u001b[0;34m\u001b[0m\u001b[0m\n",
      "\u001b[0;31mValueError\u001b[0m: cannot reshape array of size 1417672688 into shape (4000000,15,44)"
     ]
    }
   ],
   "source": [
    "features = np.load('features.npy')"
   ]
  },
  {
   "cell_type": "code",
   "execution_count": 4,
   "metadata": {},
   "outputs": [],
   "source": [
    "labels = np.load('labels.npy')"
   ]
  },
  {
   "cell_type": "code",
   "execution_count": 4,
   "metadata": {},
   "outputs": [],
   "source": [
    "features = data"
   ]
  },
  {
   "cell_type": "code",
   "execution_count": null,
   "metadata": {},
   "outputs": [],
   "source": [
    "features = np.nan_to_num(features)"
   ]
  },
  {
   "cell_type": "code",
   "execution_count": 3,
   "metadata": {
    "id": "WnIRLrhKodyF"
   },
   "outputs": [],
   "source": [
    "features[features > 1e308] = 0"
   ]
  },
  {
   "cell_type": "code",
   "execution_count": 4,
   "metadata": {
    "id": "UkGNGbH0odyG"
   },
   "outputs": [],
   "source": [
    "features[features < -1e308] = 0"
   ]
  },
  {
   "cell_type": "code",
   "execution_count": null,
   "metadata": {},
   "outputs": [],
   "source": [
    "features[np.isnan(features) == True] = 0"
   ]
  },
  {
   "cell_type": "code",
   "execution_count": null,
   "metadata": {},
   "outputs": [],
   "source": []
  },
  {
   "cell_type": "code",
   "execution_count": 5,
   "metadata": {},
   "outputs": [
    {
     "name": "stderr",
     "output_type": "stream",
     "text": [
      "100%|██████████| 4000000/4000000 [3:00:07<00:00, 370.11it/s]  \n"
     ]
    }
   ],
   "source": [
    "for x in tqdm(range(len(features))):\n",
    "    for y in range(15):\n",
    "        for z in range(44):\n",
    "            if np.isnan(features[x][y][z]) == True:\n",
    "                features[x][y][z] = 0"
   ]
  },
  {
   "cell_type": "code",
   "execution_count": 36,
   "metadata": {},
   "outputs": [
    {
     "data": {
      "text/plain": [
       "True"
      ]
     },
     "execution_count": 36,
     "metadata": {},
     "output_type": "execute_result"
    }
   ],
   "source": [
    "np.isnan(features[0][1][23])"
   ]
  },
  {
   "cell_type": "code",
   "execution_count": null,
   "metadata": {},
   "outputs": [],
   "source": [
    "features[0]"
   ]
  },
  {
   "cell_type": "code",
   "execution_count": null,
   "metadata": {},
   "outputs": [],
   "source": [
    "np.save('features', features)"
   ]
  },
  {
   "cell_type": "code",
   "execution_count": 8,
   "metadata": {
    "id": "ZI7a-eLVodyG"
   },
   "outputs": [
    {
     "ename": "NameError",
     "evalue": "name 'length' is not defined",
     "output_type": "error",
     "traceback": [
      "\u001b[0;31m---------------------------------------------------------------------------\u001b[0m",
      "\u001b[0;31mNameError\u001b[0m                                 Traceback (most recent call last)",
      "\u001b[0;32m<ipython-input-8-dd33d976820c>\u001b[0m in \u001b[0;36m<module>\u001b[0;34m\u001b[0m\n\u001b[0;32m----> 1\u001b[0;31m \u001b[0mlab\u001b[0m \u001b[0;34m=\u001b[0m \u001b[0mnp\u001b[0m\u001b[0;34m.\u001b[0m\u001b[0mzeros\u001b[0m\u001b[0;34m(\u001b[0m\u001b[0;34m(\u001b[0m\u001b[0mlength\u001b[0m\u001b[0;34m,\u001b[0m\u001b[0;36m1\u001b[0m\u001b[0;34m)\u001b[0m\u001b[0;34m)\u001b[0m\u001b[0;34m\u001b[0m\u001b[0;34m\u001b[0m\u001b[0m\n\u001b[0m",
      "\u001b[0;31mNameError\u001b[0m: name 'length' is not defined"
     ]
    }
   ],
   "source": [
    "lab = np.zeros((400000,1))"
   ]
  },
  {
   "cell_type": "code",
   "execution_count": 6,
   "metadata": {
    "id": "mjgWAp6fodyG"
   },
   "outputs": [],
   "source": [
    "labels = data[:,2]"
   ]
  },
  {
   "cell_type": "code",
   "execution_count": 7,
   "metadata": {},
   "outputs": [],
   "source": [
    "light = 0\n",
    "charm = 0\n",
    "bottom = 0\n",
    "for x in labels:\n",
    "    if x == 0:\n",
    "        light = light + 1\n",
    "    if x == 4:\n",
    "        charm = charm + 1\n",
    "    if x == 5:\n",
    "        bottom = bottom + 1"
   ]
  },
  {
   "cell_type": "code",
   "execution_count": 19,
   "metadata": {},
   "outputs": [
    {
     "data": {
      "text/plain": [
       "436454"
      ]
     },
     "execution_count": 19,
     "metadata": {},
     "output_type": "execute_result"
    }
   ],
   "source": [
    "charm"
   ]
  },
  {
   "cell_type": "code",
   "execution_count": 24,
   "metadata": {
    "id": "l3OrRxVNodyG"
   },
   "outputs": [],
   "source": [
    "num = 0\n",
    "for x in labels:\n",
    "    if x == 5:\n",
    "        lab[num] = 1\n",
    "    num = num + 1"
   ]
  },
  {
   "cell_type": "code",
   "execution_count": 26,
   "metadata": {},
   "outputs": [],
   "source": [
    "np.save('labels', lab)"
   ]
  },
  {
   "cell_type": "code",
   "execution_count": null,
   "metadata": {},
   "outputs": [],
   "source": []
  },
  {
   "cell_type": "code",
   "execution_count": null,
   "metadata": {
    "id": "caS7WNRSodyG"
   },
   "outputs": [],
   "source": [
    "np.save('trackfeat', features)"
   ]
  },
  {
   "cell_type": "code",
   "execution_count": null,
   "metadata": {
    "id": "GI-5IfzXodyH"
   },
   "outputs": [],
   "source": [
    "np.save('labels', lab)"
   ]
  },
  {
   "cell_type": "code",
   "execution_count": 31,
   "metadata": {
    "id": "6A7GxnR-odyH"
   },
   "outputs": [],
   "source": [
    "def getModel(dropout, optimizer, lsize,size):\n",
    "    model = Sequential()\n",
    "    model.add(LSTM(lsize))\n",
    "    model.add(Dense(size, activation = 'relu', kernel_initializaer = 'lecun_uniform'))\n",
    "    model.add(Dropout(dropout))\n",
    "    model.add(Dense(1, activation='sigmoid', kernel_initializer='lecun_uniform', name = 'output_sigmoid'))\n",
    "    model.compile(optimizer= optimizer , loss = tf.losses.categorical_crossentropy , metrics=['accuracy'])\n",
    "    return model"
   ]
  },
  {
   "cell_type": "code",
   "execution_count": null,
   "metadata": {
    "id": "6fg9tTHnodyH"
   },
   "outputs": [],
   "source": [
    "labels = ['light/charm&bottom']\n"
   ]
  },
  {
   "cell_type": "code",
   "execution_count": null,
   "metadata": {
    "id": "ytCrQZr8odyH"
   },
   "outputs": [],
   "source": [
    "Kmodel = KerasClassifier(build_fn= getModel(0.1, Adam(0.1)), verbose=1)"
   ]
  },
  {
   "cell_type": "code",
   "execution_count": 28,
   "metadata": {
    "id": "Egn68IPUjEXo"
   },
   "outputs": [],
   "source": [
    "data = np.load('drive/Shareddrives/Jet Classification/Data/Jet Flavor/labels.npy')"
   ]
  },
  {
   "cell_type": "code",
   "execution_count": 4,
   "metadata": {
    "id": "xuD2KxL5odyI"
   },
   "outputs": [],
   "source": [
    "X_train, X_test, y_train, y_test = train_test_split(features,labels, test_size = 0.2, random_state = 42)\n"
   ]
  },
  {
   "cell_type": "code",
   "execution_count": 5,
   "metadata": {},
   "outputs": [],
   "source": [
    "np.save('X_train', X_train)"
   ]
  },
  {
   "cell_type": "code",
   "execution_count": 6,
   "metadata": {},
   "outputs": [],
   "source": [
    "np.save('X_test', X_test)"
   ]
  },
  {
   "cell_type": "code",
   "execution_count": 7,
   "metadata": {},
   "outputs": [],
   "source": [
    "np.save('y_train', y_train)"
   ]
  },
  {
   "cell_type": "code",
   "execution_count": 8,
   "metadata": {},
   "outputs": [],
   "source": [
    "np.save('y_test', y_test)"
   ]
  },
  {
   "cell_type": "code",
   "execution_count": null,
   "metadata": {
    "colab": {
     "base_uri": "https://localhost:8080/"
    },
    "id": "OBleldLyodyI",
    "outputId": "0ac31f22-1516-4f2e-8986-c0a494856a31"
   },
   "outputs": [
    {
     "name": "stdout",
     "output_type": "stream",
     "text": [
      "Model: \"model\"\n",
      "_________________________________________________________________\n",
      "Layer (type)                 Output Shape              Param #   \n",
      "=================================================================\n",
      "input_1 (InputLayer)         [(None, 15, 44)]          0         \n",
      "_________________________________________________________________\n",
      "flatten (Flatten)            (None, 660)               0         \n",
      "_________________________________________________________________\n",
      "fc1_relu (Dense)             (None, 256)               169216    \n",
      "_________________________________________________________________\n",
      "dropout (Dropout)            (None, 256)               0         \n",
      "_________________________________________________________________\n",
      "fc2 (Dense)                  (None, 128)               32896     \n",
      "_________________________________________________________________\n",
      "dropout_1 (Dropout)          (None, 128)               0         \n",
      "_________________________________________________________________\n",
      "fc3 (Dense)                  (None, 64)                8256      \n",
      "_________________________________________________________________\n",
      "dropout_2 (Dropout)          (None, 64)                0         \n",
      "_________________________________________________________________\n",
      "fc4 (Dense)                  (None, 32)                2080      \n",
      "_________________________________________________________________\n",
      "dropout_3 (Dropout)          (None, 32)                0         \n",
      "_________________________________________________________________\n",
      "fc7 (Dense)                  (None, 16)                528       \n",
      "_________________________________________________________________\n",
      "output_sigmoid (Dense)       (None, 1)                 17        \n",
      "=================================================================\n",
      "Total params: 212,993\n",
      "Trainable params: 212,993\n",
      "Non-trainable params: 0\n",
      "_________________________________________________________________\n"
     ]
    }
   ],
   "source": [
    "Inputs = Input(shape= (15, 44))\n",
    "x = Flatten(trainable = True)(Inputs)\n",
    "x = Dense(256, activation='relu', kernel_initializer='lecun_uniform', name='fc1_relu')(x)\n",
    "x= Dropout(rate = 0.5)(x)\n",
    "x = Dense(128, activation='relu', kernel_initializer='lecun_uniform', name = 'fc2')(x)\n",
    "x= Dropout(rate = 0.5)(x)\n",
    "x = Dense(64, activation='relu', kernel_initializer='lecun_uniform', name = 'fc3')(x)\n",
    "x= Dropout(rate = 0.5)(x)\n",
    "x = Dense(32, activation='relu', kernel_initializer='lecun_uniform', name='fc4')(x)\n",
    "x= Dropout(rate = 0.5)(x)\n",
    "x = Dense(16, activation='relu', kernel_initializer='lecun_uniform', name='fc7')(x)\n",
    "predictions = Dense(1, activation='sigmoid', kernel_initializer='lecun_uniform', name = 'output_sigmoid')(x)\n",
    "model = Model(inputs=Inputs, outputs=predictions)\n",
    "model.summary()"
   ]
  },
  {
   "cell_type": "code",
   "execution_count": null,
   "metadata": {
    "id": "hBRB1_KBodyI"
   },
   "outputs": [],
   "source": [
    "adam = Adam(lr = 0.002)\n",
    "model.compile(optimizer='adam', loss='binary_crossentropy', metrics=['accuracy'])"
   ]
  },
  {
   "cell_type": "code",
   "execution_count": 22,
   "metadata": {
    "id": "90WxMbfrodyI"
   },
   "outputs": [],
   "source": [
    "optimizer = [Adam(lr = 0.0001), Adam(lr = 0.001), Adam(lr = 0.002), Adam(lr = 0.01)]"
   ]
  },
  {
   "cell_type": "code",
   "execution_count": 13,
   "metadata": {
    "id": "RI_tfWvDP-N3"
   },
   "outputs": [],
   "source": [
    "lsize = range(0, 500, 10)"
   ]
  },
  {
   "cell_type": "code",
   "execution_count": 16,
   "metadata": {
    "id": "Y5co_Kl6QK0l"
   },
   "outputs": [],
   "source": [
    "lsize = list(lsize)"
   ]
  },
  {
   "cell_type": "code",
   "execution_count": 17,
   "metadata": {
    "id": "2cgcoL0lXcot"
   },
   "outputs": [],
   "source": [
    "size = list(range(50,500,10))"
   ]
  },
  {
   "cell_type": "code",
   "execution_count": 18,
   "metadata": {
    "id": "Yf-n8lYiodyI"
   },
   "outputs": [],
   "source": [
    "dropout = [0, 0.1, 0.2, 0.3, 0.4, 0.5]"
   ]
  },
  {
   "cell_type": "code",
   "execution_count": 19,
   "metadata": {
    "id": "YYhS5de9odyJ"
   },
   "outputs": [],
   "source": [
    "epochs = [15,20,25,30,35,40,45,50]"
   ]
  },
  {
   "cell_type": "code",
   "execution_count": 20,
   "metadata": {
    "id": "WQfIbndlodyJ"
   },
   "outputs": [],
   "source": [
    "batch_size = [128, 256, 512, 1024, 2048]"
   ]
  },
  {
   "cell_type": "code",
   "execution_count": 32,
   "metadata": {
    "id": "nVGOjhTfodyJ"
   },
   "outputs": [],
   "source": [
    "param_grid = dict(lsize = lsize, size = size,  optimizer=optimizer, dropout = dropout, batch_size = batch_size)\n"
   ]
  },
  {
   "cell_type": "code",
   "execution_count": 33,
   "metadata": {
    "id": "mx40DwInodyJ"
   },
   "outputs": [],
   "source": [
    "Kmodel = KerasClassifier(build_fn=getModel, verbose=1)\n"
   ]
  },
  {
   "cell_type": "code",
   "execution_count": 34,
   "metadata": {
    "id": "9vkmDPHzodyJ"
   },
   "outputs": [],
   "source": [
    "random = RandomizedSearchCV(estimator=Kmodel, param_distributions=param_grid, scoring='accuracy', n_jobs=-1, refit='boolean')\n"
   ]
  },
  {
   "cell_type": "code",
   "execution_count": 36,
   "metadata": {
    "colab": {
     "base_uri": "https://localhost:8080/",
     "height": 734
    },
    "id": "3QQUSgm1odyJ",
    "outputId": "429f261e-8bae-4b97-b16f-e42f706e0225"
   },
   "outputs": [
    {
     "name": "stderr",
     "output_type": "stream",
     "text": [
      "exception calling callback for <Future at 0x7fa125328fd0 state=finished raised TerminatedWorkerError>\n",
      "Traceback (most recent call last):\n",
      "  File \"/usr/local/lib/python3.6/dist-packages/joblib/externals/loky/_base.py\", line 625, in _invoke_callbacks\n",
      "    callback(self)\n",
      "  File \"/usr/local/lib/python3.6/dist-packages/joblib/parallel.py\", line 359, in __call__\n",
      "    self.parallel.dispatch_next()\n",
      "  File \"/usr/local/lib/python3.6/dist-packages/joblib/parallel.py\", line 792, in dispatch_next\n",
      "    if not self.dispatch_one_batch(self._original_iterator):\n",
      "  File \"/usr/local/lib/python3.6/dist-packages/joblib/parallel.py\", line 859, in dispatch_one_batch\n",
      "    self._dispatch(tasks)\n",
      "  File \"/usr/local/lib/python3.6/dist-packages/joblib/parallel.py\", line 777, in _dispatch\n",
      "    job = self._backend.apply_async(batch, callback=cb)\n",
      "  File \"/usr/local/lib/python3.6/dist-packages/joblib/_parallel_backends.py\", line 531, in apply_async\n",
      "    future = self._workers.submit(SafeFunction(func))\n",
      "  File \"/usr/local/lib/python3.6/dist-packages/joblib/externals/loky/reusable_executor.py\", line 178, in submit\n",
      "    fn, *args, **kwargs)\n",
      "  File \"/usr/local/lib/python3.6/dist-packages/joblib/externals/loky/process_executor.py\", line 1102, in submit\n",
      "    raise self._flags.broken\n",
      "joblib.externals.loky.process_executor.TerminatedWorkerError: A worker process managed by the executor was unexpectedly terminated. This could be caused by a segmentation fault while calling the function or by an excessive memory usage causing the Operating System to kill the worker.\n",
      "\n",
      "The exit codes of the workers are {SIGKILL(-9)}\n"
     ]
    },
    {
     "ename": "TerminatedWorkerError",
     "evalue": "ignored",
     "output_type": "error",
     "traceback": [
      "\u001b[0;31m---------------------------------------------------------------------------\u001b[0m",
      "\u001b[0;31mTerminatedWorkerError\u001b[0m                     Traceback (most recent call last)",
      "\u001b[0;32m<ipython-input-36-2dddfcf24c96>\u001b[0m in \u001b[0;36m<module>\u001b[0;34m()\u001b[0m\n\u001b[0;32m----> 1\u001b[0;31m \u001b[0mdense_result\u001b[0m \u001b[0;34m=\u001b[0m \u001b[0mrandom\u001b[0m\u001b[0;34m.\u001b[0m\u001b[0mfit\u001b[0m\u001b[0;34m(\u001b[0m\u001b[0mX_train\u001b[0m\u001b[0;34m,\u001b[0m\u001b[0my_train\u001b[0m\u001b[0;34m,\u001b[0m \u001b[0mverbose\u001b[0m \u001b[0;34m=\u001b[0m \u001b[0;36m10\u001b[0m\u001b[0;34m)\u001b[0m\u001b[0;34m\u001b[0m\u001b[0;34m\u001b[0m\u001b[0m\n\u001b[0m",
      "\u001b[0;32m/usr/local/lib/python3.6/dist-packages/sklearn/model_selection/_search.py\u001b[0m in \u001b[0;36mfit\u001b[0;34m(self, X, y, groups, **fit_params)\u001b[0m\n\u001b[1;32m    708\u001b[0m                 \u001b[0;32mreturn\u001b[0m \u001b[0mresults\u001b[0m\u001b[0;34m\u001b[0m\u001b[0;34m\u001b[0m\u001b[0m\n\u001b[1;32m    709\u001b[0m \u001b[0;34m\u001b[0m\u001b[0m\n\u001b[0;32m--> 710\u001b[0;31m             \u001b[0mself\u001b[0m\u001b[0;34m.\u001b[0m\u001b[0m_run_search\u001b[0m\u001b[0;34m(\u001b[0m\u001b[0mevaluate_candidates\u001b[0m\u001b[0;34m)\u001b[0m\u001b[0;34m\u001b[0m\u001b[0;34m\u001b[0m\u001b[0m\n\u001b[0m\u001b[1;32m    711\u001b[0m \u001b[0;34m\u001b[0m\u001b[0m\n\u001b[1;32m    712\u001b[0m         \u001b[0;31m# For multi-metric evaluation, store the best_index_, best_params_ and\u001b[0m\u001b[0;34m\u001b[0m\u001b[0;34m\u001b[0m\u001b[0;34m\u001b[0m\u001b[0m\n",
      "\u001b[0;32m/usr/local/lib/python3.6/dist-packages/sklearn/model_selection/_search.py\u001b[0m in \u001b[0;36m_run_search\u001b[0;34m(self, evaluate_candidates)\u001b[0m\n\u001b[1;32m   1482\u001b[0m         evaluate_candidates(ParameterSampler(\n\u001b[1;32m   1483\u001b[0m             \u001b[0mself\u001b[0m\u001b[0;34m.\u001b[0m\u001b[0mparam_distributions\u001b[0m\u001b[0;34m,\u001b[0m \u001b[0mself\u001b[0m\u001b[0;34m.\u001b[0m\u001b[0mn_iter\u001b[0m\u001b[0;34m,\u001b[0m\u001b[0;34m\u001b[0m\u001b[0;34m\u001b[0m\u001b[0m\n\u001b[0;32m-> 1484\u001b[0;31m             random_state=self.random_state))\n\u001b[0m",
      "\u001b[0;32m/usr/local/lib/python3.6/dist-packages/sklearn/model_selection/_search.py\u001b[0m in \u001b[0;36mevaluate_candidates\u001b[0;34m(candidate_params)\u001b[0m\n\u001b[1;32m    687\u001b[0m                                \u001b[0;32mfor\u001b[0m \u001b[0mparameters\u001b[0m\u001b[0;34m,\u001b[0m \u001b[0;34m(\u001b[0m\u001b[0mtrain\u001b[0m\u001b[0;34m,\u001b[0m \u001b[0mtest\u001b[0m\u001b[0;34m)\u001b[0m\u001b[0;34m\u001b[0m\u001b[0;34m\u001b[0m\u001b[0m\n\u001b[1;32m    688\u001b[0m                                in product(candidate_params,\n\u001b[0;32m--> 689\u001b[0;31m                                           cv.split(X, y, groups)))\n\u001b[0m\u001b[1;32m    690\u001b[0m \u001b[0;34m\u001b[0m\u001b[0m\n\u001b[1;32m    691\u001b[0m                 \u001b[0;32mif\u001b[0m \u001b[0mlen\u001b[0m\u001b[0;34m(\u001b[0m\u001b[0mout\u001b[0m\u001b[0;34m)\u001b[0m \u001b[0;34m<\u001b[0m \u001b[0;36m1\u001b[0m\u001b[0;34m:\u001b[0m\u001b[0;34m\u001b[0m\u001b[0;34m\u001b[0m\u001b[0m\n",
      "\u001b[0;32m/usr/local/lib/python3.6/dist-packages/joblib/parallel.py\u001b[0m in \u001b[0;36m__call__\u001b[0;34m(self, iterable)\u001b[0m\n\u001b[1;32m   1052\u001b[0m \u001b[0;34m\u001b[0m\u001b[0m\n\u001b[1;32m   1053\u001b[0m             \u001b[0;32mwith\u001b[0m \u001b[0mself\u001b[0m\u001b[0;34m.\u001b[0m\u001b[0m_backend\u001b[0m\u001b[0;34m.\u001b[0m\u001b[0mretrieval_context\u001b[0m\u001b[0;34m(\u001b[0m\u001b[0;34m)\u001b[0m\u001b[0;34m:\u001b[0m\u001b[0;34m\u001b[0m\u001b[0;34m\u001b[0m\u001b[0m\n\u001b[0;32m-> 1054\u001b[0;31m                 \u001b[0mself\u001b[0m\u001b[0;34m.\u001b[0m\u001b[0mretrieve\u001b[0m\u001b[0;34m(\u001b[0m\u001b[0;34m)\u001b[0m\u001b[0;34m\u001b[0m\u001b[0;34m\u001b[0m\u001b[0m\n\u001b[0m\u001b[1;32m   1055\u001b[0m             \u001b[0;31m# Make sure that we get a last message telling us we are done\u001b[0m\u001b[0;34m\u001b[0m\u001b[0;34m\u001b[0m\u001b[0;34m\u001b[0m\u001b[0m\n\u001b[1;32m   1056\u001b[0m             \u001b[0melapsed_time\u001b[0m \u001b[0;34m=\u001b[0m \u001b[0mtime\u001b[0m\u001b[0;34m.\u001b[0m\u001b[0mtime\u001b[0m\u001b[0;34m(\u001b[0m\u001b[0;34m)\u001b[0m \u001b[0;34m-\u001b[0m \u001b[0mself\u001b[0m\u001b[0;34m.\u001b[0m\u001b[0m_start_time\u001b[0m\u001b[0;34m\u001b[0m\u001b[0;34m\u001b[0m\u001b[0m\n",
      "\u001b[0;32m/usr/local/lib/python3.6/dist-packages/joblib/parallel.py\u001b[0m in \u001b[0;36mretrieve\u001b[0;34m(self)\u001b[0m\n\u001b[1;32m    931\u001b[0m             \u001b[0;32mtry\u001b[0m\u001b[0;34m:\u001b[0m\u001b[0;34m\u001b[0m\u001b[0;34m\u001b[0m\u001b[0m\n\u001b[1;32m    932\u001b[0m                 \u001b[0;32mif\u001b[0m \u001b[0mgetattr\u001b[0m\u001b[0;34m(\u001b[0m\u001b[0mself\u001b[0m\u001b[0;34m.\u001b[0m\u001b[0m_backend\u001b[0m\u001b[0;34m,\u001b[0m \u001b[0;34m'supports_timeout'\u001b[0m\u001b[0;34m,\u001b[0m \u001b[0;32mFalse\u001b[0m\u001b[0;34m)\u001b[0m\u001b[0;34m:\u001b[0m\u001b[0;34m\u001b[0m\u001b[0;34m\u001b[0m\u001b[0m\n\u001b[0;32m--> 933\u001b[0;31m                     \u001b[0mself\u001b[0m\u001b[0;34m.\u001b[0m\u001b[0m_output\u001b[0m\u001b[0;34m.\u001b[0m\u001b[0mextend\u001b[0m\u001b[0;34m(\u001b[0m\u001b[0mjob\u001b[0m\u001b[0;34m.\u001b[0m\u001b[0mget\u001b[0m\u001b[0;34m(\u001b[0m\u001b[0mtimeout\u001b[0m\u001b[0;34m=\u001b[0m\u001b[0mself\u001b[0m\u001b[0;34m.\u001b[0m\u001b[0mtimeout\u001b[0m\u001b[0;34m)\u001b[0m\u001b[0;34m)\u001b[0m\u001b[0;34m\u001b[0m\u001b[0;34m\u001b[0m\u001b[0m\n\u001b[0m\u001b[1;32m    934\u001b[0m                 \u001b[0;32melse\u001b[0m\u001b[0;34m:\u001b[0m\u001b[0;34m\u001b[0m\u001b[0;34m\u001b[0m\u001b[0m\n\u001b[1;32m    935\u001b[0m                     \u001b[0mself\u001b[0m\u001b[0;34m.\u001b[0m\u001b[0m_output\u001b[0m\u001b[0;34m.\u001b[0m\u001b[0mextend\u001b[0m\u001b[0;34m(\u001b[0m\u001b[0mjob\u001b[0m\u001b[0;34m.\u001b[0m\u001b[0mget\u001b[0m\u001b[0;34m(\u001b[0m\u001b[0;34m)\u001b[0m\u001b[0;34m)\u001b[0m\u001b[0;34m\u001b[0m\u001b[0;34m\u001b[0m\u001b[0m\n",
      "\u001b[0;32m/usr/local/lib/python3.6/dist-packages/joblib/_parallel_backends.py\u001b[0m in \u001b[0;36mwrap_future_result\u001b[0;34m(future, timeout)\u001b[0m\n\u001b[1;32m    540\u001b[0m         AsyncResults.get from multiprocessing.\"\"\"\n\u001b[1;32m    541\u001b[0m         \u001b[0;32mtry\u001b[0m\u001b[0;34m:\u001b[0m\u001b[0;34m\u001b[0m\u001b[0;34m\u001b[0m\u001b[0m\n\u001b[0;32m--> 542\u001b[0;31m             \u001b[0;32mreturn\u001b[0m \u001b[0mfuture\u001b[0m\u001b[0;34m.\u001b[0m\u001b[0mresult\u001b[0m\u001b[0;34m(\u001b[0m\u001b[0mtimeout\u001b[0m\u001b[0;34m=\u001b[0m\u001b[0mtimeout\u001b[0m\u001b[0;34m)\u001b[0m\u001b[0;34m\u001b[0m\u001b[0;34m\u001b[0m\u001b[0m\n\u001b[0m\u001b[1;32m    543\u001b[0m         \u001b[0;32mexcept\u001b[0m \u001b[0mCfTimeoutError\u001b[0m \u001b[0;32mas\u001b[0m \u001b[0me\u001b[0m\u001b[0;34m:\u001b[0m\u001b[0;34m\u001b[0m\u001b[0;34m\u001b[0m\u001b[0m\n\u001b[1;32m    544\u001b[0m             \u001b[0;32mraise\u001b[0m \u001b[0mTimeoutError\u001b[0m \u001b[0;32mfrom\u001b[0m \u001b[0me\u001b[0m\u001b[0;34m\u001b[0m\u001b[0;34m\u001b[0m\u001b[0m\n",
      "\u001b[0;32m/usr/lib/python3.6/concurrent/futures/_base.py\u001b[0m in \u001b[0;36mresult\u001b[0;34m(self, timeout)\u001b[0m\n\u001b[1;32m    430\u001b[0m                 \u001b[0;32mraise\u001b[0m \u001b[0mCancelledError\u001b[0m\u001b[0;34m(\u001b[0m\u001b[0;34m)\u001b[0m\u001b[0;34m\u001b[0m\u001b[0;34m\u001b[0m\u001b[0m\n\u001b[1;32m    431\u001b[0m             \u001b[0;32melif\u001b[0m \u001b[0mself\u001b[0m\u001b[0;34m.\u001b[0m\u001b[0m_state\u001b[0m \u001b[0;34m==\u001b[0m \u001b[0mFINISHED\u001b[0m\u001b[0;34m:\u001b[0m\u001b[0;34m\u001b[0m\u001b[0;34m\u001b[0m\u001b[0m\n\u001b[0;32m--> 432\u001b[0;31m                 \u001b[0;32mreturn\u001b[0m \u001b[0mself\u001b[0m\u001b[0;34m.\u001b[0m\u001b[0m__get_result\u001b[0m\u001b[0;34m(\u001b[0m\u001b[0;34m)\u001b[0m\u001b[0;34m\u001b[0m\u001b[0;34m\u001b[0m\u001b[0m\n\u001b[0m\u001b[1;32m    433\u001b[0m             \u001b[0;32melse\u001b[0m\u001b[0;34m:\u001b[0m\u001b[0;34m\u001b[0m\u001b[0;34m\u001b[0m\u001b[0m\n\u001b[1;32m    434\u001b[0m                 \u001b[0;32mraise\u001b[0m \u001b[0mTimeoutError\u001b[0m\u001b[0;34m(\u001b[0m\u001b[0;34m)\u001b[0m\u001b[0;34m\u001b[0m\u001b[0;34m\u001b[0m\u001b[0m\n",
      "\u001b[0;32m/usr/lib/python3.6/concurrent/futures/_base.py\u001b[0m in \u001b[0;36m__get_result\u001b[0;34m(self)\u001b[0m\n\u001b[1;32m    382\u001b[0m     \u001b[0;32mdef\u001b[0m \u001b[0m__get_result\u001b[0m\u001b[0;34m(\u001b[0m\u001b[0mself\u001b[0m\u001b[0;34m)\u001b[0m\u001b[0;34m:\u001b[0m\u001b[0;34m\u001b[0m\u001b[0;34m\u001b[0m\u001b[0m\n\u001b[1;32m    383\u001b[0m         \u001b[0;32mif\u001b[0m \u001b[0mself\u001b[0m\u001b[0;34m.\u001b[0m\u001b[0m_exception\u001b[0m\u001b[0;34m:\u001b[0m\u001b[0;34m\u001b[0m\u001b[0;34m\u001b[0m\u001b[0m\n\u001b[0;32m--> 384\u001b[0;31m             \u001b[0;32mraise\u001b[0m \u001b[0mself\u001b[0m\u001b[0;34m.\u001b[0m\u001b[0m_exception\u001b[0m\u001b[0;34m\u001b[0m\u001b[0;34m\u001b[0m\u001b[0m\n\u001b[0m\u001b[1;32m    385\u001b[0m         \u001b[0;32melse\u001b[0m\u001b[0;34m:\u001b[0m\u001b[0;34m\u001b[0m\u001b[0;34m\u001b[0m\u001b[0m\n\u001b[1;32m    386\u001b[0m             \u001b[0;32mreturn\u001b[0m \u001b[0mself\u001b[0m\u001b[0;34m.\u001b[0m\u001b[0m_result\u001b[0m\u001b[0;34m\u001b[0m\u001b[0;34m\u001b[0m\u001b[0m\n",
      "\u001b[0;32m/usr/local/lib/python3.6/dist-packages/joblib/externals/loky/_base.py\u001b[0m in \u001b[0;36m_invoke_callbacks\u001b[0;34m(self)\u001b[0m\n\u001b[1;32m    623\u001b[0m         \u001b[0;32mfor\u001b[0m \u001b[0mcallback\u001b[0m \u001b[0;32min\u001b[0m \u001b[0mself\u001b[0m\u001b[0;34m.\u001b[0m\u001b[0m_done_callbacks\u001b[0m\u001b[0;34m:\u001b[0m\u001b[0;34m\u001b[0m\u001b[0;34m\u001b[0m\u001b[0m\n\u001b[1;32m    624\u001b[0m             \u001b[0;32mtry\u001b[0m\u001b[0;34m:\u001b[0m\u001b[0;34m\u001b[0m\u001b[0;34m\u001b[0m\u001b[0m\n\u001b[0;32m--> 625\u001b[0;31m                 \u001b[0mcallback\u001b[0m\u001b[0;34m(\u001b[0m\u001b[0mself\u001b[0m\u001b[0;34m)\u001b[0m\u001b[0;34m\u001b[0m\u001b[0;34m\u001b[0m\u001b[0m\n\u001b[0m\u001b[1;32m    626\u001b[0m             \u001b[0;32mexcept\u001b[0m \u001b[0mBaseException\u001b[0m\u001b[0;34m:\u001b[0m\u001b[0;34m\u001b[0m\u001b[0;34m\u001b[0m\u001b[0m\n\u001b[1;32m    627\u001b[0m                 \u001b[0mLOGGER\u001b[0m\u001b[0;34m.\u001b[0m\u001b[0mexception\u001b[0m\u001b[0;34m(\u001b[0m\u001b[0;34m'exception calling callback for %r'\u001b[0m\u001b[0;34m,\u001b[0m \u001b[0mself\u001b[0m\u001b[0;34m)\u001b[0m\u001b[0;34m\u001b[0m\u001b[0;34m\u001b[0m\u001b[0m\n",
      "\u001b[0;32m/usr/local/lib/python3.6/dist-packages/joblib/parallel.py\u001b[0m in \u001b[0;36m__call__\u001b[0;34m(self, out)\u001b[0m\n\u001b[1;32m    357\u001b[0m         \u001b[0;32mwith\u001b[0m \u001b[0mself\u001b[0m\u001b[0;34m.\u001b[0m\u001b[0mparallel\u001b[0m\u001b[0;34m.\u001b[0m\u001b[0m_lock\u001b[0m\u001b[0;34m:\u001b[0m\u001b[0;34m\u001b[0m\u001b[0;34m\u001b[0m\u001b[0m\n\u001b[1;32m    358\u001b[0m             \u001b[0;32mif\u001b[0m \u001b[0mself\u001b[0m\u001b[0;34m.\u001b[0m\u001b[0mparallel\u001b[0m\u001b[0;34m.\u001b[0m\u001b[0m_original_iterator\u001b[0m \u001b[0;32mis\u001b[0m \u001b[0;32mnot\u001b[0m \u001b[0;32mNone\u001b[0m\u001b[0;34m:\u001b[0m\u001b[0;34m\u001b[0m\u001b[0;34m\u001b[0m\u001b[0m\n\u001b[0;32m--> 359\u001b[0;31m                 \u001b[0mself\u001b[0m\u001b[0;34m.\u001b[0m\u001b[0mparallel\u001b[0m\u001b[0;34m.\u001b[0m\u001b[0mdispatch_next\u001b[0m\u001b[0;34m(\u001b[0m\u001b[0;34m)\u001b[0m\u001b[0;34m\u001b[0m\u001b[0;34m\u001b[0m\u001b[0m\n\u001b[0m\u001b[1;32m    360\u001b[0m \u001b[0;34m\u001b[0m\u001b[0m\n\u001b[1;32m    361\u001b[0m \u001b[0;34m\u001b[0m\u001b[0m\n",
      "\u001b[0;32m/usr/local/lib/python3.6/dist-packages/joblib/parallel.py\u001b[0m in \u001b[0;36mdispatch_next\u001b[0;34m(self)\u001b[0m\n\u001b[1;32m    790\u001b[0m \u001b[0;34m\u001b[0m\u001b[0m\n\u001b[1;32m    791\u001b[0m         \"\"\"\n\u001b[0;32m--> 792\u001b[0;31m         \u001b[0;32mif\u001b[0m \u001b[0;32mnot\u001b[0m \u001b[0mself\u001b[0m\u001b[0;34m.\u001b[0m\u001b[0mdispatch_one_batch\u001b[0m\u001b[0;34m(\u001b[0m\u001b[0mself\u001b[0m\u001b[0;34m.\u001b[0m\u001b[0m_original_iterator\u001b[0m\u001b[0;34m)\u001b[0m\u001b[0;34m:\u001b[0m\u001b[0;34m\u001b[0m\u001b[0;34m\u001b[0m\u001b[0m\n\u001b[0m\u001b[1;32m    793\u001b[0m             \u001b[0mself\u001b[0m\u001b[0;34m.\u001b[0m\u001b[0m_iterating\u001b[0m \u001b[0;34m=\u001b[0m \u001b[0;32mFalse\u001b[0m\u001b[0;34m\u001b[0m\u001b[0;34m\u001b[0m\u001b[0m\n\u001b[1;32m    794\u001b[0m             \u001b[0mself\u001b[0m\u001b[0;34m.\u001b[0m\u001b[0m_original_iterator\u001b[0m \u001b[0;34m=\u001b[0m \u001b[0;32mNone\u001b[0m\u001b[0;34m\u001b[0m\u001b[0;34m\u001b[0m\u001b[0m\n",
      "\u001b[0;32m/usr/local/lib/python3.6/dist-packages/joblib/parallel.py\u001b[0m in \u001b[0;36mdispatch_one_batch\u001b[0;34m(self, iterator)\u001b[0m\n\u001b[1;32m    857\u001b[0m                 \u001b[0;32mreturn\u001b[0m \u001b[0;32mFalse\u001b[0m\u001b[0;34m\u001b[0m\u001b[0;34m\u001b[0m\u001b[0m\n\u001b[1;32m    858\u001b[0m             \u001b[0;32melse\u001b[0m\u001b[0;34m:\u001b[0m\u001b[0;34m\u001b[0m\u001b[0;34m\u001b[0m\u001b[0m\n\u001b[0;32m--> 859\u001b[0;31m                 \u001b[0mself\u001b[0m\u001b[0;34m.\u001b[0m\u001b[0m_dispatch\u001b[0m\u001b[0;34m(\u001b[0m\u001b[0mtasks\u001b[0m\u001b[0;34m)\u001b[0m\u001b[0;34m\u001b[0m\u001b[0;34m\u001b[0m\u001b[0m\n\u001b[0m\u001b[1;32m    860\u001b[0m                 \u001b[0;32mreturn\u001b[0m \u001b[0;32mTrue\u001b[0m\u001b[0;34m\u001b[0m\u001b[0;34m\u001b[0m\u001b[0m\n\u001b[1;32m    861\u001b[0m \u001b[0;34m\u001b[0m\u001b[0m\n",
      "\u001b[0;32m/usr/local/lib/python3.6/dist-packages/joblib/parallel.py\u001b[0m in \u001b[0;36m_dispatch\u001b[0;34m(self, batch)\u001b[0m\n\u001b[1;32m    775\u001b[0m         \u001b[0;32mwith\u001b[0m \u001b[0mself\u001b[0m\u001b[0;34m.\u001b[0m\u001b[0m_lock\u001b[0m\u001b[0;34m:\u001b[0m\u001b[0;34m\u001b[0m\u001b[0;34m\u001b[0m\u001b[0m\n\u001b[1;32m    776\u001b[0m             \u001b[0mjob_idx\u001b[0m \u001b[0;34m=\u001b[0m \u001b[0mlen\u001b[0m\u001b[0;34m(\u001b[0m\u001b[0mself\u001b[0m\u001b[0;34m.\u001b[0m\u001b[0m_jobs\u001b[0m\u001b[0;34m)\u001b[0m\u001b[0;34m\u001b[0m\u001b[0;34m\u001b[0m\u001b[0m\n\u001b[0;32m--> 777\u001b[0;31m             \u001b[0mjob\u001b[0m \u001b[0;34m=\u001b[0m \u001b[0mself\u001b[0m\u001b[0;34m.\u001b[0m\u001b[0m_backend\u001b[0m\u001b[0;34m.\u001b[0m\u001b[0mapply_async\u001b[0m\u001b[0;34m(\u001b[0m\u001b[0mbatch\u001b[0m\u001b[0;34m,\u001b[0m \u001b[0mcallback\u001b[0m\u001b[0;34m=\u001b[0m\u001b[0mcb\u001b[0m\u001b[0;34m)\u001b[0m\u001b[0;34m\u001b[0m\u001b[0;34m\u001b[0m\u001b[0m\n\u001b[0m\u001b[1;32m    778\u001b[0m             \u001b[0;31m# A job can complete so quickly than its callback is\u001b[0m\u001b[0;34m\u001b[0m\u001b[0;34m\u001b[0m\u001b[0;34m\u001b[0m\u001b[0m\n\u001b[1;32m    779\u001b[0m             \u001b[0;31m# called before we get here, causing self._jobs to\u001b[0m\u001b[0;34m\u001b[0m\u001b[0;34m\u001b[0m\u001b[0;34m\u001b[0m\u001b[0m\n",
      "\u001b[0;32m/usr/local/lib/python3.6/dist-packages/joblib/_parallel_backends.py\u001b[0m in \u001b[0;36mapply_async\u001b[0;34m(self, func, callback)\u001b[0m\n\u001b[1;32m    529\u001b[0m     \u001b[0;32mdef\u001b[0m \u001b[0mapply_async\u001b[0m\u001b[0;34m(\u001b[0m\u001b[0mself\u001b[0m\u001b[0;34m,\u001b[0m \u001b[0mfunc\u001b[0m\u001b[0;34m,\u001b[0m \u001b[0mcallback\u001b[0m\u001b[0;34m=\u001b[0m\u001b[0;32mNone\u001b[0m\u001b[0;34m)\u001b[0m\u001b[0;34m:\u001b[0m\u001b[0;34m\u001b[0m\u001b[0;34m\u001b[0m\u001b[0m\n\u001b[1;32m    530\u001b[0m         \u001b[0;34m\"\"\"Schedule a func to be run\"\"\"\u001b[0m\u001b[0;34m\u001b[0m\u001b[0;34m\u001b[0m\u001b[0m\n\u001b[0;32m--> 531\u001b[0;31m         \u001b[0mfuture\u001b[0m \u001b[0;34m=\u001b[0m \u001b[0mself\u001b[0m\u001b[0;34m.\u001b[0m\u001b[0m_workers\u001b[0m\u001b[0;34m.\u001b[0m\u001b[0msubmit\u001b[0m\u001b[0;34m(\u001b[0m\u001b[0mSafeFunction\u001b[0m\u001b[0;34m(\u001b[0m\u001b[0mfunc\u001b[0m\u001b[0;34m)\u001b[0m\u001b[0;34m)\u001b[0m\u001b[0;34m\u001b[0m\u001b[0;34m\u001b[0m\u001b[0m\n\u001b[0m\u001b[1;32m    532\u001b[0m         \u001b[0mfuture\u001b[0m\u001b[0;34m.\u001b[0m\u001b[0mget\u001b[0m \u001b[0;34m=\u001b[0m \u001b[0mfunctools\u001b[0m\u001b[0;34m.\u001b[0m\u001b[0mpartial\u001b[0m\u001b[0;34m(\u001b[0m\u001b[0mself\u001b[0m\u001b[0;34m.\u001b[0m\u001b[0mwrap_future_result\u001b[0m\u001b[0;34m,\u001b[0m \u001b[0mfuture\u001b[0m\u001b[0;34m)\u001b[0m\u001b[0;34m\u001b[0m\u001b[0;34m\u001b[0m\u001b[0m\n\u001b[1;32m    533\u001b[0m         \u001b[0;32mif\u001b[0m \u001b[0mcallback\u001b[0m \u001b[0;32mis\u001b[0m \u001b[0;32mnot\u001b[0m \u001b[0;32mNone\u001b[0m\u001b[0;34m:\u001b[0m\u001b[0;34m\u001b[0m\u001b[0;34m\u001b[0m\u001b[0m\n",
      "\u001b[0;32m/usr/local/lib/python3.6/dist-packages/joblib/externals/loky/reusable_executor.py\u001b[0m in \u001b[0;36msubmit\u001b[0;34m(self, fn, *args, **kwargs)\u001b[0m\n\u001b[1;32m    176\u001b[0m         \u001b[0;32mwith\u001b[0m \u001b[0mself\u001b[0m\u001b[0;34m.\u001b[0m\u001b[0m_submit_resize_lock\u001b[0m\u001b[0;34m:\u001b[0m\u001b[0;34m\u001b[0m\u001b[0;34m\u001b[0m\u001b[0m\n\u001b[1;32m    177\u001b[0m             return super(_ReusablePoolExecutor, self).submit(\n\u001b[0;32m--> 178\u001b[0;31m                 fn, *args, **kwargs)\n\u001b[0m\u001b[1;32m    179\u001b[0m \u001b[0;34m\u001b[0m\u001b[0m\n\u001b[1;32m    180\u001b[0m     \u001b[0;32mdef\u001b[0m \u001b[0m_resize\u001b[0m\u001b[0;34m(\u001b[0m\u001b[0mself\u001b[0m\u001b[0;34m,\u001b[0m \u001b[0mmax_workers\u001b[0m\u001b[0;34m)\u001b[0m\u001b[0;34m:\u001b[0m\u001b[0;34m\u001b[0m\u001b[0;34m\u001b[0m\u001b[0m\n",
      "\u001b[0;32m/usr/local/lib/python3.6/dist-packages/joblib/externals/loky/process_executor.py\u001b[0m in \u001b[0;36msubmit\u001b[0;34m(self, fn, *args, **kwargs)\u001b[0m\n\u001b[1;32m   1100\u001b[0m         \u001b[0;32mwith\u001b[0m \u001b[0mself\u001b[0m\u001b[0;34m.\u001b[0m\u001b[0m_flags\u001b[0m\u001b[0;34m.\u001b[0m\u001b[0mshutdown_lock\u001b[0m\u001b[0;34m:\u001b[0m\u001b[0;34m\u001b[0m\u001b[0;34m\u001b[0m\u001b[0m\n\u001b[1;32m   1101\u001b[0m             \u001b[0;32mif\u001b[0m \u001b[0mself\u001b[0m\u001b[0;34m.\u001b[0m\u001b[0m_flags\u001b[0m\u001b[0;34m.\u001b[0m\u001b[0mbroken\u001b[0m \u001b[0;32mis\u001b[0m \u001b[0;32mnot\u001b[0m \u001b[0;32mNone\u001b[0m\u001b[0;34m:\u001b[0m\u001b[0;34m\u001b[0m\u001b[0;34m\u001b[0m\u001b[0m\n\u001b[0;32m-> 1102\u001b[0;31m                 \u001b[0;32mraise\u001b[0m \u001b[0mself\u001b[0m\u001b[0;34m.\u001b[0m\u001b[0m_flags\u001b[0m\u001b[0;34m.\u001b[0m\u001b[0mbroken\u001b[0m\u001b[0;34m\u001b[0m\u001b[0;34m\u001b[0m\u001b[0m\n\u001b[0m\u001b[1;32m   1103\u001b[0m             \u001b[0;32mif\u001b[0m \u001b[0mself\u001b[0m\u001b[0;34m.\u001b[0m\u001b[0m_flags\u001b[0m\u001b[0;34m.\u001b[0m\u001b[0mshutdown\u001b[0m\u001b[0;34m:\u001b[0m\u001b[0;34m\u001b[0m\u001b[0;34m\u001b[0m\u001b[0m\n\u001b[1;32m   1104\u001b[0m                 raise ShutdownExecutorError(\n",
      "\u001b[0;31mTerminatedWorkerError\u001b[0m: A worker process managed by the executor was unexpectedly terminated. This could be caused by a segmentation fault while calling the function or by an excessive memory usage causing the Operating System to kill the worker.\n\nThe exit codes of the workers are {SIGKILL(-9)}"
     ]
    }
   ],
   "source": [
    "dense_result = random.fit(X_train,y_train, verbose = 10)"
   ]
  },
  {
   "cell_type": "code",
   "execution_count": null,
   "metadata": {
    "id": "y47C02DfodyK"
   },
   "outputs": [],
   "source": [
    "Kmodel = KerasClassifier(build_fn=getModel, verbose=1)\n"
   ]
  },
  {
   "cell_type": "code",
   "execution_count": null,
   "metadata": {
    "colab": {
     "base_uri": "https://localhost:8080/"
    },
    "id": "iT6X_6qYodyK",
    "outputId": "036c14f5-7509-45ef-febf-d66305b58050"
   },
   "outputs": [
    {
     "name": "stdout",
     "output_type": "stream",
     "text": [
      "Epoch 1/100\n",
      "269/269 [==============================] - 5s 8ms/step - loss: 0.7466 - accuracy: 0.6469 - val_loss: 0.3982 - val_accuracy: 0.8444\n",
      "Epoch 2/100\n",
      "269/269 [==============================] - 2s 6ms/step - loss: 0.4075 - accuracy: 0.8355 - val_loss: 0.3934 - val_accuracy: 0.8549\n",
      "Epoch 3/100\n",
      "269/269 [==============================] - 2s 6ms/step - loss: 0.3784 - accuracy: 0.8462 - val_loss: 0.4080 - val_accuracy: 0.8568\n",
      "Epoch 4/100\n",
      "269/269 [==============================] - 2s 6ms/step - loss: 0.3672 - accuracy: 0.8489 - val_loss: 0.3787 - val_accuracy: 0.8565\n",
      "Epoch 5/100\n",
      "269/269 [==============================] - 1s 6ms/step - loss: 0.3590 - accuracy: 0.8507 - val_loss: 0.3793 - val_accuracy: 0.8614\n",
      "Epoch 6/100\n",
      "269/269 [==============================] - 2s 6ms/step - loss: 0.3542 - accuracy: 0.8524 - val_loss: 0.3748 - val_accuracy: 0.8600\n",
      "Epoch 7/100\n",
      "269/269 [==============================] - 2s 6ms/step - loss: 0.3485 - accuracy: 0.8539 - val_loss: 0.3734 - val_accuracy: 0.8625\n",
      "Epoch 8/100\n",
      "269/269 [==============================] - 2s 6ms/step - loss: 0.3464 - accuracy: 0.8550 - val_loss: 0.3523 - val_accuracy: 0.8622\n",
      "Epoch 9/100\n",
      "269/269 [==============================] - 2s 6ms/step - loss: 0.3449 - accuracy: 0.8560 - val_loss: 0.3716 - val_accuracy: 0.8637\n",
      "Epoch 10/100\n",
      "269/269 [==============================] - 2s 6ms/step - loss: 0.3395 - accuracy: 0.8576 - val_loss: 0.3717 - val_accuracy: 0.8621\n",
      "Epoch 11/100\n",
      "269/269 [==============================] - 1s 6ms/step - loss: 0.3392 - accuracy: 0.8578 - val_loss: 0.3559 - val_accuracy: 0.8650\n",
      "Epoch 12/100\n",
      "269/269 [==============================] - 2s 6ms/step - loss: 0.3364 - accuracy: 0.8590 - val_loss: 0.3430 - val_accuracy: 0.8656\n",
      "Epoch 13/100\n",
      "269/269 [==============================] - 2s 6ms/step - loss: 0.3359 - accuracy: 0.8585 - val_loss: 0.3467 - val_accuracy: 0.8651\n",
      "Epoch 14/100\n",
      "269/269 [==============================] - 2s 6ms/step - loss: 0.3356 - accuracy: 0.8584 - val_loss: 0.3404 - val_accuracy: 0.8647\n",
      "Epoch 15/100\n",
      "269/269 [==============================] - 2s 6ms/step - loss: 0.3307 - accuracy: 0.8611 - val_loss: 0.3372 - val_accuracy: 0.8676\n",
      "Epoch 16/100\n",
      "269/269 [==============================] - 1s 5ms/step - loss: 0.3330 - accuracy: 0.8604 - val_loss: 0.3456 - val_accuracy: 0.8665\n",
      "Epoch 17/100\n",
      "269/269 [==============================] - 2s 6ms/step - loss: 0.3297 - accuracy: 0.8616 - val_loss: 0.3373 - val_accuracy: 0.8672\n",
      "Epoch 18/100\n",
      "269/269 [==============================] - 2s 6ms/step - loss: 0.3324 - accuracy: 0.8603 - val_loss: 0.3348 - val_accuracy: 0.8672\n",
      "Epoch 19/100\n",
      "269/269 [==============================] - 2s 6ms/step - loss: 0.3270 - accuracy: 0.8614 - val_loss: 0.3375 - val_accuracy: 0.8672\n",
      "Epoch 20/100\n",
      "269/269 [==============================] - 2s 6ms/step - loss: 0.3258 - accuracy: 0.8628 - val_loss: 0.3418 - val_accuracy: 0.8671\n",
      "Epoch 21/100\n",
      "269/269 [==============================] - 1s 5ms/step - loss: 0.3260 - accuracy: 0.8623 - val_loss: 0.3254 - val_accuracy: 0.8680\n",
      "Epoch 22/100\n",
      "269/269 [==============================] - 2s 6ms/step - loss: 0.3254 - accuracy: 0.8626 - val_loss: 0.3298 - val_accuracy: 0.8694\n",
      "Epoch 23/100\n",
      "269/269 [==============================] - 1s 6ms/step - loss: 0.3243 - accuracy: 0.8645 - val_loss: 0.3243 - val_accuracy: 0.8688\n",
      "Epoch 24/100\n",
      "269/269 [==============================] - 2s 6ms/step - loss: 0.3243 - accuracy: 0.8644 - val_loss: 0.3351 - val_accuracy: 0.8699\n",
      "Epoch 25/100\n",
      "269/269 [==============================] - 2s 6ms/step - loss: 0.3231 - accuracy: 0.8648 - val_loss: 0.3386 - val_accuracy: 0.8682\n",
      "Epoch 26/100\n",
      "269/269 [==============================] - 2s 6ms/step - loss: 0.3228 - accuracy: 0.8642 - val_loss: 0.3252 - val_accuracy: 0.8694\n",
      "Epoch 27/100\n",
      "269/269 [==============================] - 2s 6ms/step - loss: 0.3228 - accuracy: 0.8639 - val_loss: 0.3239 - val_accuracy: 0.8698\n",
      "Epoch 28/100\n",
      "269/269 [==============================] - 2s 6ms/step - loss: 0.3212 - accuracy: 0.8649 - val_loss: 0.3287 - val_accuracy: 0.8704\n",
      "Epoch 29/100\n",
      "269/269 [==============================] - 2s 6ms/step - loss: 0.3232 - accuracy: 0.8638 - val_loss: 0.3227 - val_accuracy: 0.8694\n",
      "Epoch 30/100\n",
      "269/269 [==============================] - 2s 6ms/step - loss: 0.3224 - accuracy: 0.8642 - val_loss: 0.3323 - val_accuracy: 0.8705\n",
      "Epoch 31/100\n",
      "269/269 [==============================] - 1s 6ms/step - loss: 0.3223 - accuracy: 0.8642 - val_loss: 0.3279 - val_accuracy: 0.8698\n",
      "Epoch 32/100\n",
      "269/269 [==============================] - 2s 6ms/step - loss: 0.3208 - accuracy: 0.8640 - val_loss: 0.3175 - val_accuracy: 0.8708\n",
      "Epoch 33/100\n",
      "269/269 [==============================] - 2s 6ms/step - loss: 0.3197 - accuracy: 0.8656 - val_loss: 0.3164 - val_accuracy: 0.8702\n",
      "Epoch 34/100\n",
      "269/269 [==============================] - 2s 6ms/step - loss: 0.3202 - accuracy: 0.8646 - val_loss: 0.3186 - val_accuracy: 0.8701\n",
      "Epoch 35/100\n",
      "269/269 [==============================] - 2s 6ms/step - loss: 0.3206 - accuracy: 0.8652 - val_loss: 0.3261 - val_accuracy: 0.8706\n",
      "Epoch 36/100\n",
      "269/269 [==============================] - 1s 6ms/step - loss: 0.3179 - accuracy: 0.8660 - val_loss: 0.3169 - val_accuracy: 0.8701\n",
      "Epoch 37/100\n",
      "269/269 [==============================] - 2s 6ms/step - loss: 0.3179 - accuracy: 0.8664 - val_loss: 0.3237 - val_accuracy: 0.8707\n",
      "Epoch 38/100\n",
      "269/269 [==============================] - 1s 6ms/step - loss: 0.3147 - accuracy: 0.8670 - val_loss: 0.3350 - val_accuracy: 0.8697\n",
      "Epoch 39/100\n",
      "269/269 [==============================] - 2s 6ms/step - loss: 0.3196 - accuracy: 0.8661 - val_loss: 0.3240 - val_accuracy: 0.8694\n",
      "Epoch 40/100\n",
      "269/269 [==============================] - 1s 6ms/step - loss: 0.3193 - accuracy: 0.8650 - val_loss: 0.3208 - val_accuracy: 0.8699\n",
      "Epoch 41/100\n",
      "269/269 [==============================] - 2s 6ms/step - loss: 0.3169 - accuracy: 0.8666 - val_loss: 0.3310 - val_accuracy: 0.8705\n",
      "Epoch 42/100\n",
      "269/269 [==============================] - 1s 6ms/step - loss: 0.3207 - accuracy: 0.8646 - val_loss: 0.3198 - val_accuracy: 0.8708\n",
      "Epoch 43/100\n",
      "269/269 [==============================] - 2s 6ms/step - loss: 0.3164 - accuracy: 0.8658 - val_loss: 0.3087 - val_accuracy: 0.8705\n",
      "Epoch 44/100\n",
      "269/269 [==============================] - 2s 6ms/step - loss: 0.3160 - accuracy: 0.8671 - val_loss: 0.3195 - val_accuracy: 0.8714\n",
      "Epoch 45/100\n",
      "269/269 [==============================] - 1s 6ms/step - loss: 0.3179 - accuracy: 0.8655 - val_loss: 0.3166 - val_accuracy: 0.8717\n",
      "Epoch 46/100\n",
      "269/269 [==============================] - 2s 6ms/step - loss: 0.3143 - accuracy: 0.8674 - val_loss: 0.3265 - val_accuracy: 0.8710\n",
      "Epoch 47/100\n",
      "269/269 [==============================] - 2s 6ms/step - loss: 0.3168 - accuracy: 0.8660 - val_loss: 0.3130 - val_accuracy: 0.8712\n",
      "Epoch 48/100\n",
      "269/269 [==============================] - 1s 6ms/step - loss: 0.3138 - accuracy: 0.8673 - val_loss: 0.3173 - val_accuracy: 0.8724\n",
      "Epoch 49/100\n",
      "269/269 [==============================] - 2s 6ms/step - loss: 0.3139 - accuracy: 0.8681 - val_loss: 0.3232 - val_accuracy: 0.8707\n",
      "Epoch 50/100\n",
      "269/269 [==============================] - 1s 5ms/step - loss: 0.3162 - accuracy: 0.8660 - val_loss: 0.3230 - val_accuracy: 0.8708\n",
      "Epoch 51/100\n",
      "269/269 [==============================] - 2s 6ms/step - loss: 0.3134 - accuracy: 0.8673 - val_loss: 0.3237 - val_accuracy: 0.8721\n",
      "Epoch 52/100\n",
      "269/269 [==============================] - 2s 6ms/step - loss: 0.3145 - accuracy: 0.8674 - val_loss: 0.3183 - val_accuracy: 0.8722\n",
      "Epoch 53/100\n",
      "269/269 [==============================] - 1s 6ms/step - loss: 0.3148 - accuracy: 0.8666 - val_loss: 0.3072 - val_accuracy: 0.8717\n",
      "Epoch 54/100\n",
      "269/269 [==============================] - 1s 5ms/step - loss: 0.3152 - accuracy: 0.8668 - val_loss: 0.3090 - val_accuracy: 0.8722\n",
      "Epoch 55/100\n",
      "269/269 [==============================] - 2s 6ms/step - loss: 0.3149 - accuracy: 0.8675 - val_loss: 0.3143 - val_accuracy: 0.8720\n",
      "Epoch 56/100\n",
      "269/269 [==============================] - 2s 6ms/step - loss: 0.3128 - accuracy: 0.8684 - val_loss: 0.3130 - val_accuracy: 0.8727\n",
      "Epoch 57/100\n",
      "269/269 [==============================] - 2s 6ms/step - loss: 0.3128 - accuracy: 0.8680 - val_loss: 0.3188 - val_accuracy: 0.8717\n",
      "Epoch 58/100\n",
      "269/269 [==============================] - 1s 5ms/step - loss: 0.3117 - accuracy: 0.8691 - val_loss: 0.3134 - val_accuracy: 0.8708\n",
      "Epoch 59/100\n",
      "269/269 [==============================] - 1s 6ms/step - loss: 0.3127 - accuracy: 0.8685 - val_loss: 0.3190 - val_accuracy: 0.8722\n",
      "Epoch 60/100\n",
      "269/269 [==============================] - 1s 6ms/step - loss: 0.3116 - accuracy: 0.8686 - val_loss: 0.3133 - val_accuracy: 0.8710\n",
      "Epoch 61/100\n",
      "269/269 [==============================] - 1s 5ms/step - loss: 0.3119 - accuracy: 0.8698 - val_loss: 0.3139 - val_accuracy: 0.8716\n",
      "Epoch 62/100\n",
      "269/269 [==============================] - 2s 6ms/step - loss: 0.3140 - accuracy: 0.8678 - val_loss: 0.3120 - val_accuracy: 0.8725\n",
      "Epoch 63/100\n",
      "269/269 [==============================] - 2s 6ms/step - loss: 0.3128 - accuracy: 0.8685 - val_loss: 0.3137 - val_accuracy: 0.8722\n",
      "Epoch 64/100\n",
      "269/269 [==============================] - 2s 6ms/step - loss: 0.3126 - accuracy: 0.8678 - val_loss: 0.3159 - val_accuracy: 0.8709\n",
      "Epoch 65/100\n",
      "269/269 [==============================] - 2s 6ms/step - loss: 0.3110 - accuracy: 0.8697 - val_loss: 0.3153 - val_accuracy: 0.8725\n",
      "Epoch 66/100\n",
      "269/269 [==============================] - 1s 5ms/step - loss: 0.3119 - accuracy: 0.8686 - val_loss: 0.3146 - val_accuracy: 0.8716\n",
      "Epoch 67/100\n",
      "269/269 [==============================] - 1s 6ms/step - loss: 0.3133 - accuracy: 0.8685 - val_loss: 0.3168 - val_accuracy: 0.8705\n",
      "Epoch 68/100\n",
      "269/269 [==============================] - 1s 6ms/step - loss: 0.3079 - accuracy: 0.8705 - val_loss: 0.3205 - val_accuracy: 0.8713\n",
      "Epoch 69/100\n",
      "269/269 [==============================] - 2s 6ms/step - loss: 0.3098 - accuracy: 0.8694 - val_loss: 0.3178 - val_accuracy: 0.8728\n",
      "Epoch 70/100\n",
      "269/269 [==============================] - 2s 6ms/step - loss: 0.3105 - accuracy: 0.8692 - val_loss: 0.3122 - val_accuracy: 0.8736\n",
      "Epoch 71/100\n",
      "269/269 [==============================] - 1s 5ms/step - loss: 0.3100 - accuracy: 0.8695 - val_loss: 0.3122 - val_accuracy: 0.8728\n",
      "Epoch 72/100\n",
      "269/269 [==============================] - 2s 6ms/step - loss: 0.3114 - accuracy: 0.8688 - val_loss: 0.3089 - val_accuracy: 0.8708\n",
      "Epoch 73/100\n",
      "269/269 [==============================] - 2s 6ms/step - loss: 0.3095 - accuracy: 0.8697 - val_loss: 0.3089 - val_accuracy: 0.8731\n",
      "Epoch 74/100\n",
      "269/269 [==============================] - 2s 6ms/step - loss: 0.3115 - accuracy: 0.8688 - val_loss: 0.3081 - val_accuracy: 0.8729\n",
      "Epoch 75/100\n",
      "269/269 [==============================] - 2s 6ms/step - loss: 0.3102 - accuracy: 0.8689 - val_loss: 0.3133 - val_accuracy: 0.8721\n",
      "Epoch 76/100\n",
      "269/269 [==============================] - 1s 5ms/step - loss: 0.3101 - accuracy: 0.8694 - val_loss: 0.3156 - val_accuracy: 0.8732\n",
      "Epoch 77/100\n",
      "269/269 [==============================] - 1s 5ms/step - loss: 0.3113 - accuracy: 0.8691 - val_loss: 0.3113 - val_accuracy: 0.8720\n",
      "Epoch 78/100\n",
      "269/269 [==============================] - 1s 6ms/step - loss: 0.3098 - accuracy: 0.8690 - val_loss: 0.3079 - val_accuracy: 0.8734\n",
      "Epoch 79/100\n",
      "269/269 [==============================] - 2s 6ms/step - loss: 0.3092 - accuracy: 0.8695 - val_loss: 0.3095 - val_accuracy: 0.8726\n",
      "Epoch 80/100\n",
      "269/269 [==============================] - 2s 6ms/step - loss: 0.3101 - accuracy: 0.8693 - val_loss: 0.3116 - val_accuracy: 0.8728\n",
      "Epoch 81/100\n",
      "269/269 [==============================] - 2s 6ms/step - loss: 0.3100 - accuracy: 0.8690 - val_loss: 0.3152 - val_accuracy: 0.8724\n",
      "Epoch 82/100\n",
      "269/269 [==============================] - 2s 6ms/step - loss: 0.3093 - accuracy: 0.8694 - val_loss: 0.3092 - val_accuracy: 0.8713\n",
      "Epoch 83/100\n",
      "269/269 [==============================] - 2s 6ms/step - loss: 0.3096 - accuracy: 0.8696 - val_loss: 0.3160 - val_accuracy: 0.8717\n",
      "Epoch 84/100\n",
      "269/269 [==============================] - 1s 5ms/step - loss: 0.3073 - accuracy: 0.8708 - val_loss: 0.3123 - val_accuracy: 0.8711\n",
      "Epoch 85/100\n",
      "269/269 [==============================] - 2s 6ms/step - loss: 0.3076 - accuracy: 0.8707 - val_loss: 0.3043 - val_accuracy: 0.8730\n",
      "Epoch 86/100\n",
      "269/269 [==============================] - 1s 6ms/step - loss: 0.3095 - accuracy: 0.8695 - val_loss: 0.3105 - val_accuracy: 0.8710\n",
      "Epoch 87/100\n",
      "269/269 [==============================] - 1s 5ms/step - loss: 0.3066 - accuracy: 0.8700 - val_loss: 0.3136 - val_accuracy: 0.8734\n",
      "Epoch 88/100\n",
      "269/269 [==============================] - 1s 6ms/step - loss: 0.3097 - accuracy: 0.8696 - val_loss: 0.3090 - val_accuracy: 0.8722\n",
      "Epoch 89/100\n",
      "269/269 [==============================] - 2s 6ms/step - loss: 0.3096 - accuracy: 0.8697 - val_loss: 0.3257 - val_accuracy: 0.8720\n",
      "Epoch 90/100\n",
      "269/269 [==============================] - 2s 6ms/step - loss: 0.3093 - accuracy: 0.8693 - val_loss: 0.3110 - val_accuracy: 0.8727\n",
      "Epoch 91/100\n",
      "269/269 [==============================] - 2s 6ms/step - loss: 0.3090 - accuracy: 0.8697 - val_loss: 0.3095 - val_accuracy: 0.8729\n",
      "Epoch 92/100\n",
      "269/269 [==============================] - 2s 6ms/step - loss: 0.3109 - accuracy: 0.8686 - val_loss: 0.3106 - val_accuracy: 0.8734\n",
      "Epoch 93/100\n",
      "269/269 [==============================] - 1s 5ms/step - loss: 0.3104 - accuracy: 0.8696 - val_loss: 0.3061 - val_accuracy: 0.8728\n",
      "Epoch 94/100\n",
      "269/269 [==============================] - 1s 5ms/step - loss: 0.3093 - accuracy: 0.8692 - val_loss: 0.3094 - val_accuracy: 0.8719\n",
      "Epoch 95/100\n",
      "269/269 [==============================] - 1s 5ms/step - loss: 0.3094 - accuracy: 0.8698 - val_loss: 0.3100 - val_accuracy: 0.8746\n",
      "Epoch 96/100\n",
      "269/269 [==============================] - 1s 5ms/step - loss: 0.3064 - accuracy: 0.8703 - val_loss: 0.3083 - val_accuracy: 0.8728\n",
      "Epoch 97/100\n",
      "269/269 [==============================] - 1s 6ms/step - loss: 0.3078 - accuracy: 0.8695 - val_loss: 0.3048 - val_accuracy: 0.8745\n",
      "Epoch 98/100\n",
      "269/269 [==============================] - 1s 5ms/step - loss: 0.3066 - accuracy: 0.8707 - val_loss: 0.3037 - val_accuracy: 0.8741\n",
      "Epoch 99/100\n",
      "269/269 [==============================] - 1s 5ms/step - loss: 0.3063 - accuracy: 0.8710 - val_loss: 0.3114 - val_accuracy: 0.8737\n",
      "Epoch 100/100\n",
      "269/269 [==============================] - 2s 6ms/step - loss: 0.3069 - accuracy: 0.8711 - val_loss: 0.3092 - val_accuracy: 0.8737\n"
     ]
    }
   ],
   "source": [
    "history = model.fit(X_train, y_train, batch_size = 1024, epochs = 100, \n",
    "                    validation_split = 0.25, shuffle = True, callbacks = None,\n",
    "                    use_multiprocessing=True, workers=4)"
   ]
  },
  {
   "cell_type": "code",
   "execution_count": null,
   "metadata": {
    "colab": {
     "base_uri": "https://localhost:8080/",
     "height": 513
    },
    "id": "O24xdsx6odyK",
    "outputId": "0d5509dd-00d3-4112-8c8b-5a940f05f867"
   },
   "outputs": [
    {
     "data": {
      "image/png": "[encoded data removed]",
      "text/plain": [
       "<Figure size 720x576 with 1 Axes>"
      ]
     },
     "metadata": {
      "needs_background": "light",
      "tags": []
     },
     "output_type": "display_data"
    }
   ],
   "source": [
    "learningCurve(history)"
   ]
  },
  {
   "cell_type": "code",
   "execution_count": null,
   "metadata": {
    "colab": {
     "base_uri": "https://localhost:8080/",
     "height": 519
    },
    "id": "l7bzXiv5odyK",
    "outputId": "ed177d17-a7b1-4686-8444-3ade56620d76"
   },
   "outputs": [
    {
     "data": {
      "image/png": "[encoded data removed]",
      "text/plain": [
       "<Figure size 720x576 with 1 Axes>"
      ]
     },
     "metadata": {
      "needs_background": "light",
      "tags": []
     },
     "output_type": "display_data"
    }
   ],
   "source": [
    "y_pred = makeRoc(X_test.astype(float), y_test.astype(float), labels, model, outputSuffix='two-layer')"
   ]
  },
  {
   "cell_type": "code",
   "execution_count": null,
   "metadata": {
    "id": "TCdFv3T8odyL"
   },
   "outputs": [],
   "source": [
    "def getModel(units, l1Reg, l1RegR):\n",
    "    model = Sequential()\n",
    "    model.add(LSTM(units, kernel_initializer = 'VarianceScaling', kernel_regularizer = regularizers.l1_l2(l1= l1Reg, l2 = l1RegR), name = 'lstm1')),\n",
    "    model.add(Flatten(trainable = True)),\n",
    "    model.add(Dense(1, activation='sigmoid', kernel_initializer='lecun_uniform', name='rnn_densef')),\n",
    "    model.compile(optimizer= 'adam' , loss = tf.losses.categorical_crossentropy , metrics=['accuracy']),\n",
    "    return model"
   ]
  },
  {
   "cell_type": "code",
   "execution_count": null,
   "metadata": {
    "id": "f52czRztodyL"
   },
   "outputs": [],
   "source": [
    "optimizer = [Adam(lr = 0.0001), Adam(lr = 0.001), Adam(lr = 0.002), Adam(lr = 0.01)]\n",
    "dropout = [0, 0.1, 0.2, 0.3, 0.4, 0.5]\n",
    "epochs = [15,20,25,30,35,40,45,50]\n",
    "batch_size = [128, 256, 512, 1024, 2048]\n",
    "l1Reg = [0.0001, 0.0002, 0.001, 0.002]\n",
    "l1RegR = [0.0001, 0.0002, 0.001, 0.002]\n",
    "units = [4, 8, 16, 32, 64, 128]"
   ]
  },
  {
   "cell_type": "code",
   "execution_count": null,
   "metadata": {
    "id": "ZqeLPdkModyM"
   },
   "outputs": [],
   "source": [
    "param_grid = dict(units = units, batch_size = batch_size, l1Reg = l1Reg, l1RegR = l1RegR)\n"
   ]
  },
  {
   "cell_type": "code",
   "execution_count": null,
   "metadata": {
    "id": "uZ-WMj2gqimB"
   },
   "outputs": [],
   "source": [
    "Kmodel = KerasClassifier(build_fn=getModel, verbose=1)\r\n"
   ]
  },
  {
   "cell_type": "code",
   "execution_count": null,
   "metadata": {
    "id": "GOJ66SkRqoST"
   },
   "outputs": [],
   "source": [
    "random = RandomizedSearchCV(estimator=Kmodel, param_distributions=param_grid, scoring='accuracy', n_jobs=1, refit='boolean', verbose = 10)\r\n"
   ]
  },
  {
   "cell_type": "code",
   "execution_count": null,
   "metadata": {
    "colab": {
     "base_uri": "https://localhost:8080/"
    },
    "id": "0ZJv24v9qq_t",
    "outputId": "0cc9c0c2-d540-47a6-b3b2-18285bf71e4f"
   },
   "outputs": [
    {
     "name": "stdout",
     "output_type": "stream",
     "text": [
      "Fitting 5 folds for each of 10 candidates, totalling 50 fits\n",
      "[CV] units=8, l1RegR=0.0002, l1Reg=0.0002, batch_size=2048 ...........\n"
     ]
    },
    {
     "name": "stderr",
     "output_type": "stream",
     "text": [
      "[Parallel(n_jobs=1)]: Using backend SequentialBackend with 1 concurrent workers.\n"
     ]
    },
    {
     "name": "stdout",
     "output_type": "stream",
     "text": [
      "144/144 [==============================] - 1s 6ms/step - loss: 0.0202 - accuracy: 0.5240\n",
      "WARNING:tensorflow:From /usr/local/lib/python3.6/dist-packages/tensorflow/python/keras/wrappers/scikit_learn.py:241: Sequential.predict_classes (from tensorflow.python.keras.engine.sequential) is deprecated and will be removed after 2021-01-01.\n",
      "Instructions for updating:\n",
      "Please use instead:* `np.argmax(model.predict(x), axis=-1)`,   if your model does multi-class classification   (e.g. if it uses a `softmax` last-layer activation).* `(model.predict(x) > 0.5).astype(\"int32\")`,   if your model does binary classification   (e.g. if it uses a `sigmoid` last-layer activation).\n",
      "36/36 [==============================] - 0s 3ms/step\n",
      "[CV]  units=8, l1RegR=0.0002, l1Reg=0.0002, batch_size=2048, score=0.517, total=   5.0s\n",
      "[CV] units=8, l1RegR=0.0002, l1Reg=0.0002, batch_size=2048 ...........\n"
     ]
    },
    {
     "name": "stderr",
     "output_type": "stream",
     "text": [
      "[Parallel(n_jobs=1)]: Done   1 out of   1 | elapsed:    5.0s remaining:    0.0s\n"
     ]
    },
    {
     "name": "stdout",
     "output_type": "stream",
     "text": [
      "144/144 [==============================] - 1s 6ms/step - loss: 0.0188 - accuracy: 0.4961\n",
      "36/36 [==============================] - 0s 3ms/step\n",
      "[CV]  units=8, l1RegR=0.0002, l1Reg=0.0002, batch_size=2048, score=0.502, total=   3.3s\n",
      "[CV] units=8, l1RegR=0.0002, l1Reg=0.0002, batch_size=2048 ...........\n"
     ]
    },
    {
     "name": "stderr",
     "output_type": "stream",
     "text": [
      "[Parallel(n_jobs=1)]: Done   2 out of   2 | elapsed:    8.4s remaining:    0.0s\n"
     ]
    },
    {
     "name": "stdout",
     "output_type": "stream",
     "text": [
      "144/144 [==============================] - 1s 6ms/step - loss: 0.0212 - accuracy: 0.4926\n",
      "36/36 [==============================] - 0s 3ms/step\n",
      "[CV]  units=8, l1RegR=0.0002, l1Reg=0.0002, batch_size=2048, score=0.477, total=   3.8s\n",
      "[CV] units=8, l1RegR=0.0002, l1Reg=0.0002, batch_size=2048 ...........\n"
     ]
    },
    {
     "name": "stderr",
     "output_type": "stream",
     "text": [
      "[Parallel(n_jobs=1)]: Done   3 out of   3 | elapsed:   12.2s remaining:    0.0s\n"
     ]
    },
    {
     "name": "stdout",
     "output_type": "stream",
     "text": [
      "144/144 [==============================] - 1s 6ms/step - loss: 0.0203 - accuracy: 0.4803\n",
      "36/36 [==============================] - 0s 3ms/step\n",
      "[CV]  units=8, l1RegR=0.0002, l1Reg=0.0002, batch_size=2048, score=0.478, total=   3.2s\n",
      "[CV] units=8, l1RegR=0.0002, l1Reg=0.0002, batch_size=2048 ...........\n"
     ]
    },
    {
     "name": "stderr",
     "output_type": "stream",
     "text": [
      "[Parallel(n_jobs=1)]: Done   4 out of   4 | elapsed:   15.4s remaining:    0.0s\n"
     ]
    },
    {
     "name": "stdout",
     "output_type": "stream",
     "text": [
      "144/144 [==============================] - 1s 6ms/step - loss: 0.0197 - accuracy: 0.4763\n",
      "36/36 [==============================] - 0s 3ms/step\n",
      "[CV]  units=8, l1RegR=0.0002, l1Reg=0.0002, batch_size=2048, score=0.472, total=   3.5s\n",
      "[CV] units=32, l1RegR=0.001, l1Reg=0.0002, batch_size=1024 ...........\n"
     ]
    },
    {
     "name": "stderr",
     "output_type": "stream",
     "text": [
      "[Parallel(n_jobs=1)]: Done   5 out of   5 | elapsed:   19.0s remaining:    0.0s\n"
     ]
    },
    {
     "name": "stdout",
     "output_type": "stream",
     "text": [
      "287/287 [==============================] - 1s 5ms/step - loss: 0.0964 - accuracy: 0.5285\n",
      "72/72 [==============================] - 0s 2ms/step\n",
      "[CV]  units=32, l1RegR=0.001, l1Reg=0.0002, batch_size=1024, score=0.531, total=   4.0s\n",
      "[CV] units=32, l1RegR=0.001, l1Reg=0.0002, batch_size=1024 ...........\n"
     ]
    },
    {
     "name": "stderr",
     "output_type": "stream",
     "text": [
      "[Parallel(n_jobs=1)]: Done   6 out of   6 | elapsed:   23.0s remaining:    0.0s\n"
     ]
    },
    {
     "name": "stdout",
     "output_type": "stream",
     "text": [
      "287/287 [==============================] - 1s 5ms/step - loss: 0.0954 - accuracy: 0.5208\n",
      "72/72 [==============================] - 0s 2ms/step\n",
      "[CV]  units=32, l1RegR=0.001, l1Reg=0.0002, batch_size=1024, score=0.529, total=   4.2s\n",
      "[CV] units=32, l1RegR=0.001, l1Reg=0.0002, batch_size=1024 ...........\n"
     ]
    },
    {
     "name": "stderr",
     "output_type": "stream",
     "text": [
      "[Parallel(n_jobs=1)]: Done   7 out of   7 | elapsed:   27.2s remaining:    0.0s\n"
     ]
    },
    {
     "name": "stdout",
     "output_type": "stream",
     "text": [
      "287/287 [==============================] - 1s 5ms/step - loss: 0.0961 - accuracy: 0.5237\n",
      "72/72 [==============================] - 0s 2ms/step\n",
      "[CV]  units=32, l1RegR=0.001, l1Reg=0.0002, batch_size=1024, score=0.526, total=   4.0s\n",
      "[CV] units=32, l1RegR=0.001, l1Reg=0.0002, batch_size=1024 ...........\n"
     ]
    },
    {
     "name": "stderr",
     "output_type": "stream",
     "text": [
      "[Parallel(n_jobs=1)]: Done   8 out of   8 | elapsed:   31.3s remaining:    0.0s\n"
     ]
    },
    {
     "name": "stdout",
     "output_type": "stream",
     "text": [
      "287/287 [==============================] - 1s 5ms/step - loss: 0.0957 - accuracy: 0.4996\n",
      "72/72 [==============================] - 0s 2ms/step\n",
      "[CV]  units=32, l1RegR=0.001, l1Reg=0.0002, batch_size=1024, score=0.501, total=   3.9s\n",
      "[CV] units=32, l1RegR=0.001, l1Reg=0.0002, batch_size=1024 ...........\n"
     ]
    },
    {
     "name": "stderr",
     "output_type": "stream",
     "text": [
      "[Parallel(n_jobs=1)]: Done   9 out of   9 | elapsed:   35.2s remaining:    0.0s\n"
     ]
    },
    {
     "name": "stdout",
     "output_type": "stream",
     "text": [
      "287/287 [==============================] - 1s 5ms/step - loss: 0.0962 - accuracy: 0.5032\n",
      "72/72 [==============================] - 0s 2ms/step\n",
      "[CV]  units=32, l1RegR=0.001, l1Reg=0.0002, batch_size=1024, score=0.494, total=   4.3s\n",
      "[CV] units=32, l1RegR=0.0002, l1Reg=0.0001, batch_size=1024 ..........\n",
      "287/287 [==============================] - 1s 5ms/step - loss: 0.0331 - accuracy: 0.4985\n",
      "72/72 [==============================] - 0s 2ms/step\n",
      "[CV]  units=32, l1RegR=0.0002, l1Reg=0.0001, batch_size=1024, score=0.501, total=   4.0s\n",
      "[CV] units=32, l1RegR=0.0002, l1Reg=0.0001, batch_size=1024 ..........\n",
      "287/287 [==============================] - 1s 5ms/step - loss: 0.0324 - accuracy: 0.5102\n",
      "72/72 [==============================] - 0s 2ms/step\n",
      "[CV]  units=32, l1RegR=0.0002, l1Reg=0.0001, batch_size=1024, score=0.514, total=   4.2s\n",
      "[CV] units=32, l1RegR=0.0002, l1Reg=0.0001, batch_size=1024 ..........\n",
      "287/287 [==============================] - 1s 5ms/step - loss: 0.0329 - accuracy: 0.4768\n",
      "72/72 [==============================] - 0s 2ms/step\n",
      "[CV]  units=32, l1RegR=0.0002, l1Reg=0.0001, batch_size=1024, score=0.486, total=   4.0s\n",
      "[CV] units=32, l1RegR=0.0002, l1Reg=0.0001, batch_size=1024 ..........\n",
      "287/287 [==============================] - 1s 5ms/step - loss: 0.0324 - accuracy: 0.5011\n",
      "72/72 [==============================] - 0s 2ms/step\n",
      "[CV]  units=32, l1RegR=0.0002, l1Reg=0.0001, batch_size=1024, score=0.507, total=   3.9s\n",
      "[CV] units=32, l1RegR=0.0002, l1Reg=0.0001, batch_size=1024 ..........\n",
      "287/287 [==============================] - 1s 5ms/step - loss: 0.0341 - accuracy: 0.4929\n",
      "72/72 [==============================] - 0s 2ms/step\n",
      "[CV]  units=32, l1RegR=0.0002, l1Reg=0.0001, batch_size=1024, score=0.492, total=   4.3s\n",
      "[CV] units=4, l1RegR=0.0002, l1Reg=0.002, batch_size=128 .............\n",
      "2294/2294 [==============================] - 10s 4ms/step - loss: 0.0068 - accuracy: 0.5026\n",
      "574/574 [==============================] - 1s 2ms/step\n",
      "[CV]  units=4, l1RegR=0.0002, l1Reg=0.002, batch_size=128, score=0.497, total=  13.0s\n",
      "[CV] units=4, l1RegR=0.0002, l1Reg=0.002, batch_size=128 .............\n",
      "2294/2294 [==============================] - 10s 4ms/step - loss: 0.0070 - accuracy: 0.5037\n",
      "574/574 [==============================] - 1s 2ms/step\n",
      "[CV]  units=4, l1RegR=0.0002, l1Reg=0.002, batch_size=128, score=0.502, total=  13.4s\n",
      "[CV] units=4, l1RegR=0.0002, l1Reg=0.002, batch_size=128 .............\n",
      "2294/2294 [==============================] - 10s 4ms/step - loss: 0.0077 - accuracy: 0.5017\n",
      "574/574 [==============================] - 1s 2ms/step\n",
      "[CV]  units=4, l1RegR=0.0002, l1Reg=0.002, batch_size=128, score=0.501, total=  12.9s\n",
      "[CV] units=4, l1RegR=0.0002, l1Reg=0.002, batch_size=128 .............\n",
      "2294/2294 [==============================] - 10s 4ms/step - loss: 0.0073 - accuracy: 0.5001\n",
      "574/574 [==============================] - 1s 2ms/step\n",
      "[CV]  units=4, l1RegR=0.0002, l1Reg=0.002, batch_size=128, score=0.485, total=  12.8s\n",
      "[CV] units=4, l1RegR=0.0002, l1Reg=0.002, batch_size=128 .............\n",
      "2294/2294 [==============================] - 10s 4ms/step - loss: 0.0079 - accuracy: 0.4989\n",
      "  1/574 [..............................] - ETA: 0sWARNING:tensorflow:Callbacks method `on_predict_batch_end` is slow compared to the batch time (batch time: 0.0018s vs `on_predict_batch_end` time: 0.0040s). Check your callbacks.\n",
      "574/574 [==============================] - 1s 2ms/step\n",
      "[CV]  units=4, l1RegR=0.0002, l1Reg=0.002, batch_size=128, score=0.501, total=  13.2s\n",
      "[CV] units=32, l1RegR=0.0002, l1Reg=0.002, batch_size=512 ............\n",
      "574/574 [==============================] - 3s 4ms/step - loss: 0.2253 - accuracy: 0.4858\n",
      "144/144 [==============================] - 0s 2ms/step\n",
      "[CV]  units=32, l1RegR=0.0002, l1Reg=0.002, batch_size=512, score=0.528, total=   5.2s\n",
      "[CV] units=32, l1RegR=0.0002, l1Reg=0.002, batch_size=512 ............\n",
      "574/574 [==============================] - 3s 4ms/step - loss: 0.2336 - accuracy: 0.5037\n",
      "144/144 [==============================] - 0s 2ms/step\n",
      "[CV]  units=32, l1RegR=0.0002, l1Reg=0.002, batch_size=512, score=0.499, total=   5.1s\n",
      "[CV] units=32, l1RegR=0.0002, l1Reg=0.002, batch_size=512 ............\n",
      "574/574 [==============================] - 3s 4ms/step - loss: 0.2323 - accuracy: 0.5097\n",
      "144/144 [==============================] - 0s 2ms/step\n",
      "[CV]  units=32, l1RegR=0.0002, l1Reg=0.002, batch_size=512, score=0.498, total=   5.5s\n",
      "[CV] units=32, l1RegR=0.0002, l1Reg=0.002, batch_size=512 ............\n",
      "574/574 [==============================] - 3s 4ms/step - loss: 0.2316 - accuracy: 0.5045\n",
      "144/144 [==============================] - 0s 2ms/step\n",
      "[CV]  units=32, l1RegR=0.0002, l1Reg=0.002, batch_size=512, score=0.523, total=   5.2s\n",
      "[CV] units=32, l1RegR=0.0002, l1Reg=0.002, batch_size=512 ............\n",
      "574/574 [==============================] - 3s 4ms/step - loss: 0.2157 - accuracy: 0.5073\n",
      "144/144 [==============================] - 0s 2ms/step\n",
      "[CV]  units=32, l1RegR=0.0002, l1Reg=0.002, batch_size=512, score=0.501, total=   5.1s\n",
      "[CV] units=8, l1RegR=0.002, l1Reg=0.001, batch_size=1024 .............\n",
      "287/287 [==============================] - 1s 5ms/step - loss: 0.0814 - accuracy: 0.5312\n",
      "72/72 [==============================] - 0s 2ms/step\n",
      "[CV]  units=8, l1RegR=0.002, l1Reg=0.001, batch_size=1024, score=0.537, total=   4.1s\n",
      "[CV] units=8, l1RegR=0.002, l1Reg=0.001, batch_size=1024 .............\n",
      "287/287 [==============================] - 1s 5ms/step - loss: 0.0777 - accuracy: 0.4783\n",
      "72/72 [==============================] - 0s 3ms/step\n",
      "[CV]  units=8, l1RegR=0.002, l1Reg=0.001, batch_size=1024, score=0.491, total=   3.9s\n",
      "[CV] units=8, l1RegR=0.002, l1Reg=0.001, batch_size=1024 .............\n",
      "287/287 [==============================] - 1s 5ms/step - loss: 0.0790 - accuracy: 0.4828\n",
      "72/72 [==============================] - 0s 2ms/step\n",
      "[CV]  units=8, l1RegR=0.002, l1Reg=0.001, batch_size=1024, score=0.483, total=   3.8s\n",
      "[CV] units=8, l1RegR=0.002, l1Reg=0.001, batch_size=1024 .............\n",
      "287/287 [==============================] - 1s 5ms/step - loss: 0.0797 - accuracy: 0.4723\n",
      "72/72 [==============================] - 0s 2ms/step\n",
      "[CV]  units=8, l1RegR=0.002, l1Reg=0.001, batch_size=1024, score=0.472, total=   4.1s\n",
      "[CV] units=8, l1RegR=0.002, l1Reg=0.001, batch_size=1024 .............\n",
      "287/287 [==============================] - 1s 5ms/step - loss: 0.0804 - accuracy: 0.5243\n",
      "72/72 [==============================] - 0s 2ms/step\n",
      "[CV]  units=8, l1RegR=0.002, l1Reg=0.001, batch_size=1024, score=0.548, total=   3.9s\n",
      "[CV] units=8, l1RegR=0.0002, l1Reg=0.001, batch_size=256 .............\n",
      "1147/1147 [==============================] - 5s 4ms/step - loss: 0.0158 - accuracy: 0.4888\n",
      "287/287 [==============================] - 1s 2ms/step\n",
      "[CV]  units=8, l1RegR=0.0002, l1Reg=0.001, batch_size=256, score=0.532, total=   7.7s\n",
      "[CV] units=8, l1RegR=0.0002, l1Reg=0.001, batch_size=256 .............\n",
      "1147/1147 [==============================] - 5s 4ms/step - loss: 0.0154 - accuracy: 0.5082\n",
      "287/287 [==============================] - 1s 2ms/step\n",
      "[CV]  units=8, l1RegR=0.0002, l1Reg=0.001, batch_size=256, score=0.533, total=   8.2s\n",
      "[CV] units=8, l1RegR=0.0002, l1Reg=0.001, batch_size=256 .............\n",
      "1147/1147 [==============================] - 5s 4ms/step - loss: 0.0144 - accuracy: 0.4874\n",
      "287/287 [==============================] - 1s 2ms/step\n",
      "[CV]  units=8, l1RegR=0.0002, l1Reg=0.001, batch_size=256, score=0.489, total=   7.8s\n",
      "[CV] units=8, l1RegR=0.0002, l1Reg=0.001, batch_size=256 .............\n",
      "1147/1147 [==============================] - 5s 4ms/step - loss: 0.0151 - accuracy: 0.4929\n",
      "287/287 [==============================] - 1s 2ms/step\n",
      "[CV]  units=8, l1RegR=0.0002, l1Reg=0.001, batch_size=256, score=0.478, total=   7.8s\n",
      "[CV] units=8, l1RegR=0.0002, l1Reg=0.001, batch_size=256 .............\n",
      "1147/1147 [==============================] - 5s 4ms/step - loss: 0.0152 - accuracy: 0.5091\n",
      "287/287 [==============================] - 1s 2ms/step\n",
      "[CV]  units=8, l1RegR=0.0002, l1Reg=0.001, batch_size=256, score=0.505, total=   8.0s\n",
      "[CV] units=4, l1RegR=0.0002, l1Reg=0.0001, batch_size=256 ............\n",
      "1147/1147 [==============================] - 5s 4ms/step - loss: 0.0011 - accuracy: 0.4836\n",
      "287/287 [==============================] - 1s 2ms/step\n",
      "[CV]  units=4, l1RegR=0.0002, l1Reg=0.0001, batch_size=256, score=0.484, total=   7.7s\n",
      "[CV] units=4, l1RegR=0.0002, l1Reg=0.0001, batch_size=256 ............\n",
      "1147/1147 [==============================] - 5s 4ms/step - loss: 0.0011 - accuracy: 0.5004\n",
      "287/287 [==============================] - 1s 2ms/step\n",
      "[CV]  units=4, l1RegR=0.0002, l1Reg=0.0001, batch_size=256, score=0.475, total=   7.9s\n",
      "[CV] units=4, l1RegR=0.0002, l1Reg=0.0001, batch_size=256 ............\n",
      "1147/1147 [==============================] - 5s 5ms/step - loss: 0.0012 - accuracy: 0.4982\n",
      "287/287 [==============================] - 1s 2ms/step\n",
      "[CV]  units=4, l1RegR=0.0002, l1Reg=0.0001, batch_size=256, score=0.467, total=   8.5s\n",
      "[CV] units=4, l1RegR=0.0002, l1Reg=0.0001, batch_size=256 ............\n",
      "1147/1147 [==============================] - 5s 4ms/step - loss: 0.0012 - accuracy: 0.4996\n",
      "287/287 [==============================] - 1s 2ms/step\n",
      "[CV]  units=4, l1RegR=0.0002, l1Reg=0.0001, batch_size=256, score=0.499, total=   7.7s\n",
      "[CV] units=4, l1RegR=0.0002, l1Reg=0.0001, batch_size=256 ............\n",
      "1147/1147 [==============================] - 5s 4ms/step - loss: 9.9477e-04 - accuracy: 0.4963\n",
      "287/287 [==============================] - 1s 2ms/step\n",
      "[CV]  units=4, l1RegR=0.0002, l1Reg=0.0001, batch_size=256, score=0.472, total=   7.6s\n",
      "[CV] units=128, l1RegR=0.002, l1Reg=0.001, batch_size=1024 ...........\n",
      "287/287 [==============================] - 2s 7ms/step - loss: 1.2907 - accuracy: 0.4887\n",
      "72/72 [==============================] - 0s 3ms/step\n",
      "[CV]  units=128, l1RegR=0.002, l1Reg=0.001, batch_size=1024, score=0.499, total=   4.4s\n",
      "[CV] units=128, l1RegR=0.002, l1Reg=0.001, batch_size=1024 ...........\n",
      "287/287 [==============================] - 2s 7ms/step - loss: 1.3140 - accuracy: 0.4906\n",
      "72/72 [==============================] - 0s 3ms/step\n",
      "[CV]  units=128, l1RegR=0.002, l1Reg=0.001, batch_size=1024, score=0.478, total=   4.9s\n",
      "[CV] units=128, l1RegR=0.002, l1Reg=0.001, batch_size=1024 ...........\n",
      "287/287 [==============================] - 2s 7ms/step - loss: 1.2747 - accuracy: 0.5173\n",
      "72/72 [==============================] - 0s 3ms/step\n",
      "[CV]  units=128, l1RegR=0.002, l1Reg=0.001, batch_size=1024, score=0.500, total=   4.5s\n",
      "[CV] units=128, l1RegR=0.002, l1Reg=0.001, batch_size=1024 ...........\n",
      "287/287 [==============================] - 2s 7ms/step - loss: 1.3035 - accuracy: 0.5142\n",
      "72/72 [==============================] - 0s 3ms/step\n",
      "[CV]  units=128, l1RegR=0.002, l1Reg=0.001, batch_size=1024, score=0.505, total=   4.4s\n",
      "[CV] units=128, l1RegR=0.002, l1Reg=0.001, batch_size=1024 ...........\n",
      "287/287 [==============================] - 2s 7ms/step - loss: 1.3096 - accuracy: 0.4876\n",
      "72/72 [==============================] - 0s 3ms/step\n",
      "[CV]  units=128, l1RegR=0.002, l1Reg=0.001, batch_size=1024, score=0.497, total=   4.8s\n",
      "[CV] units=4, l1RegR=0.001, l1Reg=0.0001, batch_size=512 .............\n",
      "574/574 [==============================] - 3s 4ms/step - loss: 0.0056 - accuracy: 0.5228\n",
      "144/144 [==============================] - 0s 2ms/step\n",
      "[CV]  units=4, l1RegR=0.001, l1Reg=0.0001, batch_size=512, score=0.529, total=   5.1s\n",
      "[CV] units=4, l1RegR=0.001, l1Reg=0.0001, batch_size=512 .............\n",
      "574/574 [==============================] - 3s 4ms/step - loss: 0.0057 - accuracy: 0.5124\n",
      "144/144 [==============================] - 0s 2ms/step\n",
      "[CV]  units=4, l1RegR=0.001, l1Reg=0.0001, batch_size=512, score=0.473, total=   5.1s\n",
      "[CV] units=4, l1RegR=0.001, l1Reg=0.0001, batch_size=512 .............\n",
      "574/574 [==============================] - 3s 4ms/step - loss: 0.0050 - accuracy: 0.5271\n",
      "144/144 [==============================] - 0s 2ms/step\n",
      "[CV]  units=4, l1RegR=0.001, l1Reg=0.0001, batch_size=512, score=0.512, total=   5.4s\n",
      "[CV] units=4, l1RegR=0.001, l1Reg=0.0001, batch_size=512 .............\n",
      "574/574 [==============================] - 2s 4ms/step - loss: 0.0052 - accuracy: 0.4921\n",
      "144/144 [==============================] - 0s 2ms/step\n",
      "[CV]  units=4, l1RegR=0.001, l1Reg=0.0001, batch_size=512, score=0.490, total=   5.0s\n",
      "[CV] units=4, l1RegR=0.001, l1Reg=0.0001, batch_size=512 .............\n",
      "574/574 [==============================] - 2s 4ms/step - loss: 0.0052 - accuracy: 0.5313\n",
      "144/144 [==============================] - 0s 2ms/step\n",
      "[CV]  units=4, l1RegR=0.001, l1Reg=0.0001, batch_size=512, score=0.502, total=   5.0s\n"
     ]
    },
    {
     "name": "stderr",
     "output_type": "stream",
     "text": [
      "[Parallel(n_jobs=1)]: Done  50 out of  50 | elapsed:  5.0min finished\n"
     ]
    },
    {
     "name": "stdout",
     "output_type": "stream",
     "text": [
      "359/359 [==============================] - 2s 5ms/step - loss: 0.0780 - accuracy: 0.5246\n"
     ]
    }
   ],
   "source": [
    "LSTM_result = random.fit(X_train,y_train)"
   ]
  },
  {
   "cell_type": "code",
   "execution_count": null,
   "metadata": {
    "colab": {
     "base_uri": "https://localhost:8080/"
    },
    "id": "pSdrvIrYu79M",
    "outputId": "85463ea3-93c0-486c-bfd8-0c0654de4879"
   },
   "outputs": [
    {
     "data": {
      "text/plain": [
       "{'batch_size': 1024,\n",
       " 'build_fn': <function __main__.getModel>,\n",
       " 'l1Reg': 0.0002,\n",
       " 'l1RegR': 0.001,\n",
       " 'units': 32,\n",
       " 'verbose': 1}"
      ]
     },
     "execution_count": 29,
     "metadata": {
      "tags": []
     },
     "output_type": "execute_result"
    }
   ],
   "source": [
    "LSTM_result.best_estimator_.get_params()"
   ]
  },
  {
   "cell_type": "code",
   "execution_count": null,
   "metadata": {
    "colab": {
     "base_uri": "https://localhost:8080/"
    },
    "id": "p-ZbFebYodyM",
    "outputId": "98034281-1cb1-4d9e-a0a5-277e25cacfc7"
   },
   "outputs": [
    {
     "name": "stdout",
     "output_type": "stream",
     "text": [
      "WARNING:tensorflow:Layer gru_selu will not use cuDNN kernel since it doesn't meet the cuDNN kernel criteria. It will use generic GPU kernel as fallback when running on GPU\n",
      "Model: \"model\"\n",
      "_________________________________________________________________\n",
      "Layer (type)                 Output Shape              Param #   \n",
      "=================================================================\n",
      "input_1 (InputLayer)         [(None, 15, 44)]          0         \n",
      "_________________________________________________________________\n",
      "gru_selu (GRU)               (None, 16)                2976      \n",
      "_________________________________________________________________\n",
      "dense_relu (Dense)           (None, 20)                340       \n",
      "_________________________________________________________________\n",
      "rnn_densef (Dense)           (None, 1)                 21        \n",
      "=================================================================\n",
      "Total params: 3,337\n",
      "Trainable params: 3,337\n",
      "Non-trainable params: 0\n",
      "_________________________________________________________________\n"
     ]
    }
   ],
   "source": [
    "\n",
    "l1Reg =  0.0001\n",
    "l1RegR = 0.001\n",
    "\n",
    "Inputs = Input(shape = (15,44))\n",
    "\n",
    "x = GRU(16,kernel_regularizer=l1(l1Reg),recurrent_regularizer=l1(l1RegR),activation='relu', recurrent_activation='sigmoid', name='gru_selu',)(Inputs)\n",
    "x = Dense(20,kernel_regularizer=l1(l1Reg),activation='relu', kernel_initializer='lecun_uniform', name='dense_relu')(x)\n",
    "predictions = Dense(1, activation='sigmoid', kernel_initializer='lecun_uniform', name='rnn_densef')(x)\n",
    "model = Model(inputs=Inputs, outputs=predictions)\n",
    "\n",
    "model.summary()"
   ]
  },
  {
   "cell_type": "code",
   "execution_count": null,
   "metadata": {
    "id": "RshHY13QodyN"
   },
   "outputs": [],
   "source": [
    "\n",
    "adam = Adam(lr = 0.002)\n",
    "model.compile(optimizer='adam', loss='binary_crossentropy', metrics=['accuracy'])"
   ]
  },
  {
   "cell_type": "code",
   "execution_count": null,
   "metadata": {
    "colab": {
     "base_uri": "https://localhost:8080/"
    },
    "id": "camNifvNodyO",
    "outputId": "f016d171-f258-4c66-c162-d14118196248"
   },
   "outputs": [
    {
     "name": "stdout",
     "output_type": "stream",
     "text": [
      "Epoch 1/50\n",
      "269/269 [==============================] - 14s 41ms/step - loss: 0.7083 - accuracy: 0.6430 - val_loss: 0.4291 - val_accuracy: 0.8393\n",
      "Epoch 2/50\n",
      "269/269 [==============================] - 10s 37ms/step - loss: 0.4164 - accuracy: 0.8433 - val_loss: 0.3899 - val_accuracy: 0.8520\n",
      "Epoch 3/50\n",
      "269/269 [==============================] - 10s 37ms/step - loss: 0.3871 - accuracy: 0.8525 - val_loss: 0.3759 - val_accuracy: 0.8552\n",
      "Epoch 4/50\n",
      "269/269 [==============================] - 10s 38ms/step - loss: 0.3779 - accuracy: 0.8544 - val_loss: 0.3683 - val_accuracy: 0.8587\n",
      "Epoch 5/50\n",
      "269/269 [==============================] - 10s 39ms/step - loss: 0.3705 - accuracy: 0.8558 - val_loss: 0.3626 - val_accuracy: 0.8594\n",
      "Epoch 6/50\n",
      "269/269 [==============================] - 10s 38ms/step - loss: 0.3667 - accuracy: 0.8566 - val_loss: 0.3593 - val_accuracy: 0.8596\n",
      "Epoch 7/50\n",
      "269/269 [==============================] - 10s 37ms/step - loss: 0.3609 - accuracy: 0.8594 - val_loss: 0.3532 - val_accuracy: 0.8619\n",
      "Epoch 8/50\n",
      "269/269 [==============================] - 11s 40ms/step - loss: 0.3553 - accuracy: 0.8600 - val_loss: 0.3507 - val_accuracy: 0.8621\n",
      "Epoch 9/50\n",
      "269/269 [==============================] - 11s 40ms/step - loss: 0.3531 - accuracy: 0.8605 - val_loss: 0.3493 - val_accuracy: 0.8602\n",
      "Epoch 10/50\n",
      "269/269 [==============================] - 10s 37ms/step - loss: 0.3500 - accuracy: 0.8616 - val_loss: 0.3452 - val_accuracy: 0.8631\n",
      "Epoch 11/50\n",
      "269/269 [==============================] - 10s 37ms/step - loss: 0.3507 - accuracy: 0.8602 - val_loss: 0.3484 - val_accuracy: 0.8621\n",
      "Epoch 12/50\n",
      "269/269 [==============================] - 10s 36ms/step - loss: 0.3558 - accuracy: 0.8588 - val_loss: 0.3500 - val_accuracy: 0.8598\n",
      "Epoch 13/50\n",
      "269/269 [==============================] - 10s 39ms/step - loss: 0.3522 - accuracy: 0.8589 - val_loss: 0.3438 - val_accuracy: 0.8624\n",
      "Epoch 14/50\n",
      "269/269 [==============================] - 10s 38ms/step - loss: 0.3463 - accuracy: 0.8618 - val_loss: 0.3424 - val_accuracy: 0.8624\n",
      "Epoch 15/50\n",
      "269/269 [==============================] - 10s 36ms/step - loss: 0.3453 - accuracy: 0.8610 - val_loss: 0.3372 - val_accuracy: 0.8645\n",
      "Epoch 16/50\n",
      "269/269 [==============================] - 10s 39ms/step - loss: 0.3415 - accuracy: 0.8631 - val_loss: 0.3362 - val_accuracy: 0.8642\n",
      "Epoch 17/50\n",
      "269/269 [==============================] - 10s 38ms/step - loss: 0.3432 - accuracy: 0.8623 - val_loss: 0.3340 - val_accuracy: 0.8653\n",
      "Epoch 18/50\n",
      "269/269 [==============================] - 10s 38ms/step - loss: 0.3363 - accuracy: 0.8642 - val_loss: 0.3320 - val_accuracy: 0.8657\n",
      "Epoch 19/50\n",
      "269/269 [==============================] - 10s 37ms/step - loss: 0.3360 - accuracy: 0.8653 - val_loss: 0.3318 - val_accuracy: 0.8658\n",
      "Epoch 20/50\n",
      "269/269 [==============================] - 10s 38ms/step - loss: 0.3362 - accuracy: 0.8647 - val_loss: 0.3297 - val_accuracy: 0.8662\n",
      "Epoch 21/50\n",
      "269/269 [==============================] - 10s 37ms/step - loss: 0.3343 - accuracy: 0.8655 - val_loss: 0.3295 - val_accuracy: 0.8670\n",
      "Epoch 22/50\n",
      "269/269 [==============================] - 10s 37ms/step - loss: 0.3349 - accuracy: 0.8653 - val_loss: 0.3276 - val_accuracy: 0.8674\n",
      "Epoch 23/50\n",
      "269/269 [==============================] - 10s 37ms/step - loss: 0.3326 - accuracy: 0.8654 - val_loss: 0.3285 - val_accuracy: 0.8669\n",
      "Epoch 24/50\n",
      "269/269 [==============================] - 10s 37ms/step - loss: 0.3314 - accuracy: 0.8662 - val_loss: 0.3271 - val_accuracy: 0.8666\n",
      "Epoch 25/50\n",
      "269/269 [==============================] - 10s 38ms/step - loss: 0.3303 - accuracy: 0.8665 - val_loss: 0.3252 - val_accuracy: 0.8677\n",
      "Epoch 26/50\n",
      "269/269 [==============================] - 10s 36ms/step - loss: 0.3301 - accuracy: 0.8666 - val_loss: 0.3309 - val_accuracy: 0.8659\n",
      "Epoch 27/50\n",
      "269/269 [==============================] - 10s 36ms/step - loss: 0.3297 - accuracy: 0.8662 - val_loss: 0.3263 - val_accuracy: 0.8676\n",
      "Epoch 28/50\n",
      "269/269 [==============================] - 10s 36ms/step - loss: 0.3285 - accuracy: 0.8665 - val_loss: 0.3250 - val_accuracy: 0.8678\n",
      "Epoch 29/50\n",
      "269/269 [==============================] - 10s 37ms/step - loss: 0.3276 - accuracy: 0.8679 - val_loss: 0.3233 - val_accuracy: 0.8683\n",
      "Epoch 30/50\n",
      "269/269 [==============================] - 10s 36ms/step - loss: 0.3288 - accuracy: 0.8663 - val_loss: 0.3235 - val_accuracy: 0.8686\n",
      "Epoch 31/50\n",
      "269/269 [==============================] - 10s 36ms/step - loss: 0.3284 - accuracy: 0.8667 - val_loss: 0.3238 - val_accuracy: 0.8680\n",
      "Epoch 32/50\n",
      "269/269 [==============================] - 10s 36ms/step - loss: 0.3284 - accuracy: 0.8665 - val_loss: 0.3249 - val_accuracy: 0.8677\n",
      "Epoch 33/50\n",
      "269/269 [==============================] - 10s 36ms/step - loss: 0.3254 - accuracy: 0.8690 - val_loss: 0.3221 - val_accuracy: 0.8695\n",
      "Epoch 34/50\n",
      "269/269 [==============================] - 10s 36ms/step - loss: 0.3277 - accuracy: 0.8661 - val_loss: 0.3216 - val_accuracy: 0.8692\n",
      "Epoch 35/50\n",
      "269/269 [==============================] - 10s 36ms/step - loss: 0.3243 - accuracy: 0.8681 - val_loss: 0.3222 - val_accuracy: 0.8694\n",
      "Epoch 36/50\n",
      "269/269 [==============================] - 10s 38ms/step - loss: 0.3266 - accuracy: 0.8671 - val_loss: 0.3213 - val_accuracy: 0.8695\n",
      "Epoch 37/50\n",
      "269/269 [==============================] - 11s 40ms/step - loss: 0.3254 - accuracy: 0.8669 - val_loss: 0.3216 - val_accuracy: 0.8693\n",
      "Epoch 38/50\n",
      "269/269 [==============================] - 10s 36ms/step - loss: 0.3248 - accuracy: 0.8679 - val_loss: 0.3240 - val_accuracy: 0.8679\n",
      "Epoch 39/50\n",
      "269/269 [==============================] - 10s 38ms/step - loss: 0.3270 - accuracy: 0.8670 - val_loss: 0.3205 - val_accuracy: 0.8697\n",
      "Epoch 40/50\n",
      "269/269 [==============================] - 11s 42ms/step - loss: 0.3264 - accuracy: 0.8662 - val_loss: 0.3200 - val_accuracy: 0.8698\n",
      "Epoch 41/50\n",
      "269/269 [==============================] - 10s 39ms/step - loss: 0.3242 - accuracy: 0.8676 - val_loss: 0.3203 - val_accuracy: 0.8696\n",
      "Epoch 42/50\n",
      "269/269 [==============================] - 10s 38ms/step - loss: 0.3223 - accuracy: 0.8692 - val_loss: 0.3209 - val_accuracy: 0.8679\n",
      "Epoch 43/50\n",
      "269/269 [==============================] - 11s 40ms/step - loss: 0.3232 - accuracy: 0.8686 - val_loss: 0.3201 - val_accuracy: 0.8707\n",
      "Epoch 44/50\n",
      "269/269 [==============================] - 11s 39ms/step - loss: 0.3223 - accuracy: 0.8688 - val_loss: 0.3188 - val_accuracy: 0.8700\n",
      "Epoch 45/50\n",
      "269/269 [==============================] - 11s 39ms/step - loss: 0.3253 - accuracy: 0.8667 - val_loss: 0.3191 - val_accuracy: 0.8701\n",
      "Epoch 46/50\n",
      "269/269 [==============================] - 10s 39ms/step - loss: 0.3227 - accuracy: 0.8688 - val_loss: 0.3176 - val_accuracy: 0.8711\n",
      "Epoch 47/50\n",
      "269/269 [==============================] - 11s 40ms/step - loss: 0.3230 - accuracy: 0.8688 - val_loss: 0.3196 - val_accuracy: 0.8699\n",
      "Epoch 48/50\n",
      "269/269 [==============================] - 11s 41ms/step - loss: 0.3231 - accuracy: 0.8675 - val_loss: 0.3205 - val_accuracy: 0.8692\n",
      "Epoch 49/50\n",
      "269/269 [==============================] - 10s 39ms/step - loss: 0.3207 - accuracy: 0.8693 - val_loss: 0.3177 - val_accuracy: 0.8709\n",
      "Epoch 50/50\n",
      "269/269 [==============================] - 10s 38ms/step - loss: 0.3211 - accuracy: 0.8693 - val_loss: 0.3174 - val_accuracy: 0.8704\n"
     ]
    }
   ],
   "source": [
    "history = model.fit(X_train, y_train, batch_size = 1024, epochs = 50, \n",
    "                    validation_split = 0.25, shuffle = True, callbacks = None,\n",
    "                    use_multiprocessing=True, workers=4)"
   ]
  },
  {
   "cell_type": "code",
   "execution_count": null,
   "metadata": {
    "colab": {
     "base_uri": "https://localhost:8080/",
     "height": 513
    },
    "id": "24JTFp5dodyO",
    "outputId": "4259e776-bcd4-47ba-a2fe-b016ce7678f7"
   },
   "outputs": [
    {
     "data": {
      "image/png": "[encoded data removed]",
      "text/plain": [
       "<Figure size 720x576 with 1 Axes>"
      ]
     },
     "metadata": {
      "needs_background": "light",
      "tags": []
     },
     "output_type": "display_data"
    }
   ],
   "source": [
    "learningCurve(history)"
   ]
  },
  {
   "cell_type": "code",
   "execution_count": null,
   "metadata": {
    "colab": {
     "base_uri": "https://localhost:8080/",
     "height": 519
    },
    "id": "CvN022HaodyP",
    "outputId": "939a014e-3cc3-4796-fba2-468ad9706ec9"
   },
   "outputs": [
    {
     "data": {
      "image/png": "[encoded data removed]",
      "text/plain": [
       "<Figure size 720x576 with 1 Axes>"
      ]
     },
     "metadata": {
      "needs_background": "light",
      "tags": []
     },
     "output_type": "display_data"
    }
   ],
   "source": [
    "y_pred = makeRoc(X_test.astype(float), y_test.astype(float), labels, model, outputSuffix='two-layer')"
   ]
  },
  {
   "cell_type": "code",
   "execution_count": null,
   "metadata": {
    "colab": {
     "base_uri": "https://localhost:8080/"
    },
    "id": "DiCNjzrAodyQ",
    "outputId": "338fb9f4-bfd4-4243-f1eb-38f802185a9d"
   },
   "outputs": [
    {
     "name": "stdout",
     "output_type": "stream",
     "text": [
      "Model: \"model_1\"\n",
      "_________________________________________________________________\n",
      "Layer (type)                 Output Shape              Param #   \n",
      "=================================================================\n",
      "input_2 (InputLayer)         [(None, 15, 44)]          0         \n",
      "_________________________________________________________________\n",
      "lstm1 (LSTM)                 (None, 32)                9856      \n",
      "_________________________________________________________________\n",
      "fc4 (Dense)                  (None, 64)                2112      \n",
      "_________________________________________________________________\n",
      "dropout_2 (Dropout)          (None, 64)                0         \n",
      "_________________________________________________________________\n",
      "fc7 (Dense)                  (None, 32)                2080      \n",
      "_________________________________________________________________\n",
      "dropout_3 (Dropout)          (None, 32)                0         \n",
      "_________________________________________________________________\n",
      "fc8 (Dense)                  (None, 16)                528       \n",
      "_________________________________________________________________\n",
      "output_sigmoid (Dense)       (None, 1)                 17        \n",
      "=================================================================\n",
      "Total params: 14,593\n",
      "Trainable params: 14,593\n",
      "Non-trainable params: 0\n",
      "_________________________________________________________________\n"
     ]
    }
   ],
   "source": [
    "Inputs = Input(shape=(15,44))\n",
    "x = LSTM(32, kernel_initializer = 'VarianceScaling', kernel_regularizer = regularizers.l1_l2(l1= 9.999E-5, l2 = 0.0), name = 'lstm1')(Inputs)\n",
    "x = Dense(64, activation='relu', kernel_initializer='lecun_uniform', name='fc4')(x)\n",
    "x= Dropout(rate = 0.1)(x)\n",
    "x = Dense(32, activation='relu', kernel_initializer='lecun_uniform', name='fc7')(x)\n",
    "x= Dropout(rate = 0.1)(x)\n",
    "x = Dense(16, activation='relu', kernel_initializer='lecun_uniform', name='fc8')(x)\n",
    "predictions = Dense(1, activation='sigmoid', kernel_initializer='lecun_uniform', name = 'output_sigmoid')(x)\n",
    "model = Model(inputs=Inputs, outputs=predictions)\n",
    "model.summary()"
   ]
  },
  {
   "cell_type": "code",
   "execution_count": null,
   "metadata": {
    "id": "7jXRm5AHodyQ"
   },
   "outputs": [],
   "source": [
    "adam = Adam(lr = 0.002)\n",
    "model.compile(optimizer='adam', loss='binary_crossentropy', metrics=['accuracy'])"
   ]
  },
  {
   "cell_type": "code",
   "execution_count": null,
   "metadata": {
    "colab": {
     "base_uri": "https://localhost:8080/"
    },
    "id": "naGKcGwUodyR",
    "outputId": "fe290c45-12f2-4b4e-8f04-eb205e8e2d01"
   },
   "outputs": [
    {
     "name": "stdout",
     "output_type": "stream",
     "text": [
      "Epoch 1/125\n",
      "269/269 [==============================] - 9s 10ms/step - loss: 0.5470 - accuracy: 0.7728 - val_loss: 0.3625 - val_accuracy: 0.8544\n",
      "Epoch 2/125\n",
      "269/269 [==============================] - 2s 7ms/step - loss: 0.3597 - accuracy: 0.8552 - val_loss: 0.3435 - val_accuracy: 0.8607\n",
      "Epoch 3/125\n",
      "269/269 [==============================] - 2s 7ms/step - loss: 0.3445 - accuracy: 0.8592 - val_loss: 0.3338 - val_accuracy: 0.8638\n",
      "Epoch 4/125\n",
      "269/269 [==============================] - 2s 7ms/step - loss: 0.3370 - accuracy: 0.8622 - val_loss: 0.3303 - val_accuracy: 0.8657\n",
      "Epoch 5/125\n",
      "269/269 [==============================] - 2s 7ms/step - loss: 0.3334 - accuracy: 0.8642 - val_loss: 0.3254 - val_accuracy: 0.8669\n",
      "Epoch 6/125\n",
      "269/269 [==============================] - 2s 7ms/step - loss: 0.3296 - accuracy: 0.8646 - val_loss: 0.3227 - val_accuracy: 0.8682\n",
      "Epoch 7/125\n",
      "269/269 [==============================] - 2s 7ms/step - loss: 0.3263 - accuracy: 0.8668 - val_loss: 0.3212 - val_accuracy: 0.8682\n",
      "Epoch 8/125\n",
      "269/269 [==============================] - 2s 7ms/step - loss: 0.3240 - accuracy: 0.8669 - val_loss: 0.3207 - val_accuracy: 0.8692\n",
      "Epoch 9/125\n",
      "269/269 [==============================] - 2s 7ms/step - loss: 0.3211 - accuracy: 0.8678 - val_loss: 0.3156 - val_accuracy: 0.8706\n",
      "Epoch 10/125\n",
      "269/269 [==============================] - 2s 7ms/step - loss: 0.3222 - accuracy: 0.8671 - val_loss: 0.3168 - val_accuracy: 0.8695\n",
      "Epoch 11/125\n",
      "269/269 [==============================] - 2s 7ms/step - loss: 0.3195 - accuracy: 0.8681 - val_loss: 0.3154 - val_accuracy: 0.8701\n",
      "Epoch 12/125\n",
      "269/269 [==============================] - 2s 7ms/step - loss: 0.3176 - accuracy: 0.8689 - val_loss: 0.3177 - val_accuracy: 0.8686\n",
      "Epoch 13/125\n",
      "269/269 [==============================] - 2s 7ms/step - loss: 0.3164 - accuracy: 0.8692 - val_loss: 0.3128 - val_accuracy: 0.8717\n",
      "Epoch 14/125\n",
      "269/269 [==============================] - 2s 7ms/step - loss: 0.3143 - accuracy: 0.8713 - val_loss: 0.3108 - val_accuracy: 0.8720\n",
      "Epoch 15/125\n",
      "269/269 [==============================] - 2s 7ms/step - loss: 0.3153 - accuracy: 0.8699 - val_loss: 0.3111 - val_accuracy: 0.8716\n",
      "Epoch 16/125\n",
      "269/269 [==============================] - 2s 7ms/step - loss: 0.3147 - accuracy: 0.8702 - val_loss: 0.3100 - val_accuracy: 0.8723\n",
      "Epoch 17/125\n",
      "269/269 [==============================] - 2s 7ms/step - loss: 0.3114 - accuracy: 0.8710 - val_loss: 0.3109 - val_accuracy: 0.8716\n",
      "Epoch 18/125\n",
      "269/269 [==============================] - 2s 7ms/step - loss: 0.3119 - accuracy: 0.8712 - val_loss: 0.3097 - val_accuracy: 0.8722\n",
      "Epoch 19/125\n",
      "269/269 [==============================] - 2s 7ms/step - loss: 0.3121 - accuracy: 0.8719 - val_loss: 0.3077 - val_accuracy: 0.8734\n",
      "Epoch 20/125\n",
      "269/269 [==============================] - 2s 7ms/step - loss: 0.3128 - accuracy: 0.8709 - val_loss: 0.3120 - val_accuracy: 0.8701\n",
      "Epoch 21/125\n",
      "269/269 [==============================] - 2s 7ms/step - loss: 0.3121 - accuracy: 0.8709 - val_loss: 0.3070 - val_accuracy: 0.8724\n",
      "Epoch 22/125\n",
      "269/269 [==============================] - 2s 7ms/step - loss: 0.3084 - accuracy: 0.8724 - val_loss: 0.3103 - val_accuracy: 0.8729\n",
      "Epoch 23/125\n",
      "269/269 [==============================] - 2s 7ms/step - loss: 0.3110 - accuracy: 0.8707 - val_loss: 0.3068 - val_accuracy: 0.8733\n",
      "Epoch 24/125\n",
      "269/269 [==============================] - 2s 7ms/step - loss: 0.3092 - accuracy: 0.8720 - val_loss: 0.3061 - val_accuracy: 0.8737\n",
      "Epoch 25/125\n",
      "269/269 [==============================] - 2s 7ms/step - loss: 0.3089 - accuracy: 0.8720 - val_loss: 0.3081 - val_accuracy: 0.8731\n",
      "Epoch 26/125\n",
      "269/269 [==============================] - 2s 7ms/step - loss: 0.3080 - accuracy: 0.8728 - val_loss: 0.3076 - val_accuracy: 0.8735\n",
      "Epoch 27/125\n",
      "269/269 [==============================] - 2s 7ms/step - loss: 0.3077 - accuracy: 0.8730 - val_loss: 0.3044 - val_accuracy: 0.8742\n",
      "Epoch 28/125\n",
      "269/269 [==============================] - 2s 8ms/step - loss: 0.3078 - accuracy: 0.8722 - val_loss: 0.3050 - val_accuracy: 0.8740\n",
      "Epoch 29/125\n",
      "269/269 [==============================] - 2s 7ms/step - loss: 0.3071 - accuracy: 0.8726 - val_loss: 0.3077 - val_accuracy: 0.8726\n",
      "Epoch 30/125\n",
      "269/269 [==============================] - 2s 7ms/step - loss: 0.3077 - accuracy: 0.8727 - val_loss: 0.3070 - val_accuracy: 0.8731\n",
      "Epoch 31/125\n",
      "269/269 [==============================] - 2s 7ms/step - loss: 0.3058 - accuracy: 0.8728 - val_loss: 0.3032 - val_accuracy: 0.8742\n",
      "Epoch 32/125\n",
      "269/269 [==============================] - 2s 7ms/step - loss: 0.3069 - accuracy: 0.8722 - val_loss: 0.3120 - val_accuracy: 0.8713\n",
      "Epoch 33/125\n",
      "269/269 [==============================] - 2s 7ms/step - loss: 0.3071 - accuracy: 0.8733 - val_loss: 0.3037 - val_accuracy: 0.8744\n",
      "Epoch 34/125\n",
      "269/269 [==============================] - 2s 8ms/step - loss: 0.3042 - accuracy: 0.8740 - val_loss: 0.3082 - val_accuracy: 0.8720\n",
      "Epoch 35/125\n",
      "269/269 [==============================] - 2s 8ms/step - loss: 0.3077 - accuracy: 0.8730 - val_loss: 0.3032 - val_accuracy: 0.8754\n",
      "Epoch 36/125\n",
      "269/269 [==============================] - 2s 7ms/step - loss: 0.3059 - accuracy: 0.8732 - val_loss: 0.3072 - val_accuracy: 0.8735\n",
      "Epoch 37/125\n",
      "269/269 [==============================] - 2s 7ms/step - loss: 0.3063 - accuracy: 0.8730 - val_loss: 0.3042 - val_accuracy: 0.8748\n",
      "Epoch 38/125\n",
      "269/269 [==============================] - 2s 7ms/step - loss: 0.3049 - accuracy: 0.8738 - val_loss: 0.3050 - val_accuracy: 0.8735\n",
      "Epoch 39/125\n",
      "269/269 [==============================] - 2s 7ms/step - loss: 0.3050 - accuracy: 0.8736 - val_loss: 0.3113 - val_accuracy: 0.8700\n",
      "Epoch 40/125\n",
      "269/269 [==============================] - 2s 8ms/step - loss: 0.3055 - accuracy: 0.8729 - val_loss: 0.3053 - val_accuracy: 0.8733\n",
      "Epoch 41/125\n",
      "269/269 [==============================] - 2s 7ms/step - loss: 0.3044 - accuracy: 0.8734 - val_loss: 0.3027 - val_accuracy: 0.8752\n",
      "Epoch 42/125\n",
      "269/269 [==============================] - 2s 7ms/step - loss: 0.3054 - accuracy: 0.8733 - val_loss: 0.3024 - val_accuracy: 0.8751\n",
      "Epoch 43/125\n",
      "269/269 [==============================] - 2s 8ms/step - loss: 0.3040 - accuracy: 0.8732 - val_loss: 0.3016 - val_accuracy: 0.8753\n",
      "Epoch 44/125\n",
      "269/269 [==============================] - 2s 7ms/step - loss: 0.3056 - accuracy: 0.8727 - val_loss: 0.3021 - val_accuracy: 0.8753\n",
      "Epoch 45/125\n",
      "269/269 [==============================] - 2s 7ms/step - loss: 0.3045 - accuracy: 0.8745 - val_loss: 0.3029 - val_accuracy: 0.8752\n",
      "Epoch 46/125\n",
      "269/269 [==============================] - 2s 7ms/step - loss: 0.3024 - accuracy: 0.8749 - val_loss: 0.3023 - val_accuracy: 0.8750\n",
      "Epoch 47/125\n",
      "269/269 [==============================] - 2s 7ms/step - loss: 0.3045 - accuracy: 0.8740 - val_loss: 0.3024 - val_accuracy: 0.8750\n",
      "Epoch 48/125\n",
      "269/269 [==============================] - 2s 7ms/step - loss: 0.3013 - accuracy: 0.8749 - val_loss: 0.3014 - val_accuracy: 0.8764\n",
      "Epoch 49/125\n",
      "269/269 [==============================] - 2s 7ms/step - loss: 0.3002 - accuracy: 0.8762 - val_loss: 0.3034 - val_accuracy: 0.8752\n",
      "Epoch 50/125\n",
      "269/269 [==============================] - 2s 7ms/step - loss: 0.3039 - accuracy: 0.8740 - val_loss: 0.3023 - val_accuracy: 0.8753\n",
      "Epoch 51/125\n",
      "269/269 [==============================] - 2s 7ms/step - loss: 0.3041 - accuracy: 0.8739 - val_loss: 0.3027 - val_accuracy: 0.8747\n",
      "Epoch 52/125\n",
      "269/269 [==============================] - 2s 7ms/step - loss: 0.3005 - accuracy: 0.8753 - val_loss: 0.3034 - val_accuracy: 0.8749\n",
      "Epoch 53/125\n",
      "269/269 [==============================] - 2s 7ms/step - loss: 0.3035 - accuracy: 0.8743 - val_loss: 0.2998 - val_accuracy: 0.8758\n",
      "Epoch 54/125\n",
      "269/269 [==============================] - 2s 7ms/step - loss: 0.3032 - accuracy: 0.8737 - val_loss: 0.3005 - val_accuracy: 0.8760\n",
      "Epoch 55/125\n",
      "269/269 [==============================] - 2s 8ms/step - loss: 0.3024 - accuracy: 0.8753 - val_loss: 0.3029 - val_accuracy: 0.8752\n",
      "Epoch 56/125\n",
      "269/269 [==============================] - 2s 7ms/step - loss: 0.3033 - accuracy: 0.8740 - val_loss: 0.3012 - val_accuracy: 0.8756\n",
      "Epoch 57/125\n",
      "269/269 [==============================] - 2s 7ms/step - loss: 0.3012 - accuracy: 0.8750 - val_loss: 0.3041 - val_accuracy: 0.8761\n",
      "Epoch 58/125\n",
      "269/269 [==============================] - 2s 7ms/step - loss: 0.3020 - accuracy: 0.8750 - val_loss: 0.3016 - val_accuracy: 0.8762\n",
      "Epoch 59/125\n",
      "269/269 [==============================] - 2s 7ms/step - loss: 0.3025 - accuracy: 0.8758 - val_loss: 0.3004 - val_accuracy: 0.8762\n",
      "Epoch 60/125\n",
      "269/269 [==============================] - 2s 7ms/step - loss: 0.3017 - accuracy: 0.8752 - val_loss: 0.3010 - val_accuracy: 0.8757\n",
      "Epoch 61/125\n",
      "269/269 [==============================] - 2s 8ms/step - loss: 0.2999 - accuracy: 0.8754 - val_loss: 0.3004 - val_accuracy: 0.8759\n",
      "Epoch 62/125\n",
      "269/269 [==============================] - 2s 7ms/step - loss: 0.3012 - accuracy: 0.8753 - val_loss: 0.3034 - val_accuracy: 0.8758\n",
      "Epoch 63/125\n",
      "269/269 [==============================] - 2s 8ms/step - loss: 0.3014 - accuracy: 0.8749 - val_loss: 0.3011 - val_accuracy: 0.8763\n",
      "Epoch 64/125\n",
      "269/269 [==============================] - 2s 7ms/step - loss: 0.3011 - accuracy: 0.8760 - val_loss: 0.3018 - val_accuracy: 0.8757\n",
      "Epoch 65/125\n",
      "269/269 [==============================] - 2s 7ms/step - loss: 0.3001 - accuracy: 0.8762 - val_loss: 0.2997 - val_accuracy: 0.8767\n",
      "Epoch 66/125\n",
      "269/269 [==============================] - 2s 8ms/step - loss: 0.2997 - accuracy: 0.8768 - val_loss: 0.3059 - val_accuracy: 0.8737\n",
      "Epoch 67/125\n",
      "269/269 [==============================] - 2s 7ms/step - loss: 0.2996 - accuracy: 0.8761 - val_loss: 0.3026 - val_accuracy: 0.8750\n",
      "Epoch 68/125\n",
      "269/269 [==============================] - 2s 7ms/step - loss: 0.2997 - accuracy: 0.8766 - val_loss: 0.2995 - val_accuracy: 0.8761\n",
      "Epoch 69/125\n",
      "269/269 [==============================] - 2s 7ms/step - loss: 0.3008 - accuracy: 0.8758 - val_loss: 0.3014 - val_accuracy: 0.8764\n",
      "Epoch 70/125\n",
      "269/269 [==============================] - 2s 7ms/step - loss: 0.3003 - accuracy: 0.8761 - val_loss: 0.3002 - val_accuracy: 0.8761\n",
      "Epoch 71/125\n",
      "269/269 [==============================] - 2s 7ms/step - loss: 0.3004 - accuracy: 0.8762 - val_loss: 0.2997 - val_accuracy: 0.8770\n",
      "Epoch 72/125\n",
      "269/269 [==============================] - 2s 7ms/step - loss: 0.2991 - accuracy: 0.8769 - val_loss: 0.2995 - val_accuracy: 0.8770\n",
      "Epoch 73/125\n",
      "269/269 [==============================] - 2s 7ms/step - loss: 0.2988 - accuracy: 0.8765 - val_loss: 0.2993 - val_accuracy: 0.8768\n",
      "Epoch 74/125\n",
      "269/269 [==============================] - 2s 7ms/step - loss: 0.2979 - accuracy: 0.8768 - val_loss: 0.2993 - val_accuracy: 0.8766\n",
      "Epoch 75/125\n",
      "269/269 [==============================] - 2s 7ms/step - loss: 0.3015 - accuracy: 0.8750 - val_loss: 0.3005 - val_accuracy: 0.8762\n",
      "Epoch 76/125\n",
      "269/269 [==============================] - 2s 7ms/step - loss: 0.3004 - accuracy: 0.8756 - val_loss: 0.2991 - val_accuracy: 0.8767\n",
      "Epoch 77/125\n",
      "269/269 [==============================] - 2s 7ms/step - loss: 0.3003 - accuracy: 0.8760 - val_loss: 0.3004 - val_accuracy: 0.8764\n",
      "Epoch 78/125\n",
      "269/269 [==============================] - 2s 7ms/step - loss: 0.3002 - accuracy: 0.8758 - val_loss: 0.3011 - val_accuracy: 0.8755\n",
      "Epoch 79/125\n",
      "269/269 [==============================] - 2s 7ms/step - loss: 0.2985 - accuracy: 0.8770 - val_loss: 0.2992 - val_accuracy: 0.8768\n",
      "Epoch 80/125\n",
      "269/269 [==============================] - 2s 7ms/step - loss: 0.3016 - accuracy: 0.8747 - val_loss: 0.2989 - val_accuracy: 0.8773\n",
      "Epoch 81/125\n",
      "269/269 [==============================] - 2s 7ms/step - loss: 0.2987 - accuracy: 0.8772 - val_loss: 0.3026 - val_accuracy: 0.8752\n",
      "Epoch 82/125\n",
      "269/269 [==============================] - 2s 7ms/step - loss: 0.2990 - accuracy: 0.8768 - val_loss: 0.2997 - val_accuracy: 0.8779\n",
      "Epoch 83/125\n",
      "269/269 [==============================] - 2s 7ms/step - loss: 0.2993 - accuracy: 0.8763 - val_loss: 0.2977 - val_accuracy: 0.8772\n",
      "Epoch 84/125\n",
      "269/269 [==============================] - 2s 7ms/step - loss: 0.2979 - accuracy: 0.8769 - val_loss: 0.3014 - val_accuracy: 0.8772\n",
      "Epoch 85/125\n",
      "269/269 [==============================] - 2s 7ms/step - loss: 0.2999 - accuracy: 0.8758 - val_loss: 0.2986 - val_accuracy: 0.8773\n",
      "Epoch 86/125\n",
      "269/269 [==============================] - 2s 7ms/step - loss: 0.2966 - accuracy: 0.8772 - val_loss: 0.2998 - val_accuracy: 0.8756\n",
      "Epoch 87/125\n",
      "269/269 [==============================] - 2s 7ms/step - loss: 0.2981 - accuracy: 0.8767 - val_loss: 0.3011 - val_accuracy: 0.8765\n",
      "Epoch 88/125\n",
      "269/269 [==============================] - 2s 7ms/step - loss: 0.2987 - accuracy: 0.8769 - val_loss: 0.2979 - val_accuracy: 0.8775\n",
      "Epoch 89/125\n",
      "269/269 [==============================] - 2s 7ms/step - loss: 0.2975 - accuracy: 0.8773 - val_loss: 0.2983 - val_accuracy: 0.8775\n",
      "Epoch 90/125\n",
      "269/269 [==============================] - 2s 7ms/step - loss: 0.2976 - accuracy: 0.8770 - val_loss: 0.2982 - val_accuracy: 0.8775\n",
      "Epoch 91/125\n",
      "269/269 [==============================] - 2s 7ms/step - loss: 0.2981 - accuracy: 0.8769 - val_loss: 0.3025 - val_accuracy: 0.8745\n",
      "Epoch 92/125\n",
      "269/269 [==============================] - 2s 7ms/step - loss: 0.2972 - accuracy: 0.8778 - val_loss: 0.2985 - val_accuracy: 0.8767\n",
      "Epoch 93/125\n",
      "269/269 [==============================] - 2s 7ms/step - loss: 0.2953 - accuracy: 0.8780 - val_loss: 0.2975 - val_accuracy: 0.8774\n",
      "Epoch 94/125\n",
      "269/269 [==============================] - 2s 7ms/step - loss: 0.2981 - accuracy: 0.8776 - val_loss: 0.3017 - val_accuracy: 0.8739\n",
      "Epoch 95/125\n",
      "269/269 [==============================] - 2s 7ms/step - loss: 0.2983 - accuracy: 0.8772 - val_loss: 0.2979 - val_accuracy: 0.8766\n",
      "Epoch 96/125\n",
      "269/269 [==============================] - 2s 7ms/step - loss: 0.2962 - accuracy: 0.8782 - val_loss: 0.2975 - val_accuracy: 0.8780\n",
      "Epoch 97/125\n",
      "269/269 [==============================] - 2s 7ms/step - loss: 0.2950 - accuracy: 0.8783 - val_loss: 0.2990 - val_accuracy: 0.8772\n",
      "Epoch 98/125\n",
      "269/269 [==============================] - 2s 7ms/step - loss: 0.2975 - accuracy: 0.8776 - val_loss: 0.2979 - val_accuracy: 0.8761\n",
      "Epoch 99/125\n",
      "269/269 [==============================] - 2s 7ms/step - loss: 0.2958 - accuracy: 0.8780 - val_loss: 0.3000 - val_accuracy: 0.8764\n",
      "Epoch 100/125\n",
      "269/269 [==============================] - 2s 7ms/step - loss: 0.2986 - accuracy: 0.8765 - val_loss: 0.2993 - val_accuracy: 0.8768\n",
      "Epoch 101/125\n",
      "269/269 [==============================] - 2s 7ms/step - loss: 0.2956 - accuracy: 0.8779 - val_loss: 0.3015 - val_accuracy: 0.8757\n",
      "Epoch 102/125\n",
      "269/269 [==============================] - 2s 8ms/step - loss: 0.2974 - accuracy: 0.8770 - val_loss: 0.2974 - val_accuracy: 0.8767\n",
      "Epoch 103/125\n",
      "269/269 [==============================] - 2s 7ms/step - loss: 0.2970 - accuracy: 0.8781 - val_loss: 0.2967 - val_accuracy: 0.8782\n",
      "Epoch 104/125\n",
      "269/269 [==============================] - 2s 7ms/step - loss: 0.2945 - accuracy: 0.8782 - val_loss: 0.2993 - val_accuracy: 0.8765\n",
      "Epoch 105/125\n",
      "269/269 [==============================] - 2s 7ms/step - loss: 0.2974 - accuracy: 0.8779 - val_loss: 0.2993 - val_accuracy: 0.8754\n",
      "Epoch 106/125\n",
      "269/269 [==============================] - 2s 8ms/step - loss: 0.2965 - accuracy: 0.8774 - val_loss: 0.3030 - val_accuracy: 0.8735\n",
      "Epoch 107/125\n",
      "269/269 [==============================] - 2s 7ms/step - loss: 0.2966 - accuracy: 0.8767 - val_loss: 0.2980 - val_accuracy: 0.8769\n",
      "Epoch 108/125\n",
      "269/269 [==============================] - 2s 7ms/step - loss: 0.2944 - accuracy: 0.8781 - val_loss: 0.2991 - val_accuracy: 0.8767\n",
      "Epoch 109/125\n",
      "269/269 [==============================] - 2s 7ms/step - loss: 0.2957 - accuracy: 0.8785 - val_loss: 0.3001 - val_accuracy: 0.8772\n",
      "Epoch 110/125\n",
      "269/269 [==============================] - 2s 7ms/step - loss: 0.2972 - accuracy: 0.8772 - val_loss: 0.2990 - val_accuracy: 0.8763\n",
      "Epoch 111/125\n",
      "269/269 [==============================] - 2s 7ms/step - loss: 0.2965 - accuracy: 0.8771 - val_loss: 0.2968 - val_accuracy: 0.8774\n",
      "Epoch 112/125\n",
      "269/269 [==============================] - 2s 7ms/step - loss: 0.2959 - accuracy: 0.8782 - val_loss: 0.2970 - val_accuracy: 0.8772\n",
      "Epoch 113/125\n",
      "269/269 [==============================] - 2s 7ms/step - loss: 0.2948 - accuracy: 0.8782 - val_loss: 0.2994 - val_accuracy: 0.8771\n",
      "Epoch 114/125\n",
      "269/269 [==============================] - 2s 8ms/step - loss: 0.2976 - accuracy: 0.8772 - val_loss: 0.2988 - val_accuracy: 0.8769\n",
      "Epoch 115/125\n",
      "269/269 [==============================] - 2s 7ms/step - loss: 0.2966 - accuracy: 0.8772 - val_loss: 0.2986 - val_accuracy: 0.8768\n",
      "Epoch 116/125\n",
      "269/269 [==============================] - 2s 8ms/step - loss: 0.2944 - accuracy: 0.8792 - val_loss: 0.2978 - val_accuracy: 0.8772\n",
      "Epoch 117/125\n",
      "269/269 [==============================] - 2s 8ms/step - loss: 0.2945 - accuracy: 0.8781 - val_loss: 0.2983 - val_accuracy: 0.8771\n",
      "Epoch 118/125\n",
      "269/269 [==============================] - 2s 7ms/step - loss: 0.2939 - accuracy: 0.8786 - val_loss: 0.2974 - val_accuracy: 0.8779\n",
      "Epoch 119/125\n",
      "269/269 [==============================] - 2s 7ms/step - loss: 0.2946 - accuracy: 0.8792 - val_loss: 0.2984 - val_accuracy: 0.8769\n",
      "Epoch 120/125\n",
      "269/269 [==============================] - 2s 7ms/step - loss: 0.2947 - accuracy: 0.8789 - val_loss: 0.2971 - val_accuracy: 0.8760\n",
      "Epoch 121/125\n",
      "269/269 [==============================] - 2s 7ms/step - loss: 0.2964 - accuracy: 0.8785 - val_loss: 0.2998 - val_accuracy: 0.8757\n",
      "Epoch 122/125\n",
      "269/269 [==============================] - 2s 7ms/step - loss: 0.2948 - accuracy: 0.8778 - val_loss: 0.2979 - val_accuracy: 0.8778\n",
      "Epoch 123/125\n",
      "269/269 [==============================] - 2s 7ms/step - loss: 0.2934 - accuracy: 0.8793 - val_loss: 0.2979 - val_accuracy: 0.8772\n",
      "Epoch 124/125\n",
      "269/269 [==============================] - 2s 7ms/step - loss: 0.2945 - accuracy: 0.8793 - val_loss: 0.2978 - val_accuracy: 0.8766\n",
      "Epoch 125/125\n",
      "269/269 [==============================] - 2s 7ms/step - loss: 0.2944 - accuracy: 0.8788 - val_loss: 0.2987 - val_accuracy: 0.8757\n"
     ]
    }
   ],
   "source": [
    "history = model.fit(X_train, y_train, batch_size = 1024, epochs = 125, \n",
    "                    validation_split = 0.25, shuffle = True, callbacks = None,\n",
    "                    use_multiprocessing=True, workers=4)"
   ]
  },
  {
   "cell_type": "code",
   "execution_count": null,
   "metadata": {
    "colab": {
     "base_uri": "https://localhost:8080/",
     "height": 513
    },
    "id": "GVRXV3ixodyR",
    "outputId": "0612e1f6-ffa9-48b9-9473-f5b633d3d85f"
   },
   "outputs": [
    {
     "data": {
      "image/png": "[encoded data removed]",
      "text/plain": [
       "<Figure size 720x576 with 1 Axes>"
      ]
     },
     "metadata": {
      "needs_background": "light",
      "tags": []
     },
     "output_type": "display_data"
    }
   ],
   "source": [
    "learningCurve(history)"
   ]
  },
  {
   "cell_type": "code",
   "execution_count": null,
   "metadata": {
    "colab": {
     "base_uri": "https://localhost:8080/",
     "height": 519
    },
    "id": "9swEHYTTodyS",
    "outputId": "c88e5bf1-899c-4aaa-ca22-60ffbca20199"
   },
   "outputs": [
    {
     "data": {
      "image/png": "[encoded data removed]",
      "text/plain": [
       "<Figure size 720x576 with 1 Axes>"
      ]
     },
     "metadata": {
      "needs_background": "light",
      "tags": []
     },
     "output_type": "display_data"
    }
   ],
   "source": [
    "y_pred = makeRoc(X_test.astype(float), y_test.astype(float), labels, model, outputSuffix='two-layer')"
   ]
  },
  {
   "cell_type": "code",
   "execution_count": null,
   "metadata": {
    "colab": {
     "base_uri": "https://localhost:8080/"
    },
    "id": "bsNwfeQrodyS",
    "outputId": "6f2a02b8-5807-4992-a7bc-d9efc0ad4da3"
   },
   "outputs": [
    {
     "name": "stdout",
     "output_type": "stream",
     "text": [
      "Model: \"model_10\"\n",
      "_________________________________________________________________\n",
      "Layer (type)                 Output Shape              Param #   \n",
      "=================================================================\n",
      "input_11 (InputLayer)        [(None, 15, 44)]          0         \n",
      "_________________________________________________________________\n",
      "lstm1 (LSTM)                 (None, 32)                9856      \n",
      "_________________________________________________________________\n",
      "flatten_8 (Flatten)          (None, 32)                0         \n",
      "_________________________________________________________________\n",
      "output_sigmoid (Dense)       (None, 1)                 33        \n",
      "=================================================================\n",
      "Total params: 9,889\n",
      "Trainable params: 9,889\n",
      "Non-trainable params: 0\n",
      "_________________________________________________________________\n"
     ]
    }
   ],
   "source": [
    "Inputs = Input(shape=(15,44))\n",
    "x = LSTM(32, kernel_initializer = 'VarianceScaling', kernel_regularizer = regularizers.l1_l2(l1= 0.0002, l2 = 0.001), name = 'lstm1')(Inputs)\n",
    "x = Flatten(trainable= True)(x)\n",
    "predictions = Dense(1, activation='sigmoid', kernel_initializer='lecun_uniform', name = 'output_sigmoid')(x)\n",
    "model = Model(inputs=Inputs, outputs=predictions)\n",
    "model.summary()\n"
   ]
  },
  {
   "cell_type": "code",
   "execution_count": null,
   "metadata": {
    "colab": {
     "base_uri": "https://localhost:8080/"
    },
    "id": "7-bOUlW3L0OC",
    "outputId": "9851ae97-339e-4390-caa7-a6a8504e0682"
   },
   "outputs": [
    {
     "name": "stdout",
     "output_type": "stream",
     "text": [
      "Model: \"model_3\"\n",
      "_________________________________________________________________\n",
      "Layer (type)                 Output Shape              Param #   \n",
      "=================================================================\n",
      "input_4 (InputLayer)         [(None, 15, 21)]          0         \n",
      "_________________________________________________________________\n",
      "lstm1 (LSTM)                 (None, 32)                6912      \n",
      "_________________________________________________________________\n",
      "flatten_1 (Flatten)          (None, 32)                0         \n",
      "_________________________________________________________________\n",
      "output_sigmoid (Dense)       (None, 1)                 33        \n",
      "=================================================================\n",
      "Total params: 6,945\n",
      "Trainable params: 6,945\n",
      "Non-trainable params: 0\n",
      "_________________________________________________________________\n"
     ]
    }
   ],
   "source": [
    "Inputs = Input(shape=(15,21))\r\n",
    "x = LSTM(32, kernel_initializer = 'VarianceScaling', kernel_regularizer = regularizers.l1_l2(l1= 0.0002, l2 = 0.001), name = 'lstm1')(Inputs)\r\n",
    "x = Flatten(trainable= True)(x)\r\n",
    "predictions = Dense(1, activation='sigmoid', kernel_initializer='lecun_uniform', name = 'output_sigmoid')(x)\r\n",
    "model = Model(inputs=Inputs, outputs=predictions)\r\n",
    "model.summary()\r\n"
   ]
  },
  {
   "cell_type": "code",
   "execution_count": null,
   "metadata": {
    "id": "CyOxdssPodyT"
   },
   "outputs": [],
   "source": [
    "adam = Adam(lr = 0.002)\n",
    "model.compile(optimizer='adam', loss='binary_crossentropy', metrics=['accuracy'])"
   ]
  },
  {
   "cell_type": "code",
   "execution_count": null,
   "metadata": {
    "colab": {
     "base_uri": "https://localhost:8080/"
    },
    "id": "YnEFRgulodyT",
    "outputId": "d9276499-34c1-47e5-b1d5-6b3c6be9d34f"
   },
   "outputs": [
    {
     "name": "stdout",
     "output_type": "stream",
     "text": [
      "Epoch 1/150\n",
      "269/269 [==============================] - 4s 9ms/step - loss: 0.6607 - accuracy: 0.7954 - val_loss: 0.3714 - val_accuracy: 0.8577\n",
      "Epoch 2/150\n",
      "269/269 [==============================] - 2s 7ms/step - loss: 0.3662 - accuracy: 0.8561 - val_loss: 0.3432 - val_accuracy: 0.8620\n",
      "Epoch 3/150\n",
      "269/269 [==============================] - 2s 7ms/step - loss: 0.3432 - accuracy: 0.8608 - val_loss: 0.3369 - val_accuracy: 0.8625\n",
      "Epoch 4/150\n",
      "269/269 [==============================] - 2s 7ms/step - loss: 0.3377 - accuracy: 0.8621 - val_loss: 0.3329 - val_accuracy: 0.8637\n",
      "Epoch 5/150\n",
      "269/269 [==============================] - 2s 7ms/step - loss: 0.3342 - accuracy: 0.8632 - val_loss: 0.3339 - val_accuracy: 0.8626\n",
      "Epoch 6/150\n",
      "269/269 [==============================] - 2s 7ms/step - loss: 0.3320 - accuracy: 0.8639 - val_loss: 0.3293 - val_accuracy: 0.8650\n",
      "Epoch 7/150\n",
      "269/269 [==============================] - 2s 7ms/step - loss: 0.3309 - accuracy: 0.8642 - val_loss: 0.3244 - val_accuracy: 0.8672\n",
      "Epoch 8/150\n",
      "269/269 [==============================] - 2s 7ms/step - loss: 0.3293 - accuracy: 0.8645 - val_loss: 0.3256 - val_accuracy: 0.8661\n",
      "Epoch 9/150\n",
      "269/269 [==============================] - 2s 7ms/step - loss: 0.3272 - accuracy: 0.8643 - val_loss: 0.3213 - val_accuracy: 0.8688\n",
      "Epoch 10/150\n",
      "269/269 [==============================] - 2s 7ms/step - loss: 0.3246 - accuracy: 0.8656 - val_loss: 0.3267 - val_accuracy: 0.8648\n",
      "Epoch 11/150\n",
      "269/269 [==============================] - 2s 7ms/step - loss: 0.3257 - accuracy: 0.8664 - val_loss: 0.3194 - val_accuracy: 0.8694\n",
      "Epoch 12/150\n",
      "269/269 [==============================] - 2s 7ms/step - loss: 0.3255 - accuracy: 0.8657 - val_loss: 0.3225 - val_accuracy: 0.8676\n",
      "Epoch 13/150\n",
      "269/269 [==============================] - 2s 7ms/step - loss: 0.3240 - accuracy: 0.8665 - val_loss: 0.3196 - val_accuracy: 0.8691\n",
      "Epoch 14/150\n",
      "269/269 [==============================] - 2s 7ms/step - loss: 0.3231 - accuracy: 0.8671 - val_loss: 0.3191 - val_accuracy: 0.8692\n",
      "Epoch 15/150\n",
      "269/269 [==============================] - 2s 7ms/step - loss: 0.3196 - accuracy: 0.8674 - val_loss: 0.3203 - val_accuracy: 0.8684\n",
      "Epoch 16/150\n",
      "269/269 [==============================] - 2s 7ms/step - loss: 0.3217 - accuracy: 0.8669 - val_loss: 0.3176 - val_accuracy: 0.8691\n",
      "Epoch 17/150\n",
      "269/269 [==============================] - 2s 7ms/step - loss: 0.3196 - accuracy: 0.8693 - val_loss: 0.3157 - val_accuracy: 0.8703\n",
      "Epoch 18/150\n",
      "269/269 [==============================] - 2s 7ms/step - loss: 0.3180 - accuracy: 0.8684 - val_loss: 0.3138 - val_accuracy: 0.8712\n",
      "Epoch 19/150\n",
      "269/269 [==============================] - 2s 7ms/step - loss: 0.3197 - accuracy: 0.8680 - val_loss: 0.3152 - val_accuracy: 0.8696\n",
      "Epoch 20/150\n",
      "269/269 [==============================] - 2s 7ms/step - loss: 0.3212 - accuracy: 0.8672 - val_loss: 0.3149 - val_accuracy: 0.8715\n",
      "Epoch 21/150\n",
      "269/269 [==============================] - 2s 7ms/step - loss: 0.3174 - accuracy: 0.8688 - val_loss: 0.3132 - val_accuracy: 0.8711\n",
      "Epoch 22/150\n",
      "269/269 [==============================] - 2s 7ms/step - loss: 0.3174 - accuracy: 0.8694 - val_loss: 0.3129 - val_accuracy: 0.8714\n",
      "Epoch 23/150\n",
      "269/269 [==============================] - 2s 7ms/step - loss: 0.3181 - accuracy: 0.8684 - val_loss: 0.3131 - val_accuracy: 0.8711\n",
      "Epoch 24/150\n",
      "269/269 [==============================] - 2s 7ms/step - loss: 0.3154 - accuracy: 0.8698 - val_loss: 0.3126 - val_accuracy: 0.8720\n",
      "Epoch 25/150\n",
      "269/269 [==============================] - 2s 7ms/step - loss: 0.3156 - accuracy: 0.8697 - val_loss: 0.3111 - val_accuracy: 0.8729\n",
      "Epoch 26/150\n",
      "269/269 [==============================] - 2s 7ms/step - loss: 0.3169 - accuracy: 0.8693 - val_loss: 0.3106 - val_accuracy: 0.8725\n",
      "Epoch 27/150\n",
      "269/269 [==============================] - 2s 7ms/step - loss: 0.3149 - accuracy: 0.8693 - val_loss: 0.3136 - val_accuracy: 0.8712\n",
      "Epoch 28/150\n",
      "269/269 [==============================] - 2s 8ms/step - loss: 0.3140 - accuracy: 0.8702 - val_loss: 0.3127 - val_accuracy: 0.8715\n",
      "Epoch 29/150\n",
      "269/269 [==============================] - 2s 7ms/step - loss: 0.3162 - accuracy: 0.8690 - val_loss: 0.3118 - val_accuracy: 0.8720\n",
      "Epoch 30/150\n",
      "269/269 [==============================] - 2s 7ms/step - loss: 0.3147 - accuracy: 0.8694 - val_loss: 0.3121 - val_accuracy: 0.8708\n",
      "Epoch 31/150\n",
      "269/269 [==============================] - 2s 7ms/step - loss: 0.3155 - accuracy: 0.8705 - val_loss: 0.3181 - val_accuracy: 0.8699\n",
      "Epoch 32/150\n",
      "269/269 [==============================] - 2s 7ms/step - loss: 0.3135 - accuracy: 0.8713 - val_loss: 0.3109 - val_accuracy: 0.8731\n",
      "Epoch 33/150\n",
      "269/269 [==============================] - 2s 7ms/step - loss: 0.3145 - accuracy: 0.8698 - val_loss: 0.3093 - val_accuracy: 0.8728\n",
      "Epoch 34/150\n",
      "269/269 [==============================] - 2s 7ms/step - loss: 0.3123 - accuracy: 0.8708 - val_loss: 0.3097 - val_accuracy: 0.8733\n",
      "Epoch 35/150\n",
      "269/269 [==============================] - 2s 7ms/step - loss: 0.3131 - accuracy: 0.8710 - val_loss: 0.3123 - val_accuracy: 0.8716\n",
      "Epoch 36/150\n",
      "269/269 [==============================] - 2s 7ms/step - loss: 0.3128 - accuracy: 0.8715 - val_loss: 0.3086 - val_accuracy: 0.8736\n",
      "Epoch 37/150\n",
      "269/269 [==============================] - 2s 7ms/step - loss: 0.3130 - accuracy: 0.8702 - val_loss: 0.3078 - val_accuracy: 0.8741\n",
      "Epoch 38/150\n",
      "269/269 [==============================] - 2s 7ms/step - loss: 0.3113 - accuracy: 0.8716 - val_loss: 0.3107 - val_accuracy: 0.8729\n",
      "Epoch 39/150\n",
      "269/269 [==============================] - 2s 7ms/step - loss: 0.3148 - accuracy: 0.8700 - val_loss: 0.3096 - val_accuracy: 0.8727\n",
      "Epoch 40/150\n",
      "269/269 [==============================] - 2s 7ms/step - loss: 0.3117 - accuracy: 0.8726 - val_loss: 0.3120 - val_accuracy: 0.8722\n",
      "Epoch 41/150\n",
      "269/269 [==============================] - 2s 7ms/step - loss: 0.3141 - accuracy: 0.8705 - val_loss: 0.3103 - val_accuracy: 0.8727\n",
      "Epoch 42/150\n",
      "269/269 [==============================] - 2s 7ms/step - loss: 0.3110 - accuracy: 0.8725 - val_loss: 0.3092 - val_accuracy: 0.8734\n",
      "Epoch 43/150\n",
      "269/269 [==============================] - 2s 7ms/step - loss: 0.3123 - accuracy: 0.8710 - val_loss: 0.3090 - val_accuracy: 0.8734\n",
      "Epoch 44/150\n",
      "269/269 [==============================] - 2s 7ms/step - loss: 0.3101 - accuracy: 0.8724 - val_loss: 0.3101 - val_accuracy: 0.8725\n",
      "Epoch 45/150\n",
      "269/269 [==============================] - 2s 8ms/step - loss: 0.3104 - accuracy: 0.8723 - val_loss: 0.3077 - val_accuracy: 0.8735\n",
      "Epoch 46/150\n",
      "269/269 [==============================] - 2s 8ms/step - loss: 0.3111 - accuracy: 0.8718 - val_loss: 0.3150 - val_accuracy: 0.8705\n",
      "Epoch 47/150\n",
      "269/269 [==============================] - 2s 7ms/step - loss: 0.3133 - accuracy: 0.8706 - val_loss: 0.3091 - val_accuracy: 0.8745\n",
      "Epoch 48/150\n",
      "269/269 [==============================] - 2s 7ms/step - loss: 0.3083 - accuracy: 0.8730 - val_loss: 0.3093 - val_accuracy: 0.8727\n",
      "Epoch 49/150\n",
      "269/269 [==============================] - 2s 7ms/step - loss: 0.3109 - accuracy: 0.8724 - val_loss: 0.3104 - val_accuracy: 0.8719\n",
      "Epoch 50/150\n",
      "269/269 [==============================] - 2s 7ms/step - loss: 0.3127 - accuracy: 0.8705 - val_loss: 0.3105 - val_accuracy: 0.8729\n",
      "Epoch 51/150\n",
      "269/269 [==============================] - 2s 7ms/step - loss: 0.3109 - accuracy: 0.8719 - val_loss: 0.3071 - val_accuracy: 0.8744\n",
      "Epoch 52/150\n",
      "269/269 [==============================] - 2s 7ms/step - loss: 0.3094 - accuracy: 0.8729 - val_loss: 0.3124 - val_accuracy: 0.8725\n",
      "Epoch 53/150\n",
      "269/269 [==============================] - 2s 7ms/step - loss: 0.3102 - accuracy: 0.8715 - val_loss: 0.3107 - val_accuracy: 0.8735\n",
      "Epoch 54/150\n",
      "269/269 [==============================] - 2s 7ms/step - loss: 0.3102 - accuracy: 0.8726 - val_loss: 0.3055 - val_accuracy: 0.8747\n",
      "Epoch 55/150\n",
      "269/269 [==============================] - 2s 7ms/step - loss: 0.3088 - accuracy: 0.8729 - val_loss: 0.3095 - val_accuracy: 0.8728\n",
      "Epoch 56/150\n",
      "269/269 [==============================] - 2s 7ms/step - loss: 0.3084 - accuracy: 0.8735 - val_loss: 0.3126 - val_accuracy: 0.8717\n",
      "Epoch 57/150\n",
      "269/269 [==============================] - 2s 7ms/step - loss: 0.3118 - accuracy: 0.8724 - val_loss: 0.3102 - val_accuracy: 0.8731\n",
      "Epoch 58/150\n",
      "269/269 [==============================] - 2s 7ms/step - loss: 0.3090 - accuracy: 0.8724 - val_loss: 0.3112 - val_accuracy: 0.8721\n",
      "Epoch 59/150\n",
      "269/269 [==============================] - 2s 7ms/step - loss: 0.3107 - accuracy: 0.8723 - val_loss: 0.3138 - val_accuracy: 0.8704\n",
      "Epoch 60/150\n",
      "269/269 [==============================] - 2s 7ms/step - loss: 0.3095 - accuracy: 0.8726 - val_loss: 0.3105 - val_accuracy: 0.8729\n",
      "Epoch 61/150\n",
      "269/269 [==============================] - 2s 7ms/step - loss: 0.3093 - accuracy: 0.8725 - val_loss: 0.3084 - val_accuracy: 0.8737\n",
      "Epoch 62/150\n",
      "269/269 [==============================] - 2s 8ms/step - loss: 0.3099 - accuracy: 0.8727 - val_loss: 0.3063 - val_accuracy: 0.8747\n",
      "Epoch 63/150\n",
      "269/269 [==============================] - 2s 7ms/step - loss: 0.3100 - accuracy: 0.8719 - val_loss: 0.3184 - val_accuracy: 0.8684\n",
      "Epoch 64/150\n",
      "269/269 [==============================] - 2s 7ms/step - loss: 0.3114 - accuracy: 0.8716 - val_loss: 0.3081 - val_accuracy: 0.8733\n",
      "Epoch 65/150\n",
      "269/269 [==============================] - 2s 7ms/step - loss: 0.3096 - accuracy: 0.8729 - val_loss: 0.3075 - val_accuracy: 0.8750\n",
      "Epoch 66/150\n",
      "269/269 [==============================] - 2s 8ms/step - loss: 0.3079 - accuracy: 0.8734 - val_loss: 0.3061 - val_accuracy: 0.8748\n",
      "Epoch 67/150\n",
      "269/269 [==============================] - 2s 7ms/step - loss: 0.3081 - accuracy: 0.8738 - val_loss: 0.3070 - val_accuracy: 0.8746\n",
      "Epoch 68/150\n",
      "269/269 [==============================] - 2s 7ms/step - loss: 0.3105 - accuracy: 0.8715 - val_loss: 0.3072 - val_accuracy: 0.8748\n",
      "Epoch 69/150\n",
      "269/269 [==============================] - 2s 8ms/step - loss: 0.3085 - accuracy: 0.8721 - val_loss: 0.3054 - val_accuracy: 0.8754\n",
      "Epoch 70/150\n",
      "269/269 [==============================] - 2s 7ms/step - loss: 0.3092 - accuracy: 0.8733 - val_loss: 0.3094 - val_accuracy: 0.8733\n",
      "Epoch 71/150\n",
      "269/269 [==============================] - 2s 7ms/step - loss: 0.3090 - accuracy: 0.8731 - val_loss: 0.3072 - val_accuracy: 0.8739\n",
      "Epoch 72/150\n",
      "269/269 [==============================] - 2s 7ms/step - loss: 0.3089 - accuracy: 0.8731 - val_loss: 0.3078 - val_accuracy: 0.8739\n",
      "Epoch 73/150\n",
      "269/269 [==============================] - 2s 7ms/step - loss: 0.3086 - accuracy: 0.8731 - val_loss: 0.3103 - val_accuracy: 0.8729\n",
      "Epoch 74/150\n",
      "269/269 [==============================] - 2s 7ms/step - loss: 0.3071 - accuracy: 0.8742 - val_loss: 0.3096 - val_accuracy: 0.8731\n",
      "Epoch 75/150\n",
      "269/269 [==============================] - 2s 7ms/step - loss: 0.3095 - accuracy: 0.8725 - val_loss: 0.3042 - val_accuracy: 0.8752\n",
      "Epoch 76/150\n",
      "269/269 [==============================] - 2s 7ms/step - loss: 0.3082 - accuracy: 0.8727 - val_loss: 0.3057 - val_accuracy: 0.8750\n",
      "Epoch 77/150\n",
      "269/269 [==============================] - 2s 7ms/step - loss: 0.3068 - accuracy: 0.8739 - val_loss: 0.3056 - val_accuracy: 0.8759\n",
      "Epoch 78/150\n",
      "269/269 [==============================] - 2s 7ms/step - loss: 0.3081 - accuracy: 0.8739 - val_loss: 0.3053 - val_accuracy: 0.8759\n",
      "Epoch 79/150\n",
      "269/269 [==============================] - 2s 7ms/step - loss: 0.3084 - accuracy: 0.8738 - val_loss: 0.3072 - val_accuracy: 0.8742\n",
      "Epoch 80/150\n",
      "269/269 [==============================] - 2s 7ms/step - loss: 0.3087 - accuracy: 0.8730 - val_loss: 0.3050 - val_accuracy: 0.8756\n",
      "Epoch 81/150\n",
      "269/269 [==============================] - 2s 7ms/step - loss: 0.3062 - accuracy: 0.8734 - val_loss: 0.3117 - val_accuracy: 0.8723\n",
      "Epoch 82/150\n",
      "269/269 [==============================] - 2s 7ms/step - loss: 0.3076 - accuracy: 0.8737 - val_loss: 0.3045 - val_accuracy: 0.8754\n",
      "Epoch 83/150\n",
      "269/269 [==============================] - 2s 7ms/step - loss: 0.3076 - accuracy: 0.8731 - val_loss: 0.3063 - val_accuracy: 0.8743\n",
      "Epoch 84/150\n",
      "269/269 [==============================] - 2s 7ms/step - loss: 0.3066 - accuracy: 0.8739 - val_loss: 0.3045 - val_accuracy: 0.8755\n",
      "Epoch 85/150\n",
      "269/269 [==============================] - 2s 7ms/step - loss: 0.3078 - accuracy: 0.8731 - val_loss: 0.3070 - val_accuracy: 0.8743\n",
      "Epoch 86/150\n",
      "269/269 [==============================] - 2s 7ms/step - loss: 0.3069 - accuracy: 0.8733 - val_loss: 0.3060 - val_accuracy: 0.8752\n",
      "Epoch 87/150\n",
      "269/269 [==============================] - 2s 7ms/step - loss: 0.3076 - accuracy: 0.8737 - val_loss: 0.3040 - val_accuracy: 0.8748\n",
      "Epoch 88/150\n",
      "269/269 [==============================] - 2s 7ms/step - loss: 0.3083 - accuracy: 0.8737 - val_loss: 0.3075 - val_accuracy: 0.8738\n",
      "Epoch 89/150\n",
      "269/269 [==============================] - 2s 7ms/step - loss: 0.3080 - accuracy: 0.8731 - val_loss: 0.3049 - val_accuracy: 0.8751\n",
      "Epoch 90/150\n",
      "269/269 [==============================] - 2s 7ms/step - loss: 0.3088 - accuracy: 0.8732 - val_loss: 0.3071 - val_accuracy: 0.8752\n",
      "Epoch 91/150\n",
      "269/269 [==============================] - 2s 8ms/step - loss: 0.3080 - accuracy: 0.8735 - val_loss: 0.3069 - val_accuracy: 0.8737\n",
      "Epoch 92/150\n",
      "269/269 [==============================] - 2s 8ms/step - loss: 0.3073 - accuracy: 0.8738 - val_loss: 0.3065 - val_accuracy: 0.8747\n",
      "Epoch 93/150\n",
      "269/269 [==============================] - 2s 8ms/step - loss: 0.3071 - accuracy: 0.8741 - val_loss: 0.3084 - val_accuracy: 0.8729\n",
      "Epoch 94/150\n",
      "269/269 [==============================] - 2s 8ms/step - loss: 0.3067 - accuracy: 0.8740 - val_loss: 0.3099 - val_accuracy: 0.8747\n",
      "Epoch 95/150\n",
      "269/269 [==============================] - 2s 7ms/step - loss: 0.3084 - accuracy: 0.8738 - val_loss: 0.3032 - val_accuracy: 0.8757\n",
      "Epoch 96/150\n",
      "269/269 [==============================] - 2s 7ms/step - loss: 0.3060 - accuracy: 0.8741 - val_loss: 0.3051 - val_accuracy: 0.8749\n",
      "Epoch 97/150\n",
      "269/269 [==============================] - 2s 7ms/step - loss: 0.3058 - accuracy: 0.8743 - val_loss: 0.3054 - val_accuracy: 0.8753\n",
      "Epoch 98/150\n",
      "269/269 [==============================] - 2s 7ms/step - loss: 0.3052 - accuracy: 0.8746 - val_loss: 0.3061 - val_accuracy: 0.8745\n",
      "Epoch 99/150\n",
      "269/269 [==============================] - 2s 7ms/step - loss: 0.3063 - accuracy: 0.8733 - val_loss: 0.3036 - val_accuracy: 0.8759\n",
      "Epoch 100/150\n",
      "269/269 [==============================] - 2s 7ms/step - loss: 0.3076 - accuracy: 0.8731 - val_loss: 0.3043 - val_accuracy: 0.8753\n",
      "Epoch 101/150\n",
      "269/269 [==============================] - 2s 7ms/step - loss: 0.3049 - accuracy: 0.8744 - val_loss: 0.3073 - val_accuracy: 0.8740\n",
      "Epoch 102/150\n",
      "269/269 [==============================] - 2s 7ms/step - loss: 0.3079 - accuracy: 0.8726 - val_loss: 0.3131 - val_accuracy: 0.8700\n",
      "Epoch 103/150\n",
      "269/269 [==============================] - 2s 7ms/step - loss: 0.3057 - accuracy: 0.8742 - val_loss: 0.3050 - val_accuracy: 0.8758\n",
      "Epoch 104/150\n",
      "269/269 [==============================] - 2s 7ms/step - loss: 0.3061 - accuracy: 0.8747 - val_loss: 0.3060 - val_accuracy: 0.8746\n",
      "Epoch 105/150\n",
      "269/269 [==============================] - 2s 7ms/step - loss: 0.3053 - accuracy: 0.8743 - val_loss: 0.3042 - val_accuracy: 0.8760\n",
      "Epoch 106/150\n",
      "269/269 [==============================] - 2s 7ms/step - loss: 0.3026 - accuracy: 0.8750 - val_loss: 0.3036 - val_accuracy: 0.8764\n",
      "Epoch 107/150\n",
      "269/269 [==============================] - 2s 7ms/step - loss: 0.3058 - accuracy: 0.8735 - val_loss: 0.3037 - val_accuracy: 0.8755\n",
      "Epoch 108/150\n",
      "269/269 [==============================] - 2s 8ms/step - loss: 0.3044 - accuracy: 0.8749 - val_loss: 0.3030 - val_accuracy: 0.8766\n",
      "Epoch 109/150\n",
      "269/269 [==============================] - 2s 7ms/step - loss: 0.3057 - accuracy: 0.8735 - val_loss: 0.3031 - val_accuracy: 0.8760\n",
      "Epoch 110/150\n",
      "269/269 [==============================] - 2s 7ms/step - loss: 0.3060 - accuracy: 0.8743 - val_loss: 0.3137 - val_accuracy: 0.8713\n",
      "Epoch 111/150\n",
      "269/269 [==============================] - 2s 7ms/step - loss: 0.3046 - accuracy: 0.8748 - val_loss: 0.3054 - val_accuracy: 0.8751\n",
      "Epoch 112/150\n",
      "269/269 [==============================] - 2s 7ms/step - loss: 0.3044 - accuracy: 0.8747 - val_loss: 0.3079 - val_accuracy: 0.8735\n",
      "Epoch 113/150\n",
      "269/269 [==============================] - 2s 7ms/step - loss: 0.3059 - accuracy: 0.8739 - val_loss: 0.3027 - val_accuracy: 0.8756\n",
      "Epoch 114/150\n",
      "269/269 [==============================] - 2s 7ms/step - loss: 0.3047 - accuracy: 0.8750 - val_loss: 0.3033 - val_accuracy: 0.8757\n",
      "Epoch 115/150\n",
      "269/269 [==============================] - 2s 8ms/step - loss: 0.3057 - accuracy: 0.8744 - val_loss: 0.3046 - val_accuracy: 0.8760\n",
      "Epoch 116/150\n",
      "269/269 [==============================] - 2s 8ms/step - loss: 0.3045 - accuracy: 0.8749 - val_loss: 0.3096 - val_accuracy: 0.8733\n",
      "Epoch 117/150\n",
      "269/269 [==============================] - 2s 7ms/step - loss: 0.3044 - accuracy: 0.8750 - val_loss: 0.3025 - val_accuracy: 0.8758\n",
      "Epoch 118/150\n",
      "269/269 [==============================] - 2s 8ms/step - loss: 0.3044 - accuracy: 0.8748 - val_loss: 0.3042 - val_accuracy: 0.8748\n",
      "Epoch 119/150\n",
      "269/269 [==============================] - 2s 7ms/step - loss: 0.3053 - accuracy: 0.8749 - val_loss: 0.3029 - val_accuracy: 0.8770\n",
      "Epoch 120/150\n",
      "269/269 [==============================] - 2s 7ms/step - loss: 0.3042 - accuracy: 0.8752 - val_loss: 0.3012 - val_accuracy: 0.8767\n",
      "Epoch 121/150\n",
      "269/269 [==============================] - 2s 7ms/step - loss: 0.3066 - accuracy: 0.8731 - val_loss: 0.3036 - val_accuracy: 0.8766\n",
      "Epoch 122/150\n",
      "269/269 [==============================] - 2s 8ms/step - loss: 0.3049 - accuracy: 0.8742 - val_loss: 0.3026 - val_accuracy: 0.8770\n",
      "Epoch 123/150\n",
      "269/269 [==============================] - 2s 7ms/step - loss: 0.3043 - accuracy: 0.8747 - val_loss: 0.3052 - val_accuracy: 0.8751\n",
      "Epoch 124/150\n",
      "269/269 [==============================] - 2s 8ms/step - loss: 0.3051 - accuracy: 0.8741 - val_loss: 0.3026 - val_accuracy: 0.8766\n",
      "Epoch 125/150\n",
      "269/269 [==============================] - 2s 8ms/step - loss: 0.3057 - accuracy: 0.8742 - val_loss: 0.3029 - val_accuracy: 0.8765\n",
      "Epoch 126/150\n",
      "269/269 [==============================] - 2s 7ms/step - loss: 0.3044 - accuracy: 0.8757 - val_loss: 0.3040 - val_accuracy: 0.8759\n",
      "Epoch 127/150\n",
      "269/269 [==============================] - 2s 7ms/step - loss: 0.3025 - accuracy: 0.8755 - val_loss: 0.3015 - val_accuracy: 0.8764\n",
      "Epoch 128/150\n",
      "269/269 [==============================] - 2s 7ms/step - loss: 0.3037 - accuracy: 0.8756 - val_loss: 0.3046 - val_accuracy: 0.8754\n",
      "Epoch 129/150\n",
      "269/269 [==============================] - 2s 7ms/step - loss: 0.3054 - accuracy: 0.8744 - val_loss: 0.3061 - val_accuracy: 0.8757\n",
      "Epoch 130/150\n",
      "269/269 [==============================] - 2s 7ms/step - loss: 0.3070 - accuracy: 0.8738 - val_loss: 0.3037 - val_accuracy: 0.8761\n",
      "Epoch 131/150\n",
      "269/269 [==============================] - 2s 8ms/step - loss: 0.3053 - accuracy: 0.8749 - val_loss: 0.3045 - val_accuracy: 0.8758\n",
      "Epoch 132/150\n",
      "269/269 [==============================] - 2s 7ms/step - loss: 0.3044 - accuracy: 0.8748 - val_loss: 0.3059 - val_accuracy: 0.8752\n",
      "Epoch 133/150\n",
      "269/269 [==============================] - 2s 7ms/step - loss: 0.3040 - accuracy: 0.8754 - val_loss: 0.3065 - val_accuracy: 0.8745\n",
      "Epoch 134/150\n",
      "269/269 [==============================] - 2s 7ms/step - loss: 0.3051 - accuracy: 0.8748 - val_loss: 0.3027 - val_accuracy: 0.8761\n",
      "Epoch 135/150\n",
      "269/269 [==============================] - 2s 7ms/step - loss: 0.3029 - accuracy: 0.8757 - val_loss: 0.3037 - val_accuracy: 0.8763\n",
      "Epoch 136/150\n",
      "269/269 [==============================] - 2s 7ms/step - loss: 0.3042 - accuracy: 0.8752 - val_loss: 0.3030 - val_accuracy: 0.8762\n",
      "Epoch 137/150\n",
      "269/269 [==============================] - 2s 7ms/step - loss: 0.3043 - accuracy: 0.8742 - val_loss: 0.3026 - val_accuracy: 0.8765\n",
      "Epoch 138/150\n",
      "269/269 [==============================] - 2s 7ms/step - loss: 0.3048 - accuracy: 0.8744 - val_loss: 0.3035 - val_accuracy: 0.8755\n",
      "Epoch 139/150\n",
      "269/269 [==============================] - 2s 7ms/step - loss: 0.3035 - accuracy: 0.8758 - val_loss: 0.3048 - val_accuracy: 0.8753\n",
      "Epoch 140/150\n",
      "269/269 [==============================] - 2s 7ms/step - loss: 0.3030 - accuracy: 0.8754 - val_loss: 0.3034 - val_accuracy: 0.8760\n",
      "Epoch 141/150\n",
      "269/269 [==============================] - 2s 7ms/step - loss: 0.3061 - accuracy: 0.8742 - val_loss: 0.3033 - val_accuracy: 0.8762\n",
      "Epoch 142/150\n",
      "269/269 [==============================] - 2s 8ms/step - loss: 0.3042 - accuracy: 0.8748 - val_loss: 0.3087 - val_accuracy: 0.8741\n",
      "Epoch 143/150\n",
      "269/269 [==============================] - 2s 7ms/step - loss: 0.3042 - accuracy: 0.8748 - val_loss: 0.3046 - val_accuracy: 0.8765\n",
      "Epoch 144/150\n",
      "269/269 [==============================] - 2s 7ms/step - loss: 0.3027 - accuracy: 0.8750 - val_loss: 0.3039 - val_accuracy: 0.8760\n",
      "Epoch 145/150\n",
      "269/269 [==============================] - 2s 7ms/step - loss: 0.3046 - accuracy: 0.8750 - val_loss: 0.3031 - val_accuracy: 0.8762\n",
      "Epoch 146/150\n",
      "269/269 [==============================] - 2s 7ms/step - loss: 0.3038 - accuracy: 0.8741 - val_loss: 0.3030 - val_accuracy: 0.8754\n",
      "Epoch 147/150\n",
      "269/269 [==============================] - 2s 7ms/step - loss: 0.3025 - accuracy: 0.8752 - val_loss: 0.3013 - val_accuracy: 0.8777\n",
      "Epoch 148/150\n",
      "269/269 [==============================] - 2s 7ms/step - loss: 0.3018 - accuracy: 0.8760 - val_loss: 0.3057 - val_accuracy: 0.8746\n",
      "Epoch 149/150\n",
      "269/269 [==============================] - 2s 8ms/step - loss: 0.3033 - accuracy: 0.8753 - val_loss: 0.3007 - val_accuracy: 0.8769\n",
      "Epoch 150/150\n",
      "269/269 [==============================] - 2s 8ms/step - loss: 0.3030 - accuracy: 0.8753 - val_loss: 0.3076 - val_accuracy: 0.8734\n"
     ]
    }
   ],
   "source": [
    "history = model.fit(X_train, y_train, batch_size = 1024, epochs = 150, \n",
    "                    validation_split = 0.25, shuffle = True, callbacks = None,\n",
    "                    use_multiprocessing=True, workers=4)"
   ]
  },
  {
   "cell_type": "code",
   "execution_count": null,
   "metadata": {
    "colab": {
     "base_uri": "https://localhost:8080/",
     "height": 513
    },
    "id": "erjFLQVRodyU",
    "outputId": "302cee26-c5be-414f-efde-e989d397a89f"
   },
   "outputs": [
    {
     "data": {
      "image/png": "[encoded data removed]",
      "text/plain": [
       "<Figure size 720x576 with 1 Axes>"
      ]
     },
     "metadata": {
      "needs_background": "light",
      "tags": []
     },
     "output_type": "display_data"
    }
   ],
   "source": [
    "learningCurve(history)"
   ]
  },
  {
   "cell_type": "code",
   "execution_count": null,
   "metadata": {
    "colab": {
     "base_uri": "https://localhost:8080/",
     "height": 519
    },
    "id": "_Jz-5o-XodyU",
    "outputId": "81837fbf-97c2-41ee-8943-99d8f9a60490"
   },
   "outputs": [
    {
     "data": {
      "image/png": "[encoded data removed]",
      "text/plain": [
       "<Figure size 720x576 with 1 Axes>"
      ]
     },
     "metadata": {
      "needs_background": "light",
      "tags": []
     },
     "output_type": "display_data"
    }
   ],
   "source": [
    "y_pred = makeRoc(X_test.astype(float), y_test.astype(float), labels, model, outputSuffix='two-layer')"
   ]
  },
  {
   "cell_type": "code",
   "execution_count": null,
   "metadata": {
    "id": "OZoiMbeaodyV"
   },
   "outputs": [],
   "source": [
    "def Pair_inputs(data, num_tracks_for_pairing = 15):\n",
    "    \"\"\"\n",
    "        assuming data shape is: (batch, num_tracks, 13)\n",
    "    \n",
    "        returns:\n",
    "        ---------\n",
    "        (batch , num_tracks_for_pairing**2, 26)\n",
    "    \"\"\"\n",
    "\n",
    "    # Example: input of shape (batch, 10 (const. #tracks), 13)\n",
    "    # --> 100 pairs including (a,b), (b,a)\n",
    "    # stacking the pairs' features together --> 2*13 features\n",
    "    # will be re-permuted & duplicated into (batch, 100, 26)\n",
    "    # [optional] transpose / reshape --> (batch * 100, 26)\n",
    "\n",
    "    sp = data.shape\n",
    "    \n",
    "    num_feat = sp[2]\n",
    "    assert data.ndim==3\n",
    "\n",
    "    result = np.zeros((sp[0], num_tracks_for_pairing**2, num_feat*2),'float32')\n",
    "\n",
    "    \n",
    "    for i in range(num_tracks_for_pairing):\n",
    "        result[:, i::num_tracks_for_pairing, :num_feat] = data\n",
    "        result[:, i*num_tracks_for_pairing:num_tracks_for_pairing + i*num_tracks_for_pairing, num_feat:] = data\n",
    "\n",
    "    return result"
   ]
  },
  {
   "cell_type": "code",
   "execution_count": null,
   "metadata": {
    "id": "5GY-Hf_QodyV"
   },
   "outputs": [],
   "source": [
    "pair = Pair_inputs(X_train)"
   ]
  },
  {
   "cell_type": "code",
   "execution_count": null,
   "metadata": {
    "colab": {
     "base_uri": "https://localhost:8080/"
    },
    "id": "e8Jv_ea4odyV",
    "outputId": "c7785003-a5af-44eb-cd5f-21487f832d60"
   },
   "outputs": [
    {
     "name": "stdout",
     "output_type": "stream",
     "text": [
      "Model: \"model_3\"\n",
      "_________________________________________________________________\n",
      "Layer (type)                 Output Shape              Param #   \n",
      "=================================================================\n",
      "input_4 (InputLayer)         [(None, 225, 88)]         0         \n",
      "_________________________________________________________________\n",
      "conv1d_1 (Conv1D)            (None, 225, 10)           890       \n",
      "_________________________________________________________________\n",
      "dropout_6 (Dropout)          (None, 225, 10)           0         \n",
      "_________________________________________________________________\n",
      "flatten_1 (Flatten)          (None, 2250)              0         \n",
      "_________________________________________________________________\n",
      "fc7 (Dense)                  (None, 16)                36016     \n",
      "_________________________________________________________________\n",
      "dropout_7 (Dropout)          (None, 16)                0         \n",
      "_________________________________________________________________\n",
      "fc6 (Dense)                  (None, 2)                 34        \n",
      "_________________________________________________________________\n",
      "output_sigmoid (Dense)       (None, 1)                 3         \n",
      "=================================================================\n",
      "Total params: 36,943\n",
      "Trainable params: 36,943\n",
      "Non-trainable params: 0\n",
      "_________________________________________________________________\n"
     ]
    }
   ],
   "source": [
    "Inputs = Input(shape=(225,88))\n",
    "x = Conv1D(10,1, activation = 'relu', kernel_initializer = 'lecun_uniform')(Inputs)\n",
    "x= Dropout(rate = 0.1)(x)\n",
    "x=Flatten()(x)\n",
    "x = Dense(16, activation='relu', kernel_initializer='lecun_uniform', name='fc7')(x)\n",
    "x = Dropout(rate = 0.1)(x)\n",
    "x = Dense(2, activation='relu', kernel_initializer='lecun_uniform', name='fc6')(x)\n",
    "\n",
    "predictions = Dense(1, activation='sigmoid', kernel_initializer='lecun_uniform', name = 'output_sigmoid')(x)\n",
    "model = Model(inputs=Inputs, outputs=predictions)\n",
    "model.summary()"
   ]
  },
  {
   "cell_type": "code",
   "execution_count": null,
   "metadata": {
    "id": "tX9ZBPFHodyV"
   },
   "outputs": [],
   "source": [
    "adam = Adam(lr = 0.002)\n",
    "model.compile(optimizer='adam', loss='binary_crossentropy', metrics=['accuracy'])"
   ]
  },
  {
   "cell_type": "code",
   "execution_count": null,
   "metadata": {
    "id": "0dzyecG0odyV",
    "outputId": "b67e9c1d-d6ae-4d43-f686-df1f1c88e1bb"
   },
   "outputs": [
    {
     "ename": "ResourceExhaustedError",
     "evalue": "OOM when allocating tensor with shape[275232,225,42] and type float on /job:localhost/replica:0/task:0/device:CPU:0 by allocator mklcpu [Op:GatherV2]",
     "output_type": "error",
     "traceback": [
      "\u001b[0;31m---------------------------------------------------------------------------\u001b[0m",
      "\u001b[0;31mResourceExhaustedError\u001b[0m                    Traceback (most recent call last)",
      "\u001b[0;32m<ipython-input-20-b984b7e4ba3d>\u001b[0m in \u001b[0;36m<module>\u001b[0;34m\u001b[0m\n\u001b[1;32m      1\u001b[0m history = model.fit(pair, y_train, batch_size = 1024, epochs = 60, \n\u001b[1;32m      2\u001b[0m                     \u001b[0mvalidation_split\u001b[0m \u001b[0;34m=\u001b[0m \u001b[0;36m0.25\u001b[0m\u001b[0;34m,\u001b[0m \u001b[0mshuffle\u001b[0m \u001b[0;34m=\u001b[0m \u001b[0;32mTrue\u001b[0m\u001b[0;34m,\u001b[0m \u001b[0mcallbacks\u001b[0m \u001b[0;34m=\u001b[0m \u001b[0;32mNone\u001b[0m\u001b[0;34m,\u001b[0m\u001b[0;34m\u001b[0m\u001b[0;34m\u001b[0m\u001b[0m\n\u001b[0;32m----> 3\u001b[0;31m                     use_multiprocessing=True, workers=4)\n\u001b[0m",
      "\u001b[0;32m~/anaconda3/envs/tensorflow/lib/python3.7/site-packages/tensorflow/python/keras/engine/training.py\u001b[0m in \u001b[0;36m_method_wrapper\u001b[0;34m(self, *args, **kwargs)\u001b[0m\n\u001b[1;32m     64\u001b[0m   \u001b[0;32mdef\u001b[0m \u001b[0m_method_wrapper\u001b[0m\u001b[0;34m(\u001b[0m\u001b[0mself\u001b[0m\u001b[0;34m,\u001b[0m \u001b[0;34m*\u001b[0m\u001b[0margs\u001b[0m\u001b[0;34m,\u001b[0m \u001b[0;34m**\u001b[0m\u001b[0mkwargs\u001b[0m\u001b[0;34m)\u001b[0m\u001b[0;34m:\u001b[0m\u001b[0;34m\u001b[0m\u001b[0;34m\u001b[0m\u001b[0m\n\u001b[1;32m     65\u001b[0m     \u001b[0;32mif\u001b[0m \u001b[0;32mnot\u001b[0m \u001b[0mself\u001b[0m\u001b[0;34m.\u001b[0m\u001b[0m_in_multi_worker_mode\u001b[0m\u001b[0;34m(\u001b[0m\u001b[0;34m)\u001b[0m\u001b[0;34m:\u001b[0m  \u001b[0;31m# pylint: disable=protected-access\u001b[0m\u001b[0;34m\u001b[0m\u001b[0;34m\u001b[0m\u001b[0m\n\u001b[0;32m---> 66\u001b[0;31m       \u001b[0;32mreturn\u001b[0m \u001b[0mmethod\u001b[0m\u001b[0;34m(\u001b[0m\u001b[0mself\u001b[0m\u001b[0;34m,\u001b[0m \u001b[0;34m*\u001b[0m\u001b[0margs\u001b[0m\u001b[0;34m,\u001b[0m \u001b[0;34m**\u001b[0m\u001b[0mkwargs\u001b[0m\u001b[0;34m)\u001b[0m\u001b[0;34m\u001b[0m\u001b[0;34m\u001b[0m\u001b[0m\n\u001b[0m\u001b[1;32m     67\u001b[0m \u001b[0;34m\u001b[0m\u001b[0m\n\u001b[1;32m     68\u001b[0m     \u001b[0;31m# Running inside `run_distribute_coordinator` already.\u001b[0m\u001b[0;34m\u001b[0m\u001b[0;34m\u001b[0m\u001b[0;34m\u001b[0m\u001b[0m\n",
      "\u001b[0;32m~/anaconda3/envs/tensorflow/lib/python3.7/site-packages/tensorflow/python/keras/engine/training.py\u001b[0m in \u001b[0;36mfit\u001b[0;34m(self, x, y, batch_size, epochs, verbose, callbacks, validation_split, validation_data, shuffle, class_weight, sample_weight, initial_epoch, steps_per_epoch, validation_steps, validation_batch_size, validation_freq, max_queue_size, workers, use_multiprocessing)\u001b[0m\n\u001b[1;32m    795\u001b[0m           data_adapter.train_validation_split((x, y, sample_weight),\n\u001b[1;32m    796\u001b[0m                                               \u001b[0mvalidation_split\u001b[0m\u001b[0;34m=\u001b[0m\u001b[0mvalidation_split\u001b[0m\u001b[0;34m,\u001b[0m\u001b[0;34m\u001b[0m\u001b[0;34m\u001b[0m\u001b[0m\n\u001b[0;32m--> 797\u001b[0;31m                                               shuffle=False))\n\u001b[0m\u001b[1;32m    798\u001b[0m \u001b[0;34m\u001b[0m\u001b[0m\n\u001b[1;32m    799\u001b[0m     \u001b[0;32mwith\u001b[0m \u001b[0mself\u001b[0m\u001b[0;34m.\u001b[0m\u001b[0mdistribute_strategy\u001b[0m\u001b[0;34m.\u001b[0m\u001b[0mscope\u001b[0m\u001b[0;34m(\u001b[0m\u001b[0;34m)\u001b[0m\u001b[0;34m,\u001b[0m\u001b[0;31m \u001b[0m\u001b[0;31m\\\u001b[0m\u001b[0;34m\u001b[0m\u001b[0;34m\u001b[0m\u001b[0m\n",
      "\u001b[0;32m~/anaconda3/envs/tensorflow/lib/python3.7/site-packages/tensorflow/python/keras/engine/data_adapter.py\u001b[0m in \u001b[0;36mtrain_validation_split\u001b[0;34m(arrays, validation_split, shuffle)\u001b[0m\n\u001b[1;32m   1336\u001b[0m \u001b[0;34m\u001b[0m\u001b[0m\n\u001b[1;32m   1337\u001b[0m   train_arrays = nest.map_structure(\n\u001b[0;32m-> 1338\u001b[0;31m       functools.partial(_split, indices=train_indices), arrays)\n\u001b[0m\u001b[1;32m   1339\u001b[0m   val_arrays = nest.map_structure(\n\u001b[1;32m   1340\u001b[0m       functools.partial(_split, indices=val_indices), arrays)\n",
      "\u001b[0;32m~/anaconda3/envs/tensorflow/lib/python3.7/site-packages/tensorflow/python/util/nest.py\u001b[0m in \u001b[0;36mmap_structure\u001b[0;34m(func, *structure, **kwargs)\u001b[0m\n\u001b[1;32m    615\u001b[0m \u001b[0;34m\u001b[0m\u001b[0m\n\u001b[1;32m    616\u001b[0m   return pack_sequence_as(\n\u001b[0;32m--> 617\u001b[0;31m       \u001b[0mstructure\u001b[0m\u001b[0;34m[\u001b[0m\u001b[0;36m0\u001b[0m\u001b[0;34m]\u001b[0m\u001b[0;34m,\u001b[0m \u001b[0;34m[\u001b[0m\u001b[0mfunc\u001b[0m\u001b[0;34m(\u001b[0m\u001b[0;34m*\u001b[0m\u001b[0mx\u001b[0m\u001b[0;34m)\u001b[0m \u001b[0;32mfor\u001b[0m \u001b[0mx\u001b[0m \u001b[0;32min\u001b[0m \u001b[0mentries\u001b[0m\u001b[0;34m]\u001b[0m\u001b[0;34m,\u001b[0m\u001b[0;34m\u001b[0m\u001b[0;34m\u001b[0m\u001b[0m\n\u001b[0m\u001b[1;32m    618\u001b[0m       expand_composites=expand_composites)\n\u001b[1;32m    619\u001b[0m \u001b[0;34m\u001b[0m\u001b[0m\n",
      "\u001b[0;32m~/anaconda3/envs/tensorflow/lib/python3.7/site-packages/tensorflow/python/util/nest.py\u001b[0m in \u001b[0;36m<listcomp>\u001b[0;34m(.0)\u001b[0m\n\u001b[1;32m    615\u001b[0m \u001b[0;34m\u001b[0m\u001b[0m\n\u001b[1;32m    616\u001b[0m   return pack_sequence_as(\n\u001b[0;32m--> 617\u001b[0;31m       \u001b[0mstructure\u001b[0m\u001b[0;34m[\u001b[0m\u001b[0;36m0\u001b[0m\u001b[0;34m]\u001b[0m\u001b[0;34m,\u001b[0m \u001b[0;34m[\u001b[0m\u001b[0mfunc\u001b[0m\u001b[0;34m(\u001b[0m\u001b[0;34m*\u001b[0m\u001b[0mx\u001b[0m\u001b[0;34m)\u001b[0m \u001b[0;32mfor\u001b[0m \u001b[0mx\u001b[0m \u001b[0;32min\u001b[0m \u001b[0mentries\u001b[0m\u001b[0;34m]\u001b[0m\u001b[0;34m,\u001b[0m\u001b[0;34m\u001b[0m\u001b[0;34m\u001b[0m\u001b[0m\n\u001b[0m\u001b[1;32m    618\u001b[0m       expand_composites=expand_composites)\n\u001b[1;32m    619\u001b[0m \u001b[0;34m\u001b[0m\u001b[0m\n",
      "\u001b[0;32m~/anaconda3/envs/tensorflow/lib/python3.7/site-packages/tensorflow/python/keras/engine/data_adapter.py\u001b[0m in \u001b[0;36m_split\u001b[0;34m(t, indices)\u001b[0m\n\u001b[1;32m   1333\u001b[0m       \u001b[0;32mreturn\u001b[0m \u001b[0mt\u001b[0m\u001b[0;34m\u001b[0m\u001b[0;34m\u001b[0m\u001b[0m\n\u001b[1;32m   1334\u001b[0m     \u001b[0mt\u001b[0m \u001b[0;34m=\u001b[0m \u001b[0mops\u001b[0m\u001b[0;34m.\u001b[0m\u001b[0mconvert_to_tensor_v2\u001b[0m\u001b[0;34m(\u001b[0m\u001b[0mt\u001b[0m\u001b[0;34m)\u001b[0m\u001b[0;34m\u001b[0m\u001b[0;34m\u001b[0m\u001b[0m\n\u001b[0;32m-> 1335\u001b[0;31m     \u001b[0;32mreturn\u001b[0m \u001b[0marray_ops\u001b[0m\u001b[0;34m.\u001b[0m\u001b[0mgather_v2\u001b[0m\u001b[0;34m(\u001b[0m\u001b[0mt\u001b[0m\u001b[0;34m,\u001b[0m \u001b[0mindices\u001b[0m\u001b[0;34m)\u001b[0m\u001b[0;34m\u001b[0m\u001b[0;34m\u001b[0m\u001b[0m\n\u001b[0m\u001b[1;32m   1336\u001b[0m \u001b[0;34m\u001b[0m\u001b[0m\n\u001b[1;32m   1337\u001b[0m   train_arrays = nest.map_structure(\n",
      "\u001b[0;32m~/anaconda3/envs/tensorflow/lib/python3.7/site-packages/tensorflow/python/util/dispatch.py\u001b[0m in \u001b[0;36mwrapper\u001b[0;34m(*args, **kwargs)\u001b[0m\n\u001b[1;32m    178\u001b[0m     \u001b[0;34m\"\"\"Call target, and fall back on dispatchers if there is a TypeError.\"\"\"\u001b[0m\u001b[0;34m\u001b[0m\u001b[0;34m\u001b[0m\u001b[0m\n\u001b[1;32m    179\u001b[0m     \u001b[0;32mtry\u001b[0m\u001b[0;34m:\u001b[0m\u001b[0;34m\u001b[0m\u001b[0;34m\u001b[0m\u001b[0m\n\u001b[0;32m--> 180\u001b[0;31m       \u001b[0;32mreturn\u001b[0m \u001b[0mtarget\u001b[0m\u001b[0;34m(\u001b[0m\u001b[0;34m*\u001b[0m\u001b[0margs\u001b[0m\u001b[0;34m,\u001b[0m \u001b[0;34m**\u001b[0m\u001b[0mkwargs\u001b[0m\u001b[0;34m)\u001b[0m\u001b[0;34m\u001b[0m\u001b[0;34m\u001b[0m\u001b[0m\n\u001b[0m\u001b[1;32m    181\u001b[0m     \u001b[0;32mexcept\u001b[0m \u001b[0;34m(\u001b[0m\u001b[0mTypeError\u001b[0m\u001b[0;34m,\u001b[0m \u001b[0mValueError\u001b[0m\u001b[0;34m)\u001b[0m\u001b[0;34m:\u001b[0m\u001b[0;34m\u001b[0m\u001b[0;34m\u001b[0m\u001b[0m\n\u001b[1;32m    182\u001b[0m       \u001b[0;31m# Note: convert_to_eager_tensor currently raises a ValueError, not a\u001b[0m\u001b[0;34m\u001b[0m\u001b[0;34m\u001b[0m\u001b[0;34m\u001b[0m\u001b[0m\n",
      "\u001b[0;32m~/anaconda3/envs/tensorflow/lib/python3.7/site-packages/tensorflow/python/ops/array_ops.py\u001b[0m in \u001b[0;36mgather_v2\u001b[0;34m(params, indices, validate_indices, axis, batch_dims, name)\u001b[0m\n\u001b[1;32m   4539\u001b[0m       \u001b[0mname\u001b[0m\u001b[0;34m=\u001b[0m\u001b[0mname\u001b[0m\u001b[0;34m,\u001b[0m\u001b[0;34m\u001b[0m\u001b[0;34m\u001b[0m\u001b[0m\n\u001b[1;32m   4540\u001b[0m       \u001b[0maxis\u001b[0m\u001b[0;34m=\u001b[0m\u001b[0maxis\u001b[0m\u001b[0;34m,\u001b[0m\u001b[0;34m\u001b[0m\u001b[0;34m\u001b[0m\u001b[0m\n\u001b[0;32m-> 4541\u001b[0;31m       batch_dims=batch_dims)\n\u001b[0m\u001b[1;32m   4542\u001b[0m \u001b[0;34m\u001b[0m\u001b[0m\n\u001b[1;32m   4543\u001b[0m \u001b[0;34m\u001b[0m\u001b[0m\n",
      "\u001b[0;32m~/anaconda3/envs/tensorflow/lib/python3.7/site-packages/tensorflow/python/util/dispatch.py\u001b[0m in \u001b[0;36mwrapper\u001b[0;34m(*args, **kwargs)\u001b[0m\n\u001b[1;32m    178\u001b[0m     \u001b[0;34m\"\"\"Call target, and fall back on dispatchers if there is a TypeError.\"\"\"\u001b[0m\u001b[0;34m\u001b[0m\u001b[0;34m\u001b[0m\u001b[0m\n\u001b[1;32m    179\u001b[0m     \u001b[0;32mtry\u001b[0m\u001b[0;34m:\u001b[0m\u001b[0;34m\u001b[0m\u001b[0;34m\u001b[0m\u001b[0m\n\u001b[0;32m--> 180\u001b[0;31m       \u001b[0;32mreturn\u001b[0m \u001b[0mtarget\u001b[0m\u001b[0;34m(\u001b[0m\u001b[0;34m*\u001b[0m\u001b[0margs\u001b[0m\u001b[0;34m,\u001b[0m \u001b[0;34m**\u001b[0m\u001b[0mkwargs\u001b[0m\u001b[0;34m)\u001b[0m\u001b[0;34m\u001b[0m\u001b[0;34m\u001b[0m\u001b[0m\n\u001b[0m\u001b[1;32m    181\u001b[0m     \u001b[0;32mexcept\u001b[0m \u001b[0;34m(\u001b[0m\u001b[0mTypeError\u001b[0m\u001b[0;34m,\u001b[0m \u001b[0mValueError\u001b[0m\u001b[0;34m)\u001b[0m\u001b[0;34m:\u001b[0m\u001b[0;34m\u001b[0m\u001b[0;34m\u001b[0m\u001b[0m\n\u001b[1;32m    182\u001b[0m       \u001b[0;31m# Note: convert_to_eager_tensor currently raises a ValueError, not a\u001b[0m\u001b[0;34m\u001b[0m\u001b[0;34m\u001b[0m\u001b[0;34m\u001b[0m\u001b[0m\n",
      "\u001b[0;32m~/anaconda3/envs/tensorflow/lib/python3.7/site-packages/tensorflow/python/ops/array_ops.py\u001b[0m in \u001b[0;36mgather\u001b[0;34m(***failed resolving arguments***)\u001b[0m\n\u001b[1;32m   4522\u001b[0m     \u001b[0;32mreturn\u001b[0m \u001b[0mparams\u001b[0m\u001b[0;34m.\u001b[0m\u001b[0msparse_read\u001b[0m\u001b[0;34m(\u001b[0m\u001b[0mindices\u001b[0m\u001b[0;34m,\u001b[0m \u001b[0mname\u001b[0m\u001b[0;34m=\u001b[0m\u001b[0mname\u001b[0m\u001b[0;34m)\u001b[0m\u001b[0;34m\u001b[0m\u001b[0;34m\u001b[0m\u001b[0m\n\u001b[1;32m   4523\u001b[0m   \u001b[0;32mexcept\u001b[0m \u001b[0mAttributeError\u001b[0m\u001b[0;34m:\u001b[0m\u001b[0;34m\u001b[0m\u001b[0;34m\u001b[0m\u001b[0m\n\u001b[0;32m-> 4524\u001b[0;31m     \u001b[0;32mreturn\u001b[0m \u001b[0mgen_array_ops\u001b[0m\u001b[0;34m.\u001b[0m\u001b[0mgather_v2\u001b[0m\u001b[0;34m(\u001b[0m\u001b[0mparams\u001b[0m\u001b[0;34m,\u001b[0m \u001b[0mindices\u001b[0m\u001b[0;34m,\u001b[0m \u001b[0maxis\u001b[0m\u001b[0;34m,\u001b[0m \u001b[0mname\u001b[0m\u001b[0;34m=\u001b[0m\u001b[0mname\u001b[0m\u001b[0;34m)\u001b[0m\u001b[0;34m\u001b[0m\u001b[0;34m\u001b[0m\u001b[0m\n\u001b[0m\u001b[1;32m   4525\u001b[0m \u001b[0;34m\u001b[0m\u001b[0m\n\u001b[1;32m   4526\u001b[0m \u001b[0;34m\u001b[0m\u001b[0m\n",
      "\u001b[0;32m~/anaconda3/envs/tensorflow/lib/python3.7/site-packages/tensorflow/python/ops/gen_array_ops.py\u001b[0m in \u001b[0;36mgather_v2\u001b[0;34m(params, indices, axis, batch_dims, name)\u001b[0m\n\u001b[1;32m   3753\u001b[0m         \u001b[0;32mpass\u001b[0m  \u001b[0;31m# Add nodes to the TensorFlow graph.\u001b[0m\u001b[0;34m\u001b[0m\u001b[0;34m\u001b[0m\u001b[0m\n\u001b[1;32m   3754\u001b[0m     \u001b[0;32mexcept\u001b[0m \u001b[0m_core\u001b[0m\u001b[0;34m.\u001b[0m\u001b[0m_NotOkStatusException\u001b[0m \u001b[0;32mas\u001b[0m \u001b[0me\u001b[0m\u001b[0;34m:\u001b[0m\u001b[0;34m\u001b[0m\u001b[0;34m\u001b[0m\u001b[0m\n\u001b[0;32m-> 3755\u001b[0;31m       \u001b[0m_ops\u001b[0m\u001b[0;34m.\u001b[0m\u001b[0mraise_from_not_ok_status\u001b[0m\u001b[0;34m(\u001b[0m\u001b[0me\u001b[0m\u001b[0;34m,\u001b[0m \u001b[0mname\u001b[0m\u001b[0;34m)\u001b[0m\u001b[0;34m\u001b[0m\u001b[0;34m\u001b[0m\u001b[0m\n\u001b[0m\u001b[1;32m   3756\u001b[0m   \u001b[0;31m# Add nodes to the TensorFlow graph.\u001b[0m\u001b[0;34m\u001b[0m\u001b[0;34m\u001b[0m\u001b[0;34m\u001b[0m\u001b[0m\n\u001b[1;32m   3757\u001b[0m   \u001b[0;32mif\u001b[0m \u001b[0mbatch_dims\u001b[0m \u001b[0;32mis\u001b[0m \u001b[0;32mNone\u001b[0m\u001b[0;34m:\u001b[0m\u001b[0;34m\u001b[0m\u001b[0;34m\u001b[0m\u001b[0m\n",
      "\u001b[0;32m~/anaconda3/envs/tensorflow/lib/python3.7/site-packages/tensorflow/python/framework/ops.py\u001b[0m in \u001b[0;36mraise_from_not_ok_status\u001b[0;34m(e, name)\u001b[0m\n\u001b[1;32m   6651\u001b[0m   \u001b[0mmessage\u001b[0m \u001b[0;34m=\u001b[0m \u001b[0me\u001b[0m\u001b[0;34m.\u001b[0m\u001b[0mmessage\u001b[0m \u001b[0;34m+\u001b[0m \u001b[0;34m(\u001b[0m\u001b[0;34m\" name: \"\u001b[0m \u001b[0;34m+\u001b[0m \u001b[0mname\u001b[0m \u001b[0;32mif\u001b[0m \u001b[0mname\u001b[0m \u001b[0;32mis\u001b[0m \u001b[0;32mnot\u001b[0m \u001b[0;32mNone\u001b[0m \u001b[0;32melse\u001b[0m \u001b[0;34m\"\"\u001b[0m\u001b[0;34m)\u001b[0m\u001b[0;34m\u001b[0m\u001b[0;34m\u001b[0m\u001b[0m\n\u001b[1;32m   6652\u001b[0m   \u001b[0;31m# pylint: disable=protected-access\u001b[0m\u001b[0;34m\u001b[0m\u001b[0;34m\u001b[0m\u001b[0;34m\u001b[0m\u001b[0m\n\u001b[0;32m-> 6653\u001b[0;31m   \u001b[0msix\u001b[0m\u001b[0;34m.\u001b[0m\u001b[0mraise_from\u001b[0m\u001b[0;34m(\u001b[0m\u001b[0mcore\u001b[0m\u001b[0;34m.\u001b[0m\u001b[0m_status_to_exception\u001b[0m\u001b[0;34m(\u001b[0m\u001b[0me\u001b[0m\u001b[0;34m.\u001b[0m\u001b[0mcode\u001b[0m\u001b[0;34m,\u001b[0m \u001b[0mmessage\u001b[0m\u001b[0;34m)\u001b[0m\u001b[0;34m,\u001b[0m \u001b[0;32mNone\u001b[0m\u001b[0;34m)\u001b[0m\u001b[0;34m\u001b[0m\u001b[0;34m\u001b[0m\u001b[0m\n\u001b[0m\u001b[1;32m   6654\u001b[0m   \u001b[0;31m# pylint: enable=protected-access\u001b[0m\u001b[0;34m\u001b[0m\u001b[0;34m\u001b[0m\u001b[0;34m\u001b[0m\u001b[0m\n\u001b[1;32m   6655\u001b[0m \u001b[0;34m\u001b[0m\u001b[0m\n",
      "\u001b[0;32m~/anaconda3/envs/tensorflow/lib/python3.7/site-packages/six.py\u001b[0m in \u001b[0;36mraise_from\u001b[0;34m(value, from_value)\u001b[0m\n",
      "\u001b[0;31mResourceExhaustedError\u001b[0m: OOM when allocating tensor with shape[275232,225,42] and type float on /job:localhost/replica:0/task:0/device:CPU:0 by allocator mklcpu [Op:GatherV2]"
     ]
    }
   ],
   "source": [
    "history = model.fit(pair, y_train, batch_size = 1024, epochs = 60, \n",
    "                    validation_split = 0.25, shuffle = True, callbacks = None,\n",
    "                    use_multiprocessing=True, workers=4)"
   ]
  },
  {
   "cell_type": "code",
   "execution_count": null,
   "metadata": {
    "id": "FjCSGjTCodyW"
   },
   "outputs": [],
   "source": [
    "learningCurve(history)"
   ]
  },
  {
   "cell_type": "code",
   "execution_count": null,
   "metadata": {
    "id": "6AsvW79QodyW"
   },
   "outputs": [],
   "source": [
    "X_test = pair_inputs(X_test)"
   ]
  },
  {
   "cell_type": "code",
   "execution_count": null,
   "metadata": {
    "id": "eYdCT0JqodyW"
   },
   "outputs": [],
   "source": [
    "y_pred = makeRoc(X_test.astype('float64'), y_test.astype('float64'), labels, model, outputSuffix='two-layer')"
   ]
  },
  {
   "cell_type": "code",
   "execution_count": null,
   "metadata": {
    "id": "JMZqQFzAodyW"
   },
   "outputs": [],
   "source": []
  }
 ],
 "metadata": {
  "accelerator": "GPU",
  "colab": {
   "collapsed_sections": [],
   "name": "Jet Flavor Large.ipynb",
   "provenance": []
  },
  "kernelspec": {
   "display_name": "MyEnv",
   "language": "python",
   "name": "myenv"
  },
  "language_info": {
   "codemirror_mode": {
    "name": "ipython",
    "version": 3
   },
   "file_extension": ".py",
   "mimetype": "text/x-python",
   "name": "python",
   "nbconvert_exporter": "python",
   "pygments_lexer": "ipython3",
   "version": "3.7.9"
  }
 },
 "nbformat": 4,
 "nbformat_minor": 4
}
