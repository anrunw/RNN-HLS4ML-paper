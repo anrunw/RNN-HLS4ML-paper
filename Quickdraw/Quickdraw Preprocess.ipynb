{
 "cells": [
  {
   "cell_type": "code",
   "execution_count": 1,
   "id": "cosmetic-personality",
   "metadata": {},
   "outputs": [],
   "source": [
    "import tensorflow as tf\n",
    "import keras\n",
    "from keras.layers import Input, Dense, Flatten, LSTM, Conv1D\n",
    "from keras.models import Model\n",
    "from keras.optimizers import Adam\n",
    "from sklearn.model_selection import train_test_split\n",
    "import os\n",
    "import h5py\n",
    "import pandas as pd\n",
    "import numpy as np\n",
    "import pathlib\n",
    "import functools\n",
    "import glob"
   ]
  },
  {
   "cell_type": "code",
   "execution_count": 75,
   "id": "medieval-enclosure",
   "metadata": {},
   "outputs": [],
   "source": [
    "ant = np.load('sketchrnn_ant.full.npz', allow_pickle = True, encoding='latin1')\n",
    "bee = np.load('sketchrnn_bee.full.npz', allow_pickle = True, encoding='latin1')\n",
    "butterfly = np.load('sketchrnn_butterfly.full.npz', allow_pickle = True, encoding='latin1')\n",
    "mosquito = np.load('sketchrnn_mosquito.full.npz', allow_pickle = True, encoding='latin1')\n",
    "snail = np.load('sketchrnn_snail.full.npz', allow_pickle = True, encoding='latin1')"
   ]
  },
  {
   "cell_type": "code",
   "execution_count": 158,
   "id": "native-feature",
   "metadata": {},
   "outputs": [],
   "source": [
    "anttrain = ant['train']"
   ]
  },
  {
   "cell_type": "code",
   "execution_count": 159,
   "id": "logical-mention",
   "metadata": {},
   "outputs": [],
   "source": [
    "beetrain = np.concatenate((bee['test'], bee['test']))"
   ]
  },
  {
   "cell_type": "code",
   "execution_count": 160,
   "id": "turkish-immune",
   "metadata": {},
   "outputs": [],
   "source": [
    "buttrain= np.concatenate((butterfly['test'], butterfly['test']))"
   ]
  },
  {
   "cell_type": "code",
   "execution_count": 161,
   "id": "specific-plaintiff",
   "metadata": {},
   "outputs": [],
   "source": [
    "mosqtrain = np.concatenate((mosquito['test'], mosquito['valid']))"
   ]
  },
  {
   "cell_type": "code",
   "execution_count": 162,
   "id": "neither-oklahoma",
   "metadata": {},
   "outputs": [],
   "source": [
    "snailtrain = np.concatenate((snail['train'], snail['valid']))"
   ]
  },
  {
   "cell_type": "code",
   "execution_count": 163,
   "id": "centered-footage",
   "metadata": {},
   "outputs": [],
   "source": [
    "X_train = np.concatenate((anttrain, beetrain, buttrain, mosqtrain, snailtrain))"
   ]
  },
  {
   "cell_type": "code",
   "execution_count": 164,
   "id": "thermal-primary",
   "metadata": {},
   "outputs": [
    {
     "data": {
      "text/plain": [
       "(549509,)"
      ]
     },
     "execution_count": 164,
     "metadata": {},
     "output_type": "execute_result"
    }
   ],
   "source": [
    "X_train.shape"
   ]
  },
  {
   "cell_type": "code",
   "execution_count": 165,
   "id": "legitimate-drove",
   "metadata": {},
   "outputs": [],
   "source": [
    "np.save('X_train', X_train)"
   ]
  },
  {
   "cell_type": "code",
   "execution_count": 195,
   "id": "brief-mason",
   "metadata": {},
   "outputs": [],
   "source": [
    "antlab = np.zeros(anttrain.shape)"
   ]
  },
  {
   "cell_type": "code",
   "execution_count": 196,
   "id": "emerging-capture",
   "metadata": {},
   "outputs": [],
   "source": [
    "beelab = np.zeros(beetrain.shape) + 1"
   ]
  },
  {
   "cell_type": "code",
   "execution_count": 197,
   "id": "protective-stream",
   "metadata": {},
   "outputs": [],
   "source": [
    "buttlab = np.zeros(buttrain.shape) + 2"
   ]
  },
  {
   "cell_type": "code",
   "execution_count": 198,
   "id": "english-architecture",
   "metadata": {},
   "outputs": [],
   "source": [
    "mosqlab = np.zeros(mosqtrain.shape) + 3"
   ]
  },
  {
   "cell_type": "code",
   "execution_count": 179,
   "id": "impaired-flexibility",
   "metadata": {},
   "outputs": [],
   "source": [
    "snaillab = np.zeros(snailtrain.shape) + 4"
   ]
  },
  {
   "cell_type": "code",
   "execution_count": 180,
   "id": "statutory-duplicate",
   "metadata": {},
   "outputs": [],
   "source": [
    "y_train = np.concatenate((antlab, beelab, buttlab, mosqlab, snaillab))"
   ]
  },
  {
   "cell_type": "code",
   "execution_count": 181,
   "id": "chronic-durham",
   "metadata": {},
   "outputs": [
    {
     "data": {
      "text/plain": [
       "(549509,)"
      ]
     },
     "execution_count": 181,
     "metadata": {},
     "output_type": "execute_result"
    }
   ],
   "source": [
    "y_train.shape"
   ]
  },
  {
   "cell_type": "code",
   "execution_count": 185,
   "id": "metropolitan-annex",
   "metadata": {},
   "outputs": [],
   "source": [
    "np.save('y_train', y_train)"
   ]
  },
  {
   "cell_type": "code",
   "execution_count": 191,
   "id": "important-channels",
   "metadata": {},
   "outputs": [
    {
     "data": {
      "text/plain": [
       "(46, 3)"
      ]
     },
     "execution_count": 191,
     "metadata": {},
     "output_type": "execute_result"
    }
   ],
   "source": [
    "X_train[2].shape"
   ]
  },
  {
   "cell_type": "code",
   "execution_count": 192,
   "id": "amateur-reducing",
   "metadata": {},
   "outputs": [],
   "source": [
    "anttest = ant['test']\n",
    "beetest = bee['test']\n",
    "butttest = butterfly['test']\n",
    "mosqtest = mosquito['test']\n",
    "snailtest = snail['test']"
   ]
  },
  {
   "cell_type": "code",
   "execution_count": 193,
   "id": "magnetic-solution",
   "metadata": {},
   "outputs": [],
   "source": [
    "X_test = np.concatenate((anttest, beetest, butttest, mosqtest, snailtest))"
   ]
  },
  {
   "cell_type": "code",
   "execution_count": 194,
   "id": "certain-hunter",
   "metadata": {},
   "outputs": [],
   "source": [
    "np.save('X_test', X_test)"
   ]
  },
  {
   "cell_type": "code",
   "execution_count": 199,
   "id": "average-diesel",
   "metadata": {},
   "outputs": [],
   "source": [
    "antlab = np.zeros(anttest.shape)\n",
    "beelab = np.zeros(beetest.shape) + 1\n",
    "buttlab = np.zeros(butttest.shape) + 2\n",
    "mosqlab = np.zeros(mosqtest.shape) + 3\n",
    "snaillab = np.zeros(snailtest.shape) + 4"
   ]
  },
  {
   "cell_type": "code",
   "execution_count": 200,
   "id": "spoken-weather",
   "metadata": {},
   "outputs": [],
   "source": [
    "y_test = np.concatenate((antlab, beelab, buttlab, mosqlab, snaillab))"
   ]
  },
  {
   "cell_type": "code",
   "execution_count": 201,
   "id": "accredited-expense",
   "metadata": {},
   "outputs": [
    {
     "data": {
      "text/plain": [
       "(12500,)"
      ]
     },
     "execution_count": 201,
     "metadata": {},
     "output_type": "execute_result"
    }
   ],
   "source": [
    "y_test.shape"
   ]
  },
  {
   "cell_type": "code",
   "execution_count": 202,
   "id": "finnish-mortality",
   "metadata": {},
   "outputs": [
    {
     "data": {
      "text/plain": [
       "(12500,)"
      ]
     },
     "execution_count": 202,
     "metadata": {},
     "output_type": "execute_result"
    }
   ],
   "source": [
    "X_test.shape"
   ]
  },
  {
   "cell_type": "code",
   "execution_count": 204,
   "id": "ambient-transportation",
   "metadata": {},
   "outputs": [],
   "source": [
    "np.save('y_test', y_test)"
   ]
  },
  {
   "cell_type": "code",
   "execution_count": 207,
   "id": "designing-romania",
   "metadata": {},
   "outputs": [],
   "source": [
    "np.save('X_test', X_test)"
   ]
  },
  {
   "cell_type": "code",
   "execution_count": null,
   "id": "approved-treaty",
   "metadata": {},
   "outputs": [],
   "source": []
  }
 ],
 "metadata": {
  "kernelspec": {
   "display_name": "Python 3",
   "language": "python",
   "name": "python3"
  },
  "language_info": {
   "codemirror_mode": {
    "name": "ipython",
    "version": 3
   },
   "file_extension": ".py",
   "mimetype": "text/x-python",
   "name": "python",
   "nbconvert_exporter": "python",
   "pygments_lexer": "ipython3",
   "version": "3.7.9"
  }
 },
 "nbformat": 4,
 "nbformat_minor": 5
}
